{
 "cells": [
  {
   "cell_type": "code",
   "execution_count": 128,
   "id": "1245c6e1-c512-4dc9-a03b-3d6c8503c5a1",
   "metadata": {},
   "outputs": [],
   "source": [
    "# Importing essential Libraries\n",
    "import numpy as np\n",
    "import pandas as pd\n",
    "from matplotlib import pyplot as plt\n",
    "%matplotlib inline\n",
    "import warnings\n",
    "warnings.simplefilter('ignore')"
   ]
  },
  {
   "cell_type": "code",
   "execution_count": 41,
   "id": "33b78201-eaf5-4be0-9160-90a7b6644f72",
   "metadata": {},
   "outputs": [
    {
     "data": {
      "text/html": [
       "<div>\n",
       "<style scoped>\n",
       "    .dataframe tbody tr th:only-of-type {\n",
       "        vertical-align: middle;\n",
       "    }\n",
       "\n",
       "    .dataframe tbody tr th {\n",
       "        vertical-align: top;\n",
       "    }\n",
       "\n",
       "    .dataframe thead th {\n",
       "        text-align: right;\n",
       "    }\n",
       "</style>\n",
       "<table border=\"1\" class=\"dataframe\">\n",
       "  <thead>\n",
       "    <tr style=\"text-align: right;\">\n",
       "      <th></th>\n",
       "      <th>Serial No.</th>\n",
       "      <th>GRE Score</th>\n",
       "      <th>TOEFL Score</th>\n",
       "      <th>University Rating</th>\n",
       "      <th>SOP</th>\n",
       "      <th>LOR</th>\n",
       "      <th>CGPA</th>\n",
       "      <th>Research</th>\n",
       "      <th>Chance of Admit</th>\n",
       "    </tr>\n",
       "  </thead>\n",
       "  <tbody>\n",
       "    <tr>\n",
       "      <th>0</th>\n",
       "      <td>1</td>\n",
       "      <td>337</td>\n",
       "      <td>118</td>\n",
       "      <td>4</td>\n",
       "      <td>4.5</td>\n",
       "      <td>4.5</td>\n",
       "      <td>9.65</td>\n",
       "      <td>1</td>\n",
       "      <td>0.92</td>\n",
       "    </tr>\n",
       "    <tr>\n",
       "      <th>1</th>\n",
       "      <td>2</td>\n",
       "      <td>324</td>\n",
       "      <td>107</td>\n",
       "      <td>4</td>\n",
       "      <td>4.0</td>\n",
       "      <td>4.5</td>\n",
       "      <td>8.87</td>\n",
       "      <td>1</td>\n",
       "      <td>0.76</td>\n",
       "    </tr>\n",
       "    <tr>\n",
       "      <th>2</th>\n",
       "      <td>3</td>\n",
       "      <td>316</td>\n",
       "      <td>104</td>\n",
       "      <td>3</td>\n",
       "      <td>3.0</td>\n",
       "      <td>3.5</td>\n",
       "      <td>8.00</td>\n",
       "      <td>1</td>\n",
       "      <td>0.72</td>\n",
       "    </tr>\n",
       "    <tr>\n",
       "      <th>3</th>\n",
       "      <td>4</td>\n",
       "      <td>322</td>\n",
       "      <td>110</td>\n",
       "      <td>3</td>\n",
       "      <td>3.5</td>\n",
       "      <td>2.5</td>\n",
       "      <td>8.67</td>\n",
       "      <td>1</td>\n",
       "      <td>0.80</td>\n",
       "    </tr>\n",
       "    <tr>\n",
       "      <th>4</th>\n",
       "      <td>5</td>\n",
       "      <td>314</td>\n",
       "      <td>103</td>\n",
       "      <td>2</td>\n",
       "      <td>2.0</td>\n",
       "      <td>3.0</td>\n",
       "      <td>8.21</td>\n",
       "      <td>0</td>\n",
       "      <td>0.65</td>\n",
       "    </tr>\n",
       "  </tbody>\n",
       "</table>\n",
       "</div>"
      ],
      "text/plain": [
       "   Serial No.  GRE Score  TOEFL Score  University Rating  SOP  LOR   CGPA  \\\n",
       "0           1        337          118                  4  4.5   4.5  9.65   \n",
       "1           2        324          107                  4  4.0   4.5  8.87   \n",
       "2           3        316          104                  3  3.0   3.5  8.00   \n",
       "3           4        322          110                  3  3.5   2.5  8.67   \n",
       "4           5        314          103                  2  2.0   3.0  8.21   \n",
       "\n",
       "   Research  Chance of Admit   \n",
       "0         1              0.92  \n",
       "1         1              0.76  \n",
       "2         1              0.72  \n",
       "3         1              0.80  \n",
       "4         0              0.65  "
      ]
     },
     "execution_count": 41,
     "metadata": {},
     "output_type": "execute_result"
    }
   ],
   "source": [
    "# Loading the dataset\n",
    "df = pd.read_csv('admission_predict.csv')\n",
    "df.head()"
   ]
  },
  {
   "cell_type": "markdown",
   "id": "c0c7721e-8972-456b-bfd5-88a598b6c05c",
   "metadata": {},
   "source": [
    "**Exploring the dataset**"
   ]
  },
  {
   "cell_type": "code",
   "execution_count": 44,
   "id": "ae1c9354-4d65-4621-9e76-cff473409cbc",
   "metadata": {},
   "outputs": [
    {
     "data": {
      "text/plain": [
       "(500, 9)"
      ]
     },
     "execution_count": 44,
     "metadata": {},
     "output_type": "execute_result"
    }
   ],
   "source": [
    "# Returns number of rows and columns of the dataset\n",
    "df.shape"
   ]
  },
  {
   "cell_type": "code",
   "execution_count": 46,
   "id": "634ce401-2e84-4ade-9b1c-ef19a2056472",
   "metadata": {},
   "outputs": [
    {
     "data": {
      "text/plain": [
       "Index(['Serial No.', 'GRE Score', 'TOEFL Score', 'University Rating', 'SOP',\n",
       "       'LOR ', 'CGPA', 'Research', 'Chance of Admit '],\n",
       "      dtype='object')"
      ]
     },
     "execution_count": 46,
     "metadata": {},
     "output_type": "execute_result"
    }
   ],
   "source": [
    "# Returns an object with all of the column headers\n",
    "df.columns"
   ]
  },
  {
   "cell_type": "code",
   "execution_count": 48,
   "id": "452029cc-994c-44f7-a5b9-996d34b39100",
   "metadata": {},
   "outputs": [
    {
     "name": "stdout",
     "output_type": "stream",
     "text": [
      "<class 'pandas.core.frame.DataFrame'>\n",
      "RangeIndex: 500 entries, 0 to 499\n",
      "Data columns (total 9 columns):\n",
      " #   Column             Non-Null Count  Dtype  \n",
      "---  ------             --------------  -----  \n",
      " 0   Serial No.         500 non-null    int64  \n",
      " 1   GRE Score          500 non-null    int64  \n",
      " 2   TOEFL Score        500 non-null    int64  \n",
      " 3   University Rating  500 non-null    int64  \n",
      " 4   SOP                500 non-null    float64\n",
      " 5   LOR                500 non-null    float64\n",
      " 6   CGPA               500 non-null    float64\n",
      " 7   Research           500 non-null    int64  \n",
      " 8   Chance of Admit    500 non-null    float64\n",
      "dtypes: float64(4), int64(5)\n",
      "memory usage: 35.3 KB\n"
     ]
    }
   ],
   "source": [
    "# Returns basic information on all columns\n",
    "df.info()"
   ]
  },
  {
   "cell_type": "code",
   "execution_count": 50,
   "id": "b42ecdb6-c407-4367-afba-ddea8de9014a",
   "metadata": {},
   "outputs": [
    {
     "data": {
      "text/html": [
       "<div>\n",
       "<style scoped>\n",
       "    .dataframe tbody tr th:only-of-type {\n",
       "        vertical-align: middle;\n",
       "    }\n",
       "\n",
       "    .dataframe tbody tr th {\n",
       "        vertical-align: top;\n",
       "    }\n",
       "\n",
       "    .dataframe thead th {\n",
       "        text-align: right;\n",
       "    }\n",
       "</style>\n",
       "<table border=\"1\" class=\"dataframe\">\n",
       "  <thead>\n",
       "    <tr style=\"text-align: right;\">\n",
       "      <th></th>\n",
       "      <th>count</th>\n",
       "      <th>mean</th>\n",
       "      <th>std</th>\n",
       "      <th>min</th>\n",
       "      <th>25%</th>\n",
       "      <th>50%</th>\n",
       "      <th>75%</th>\n",
       "      <th>max</th>\n",
       "    </tr>\n",
       "  </thead>\n",
       "  <tbody>\n",
       "    <tr>\n",
       "      <th>Serial No.</th>\n",
       "      <td>500.0</td>\n",
       "      <td>250.50000</td>\n",
       "      <td>144.481833</td>\n",
       "      <td>1.00</td>\n",
       "      <td>125.7500</td>\n",
       "      <td>250.50</td>\n",
       "      <td>375.25</td>\n",
       "      <td>500.00</td>\n",
       "    </tr>\n",
       "    <tr>\n",
       "      <th>GRE Score</th>\n",
       "      <td>500.0</td>\n",
       "      <td>316.47200</td>\n",
       "      <td>11.295148</td>\n",
       "      <td>290.00</td>\n",
       "      <td>308.0000</td>\n",
       "      <td>317.00</td>\n",
       "      <td>325.00</td>\n",
       "      <td>340.00</td>\n",
       "    </tr>\n",
       "    <tr>\n",
       "      <th>TOEFL Score</th>\n",
       "      <td>500.0</td>\n",
       "      <td>107.19200</td>\n",
       "      <td>6.081868</td>\n",
       "      <td>92.00</td>\n",
       "      <td>103.0000</td>\n",
       "      <td>107.00</td>\n",
       "      <td>112.00</td>\n",
       "      <td>120.00</td>\n",
       "    </tr>\n",
       "    <tr>\n",
       "      <th>University Rating</th>\n",
       "      <td>500.0</td>\n",
       "      <td>3.11400</td>\n",
       "      <td>1.143512</td>\n",
       "      <td>1.00</td>\n",
       "      <td>2.0000</td>\n",
       "      <td>3.00</td>\n",
       "      <td>4.00</td>\n",
       "      <td>5.00</td>\n",
       "    </tr>\n",
       "    <tr>\n",
       "      <th>SOP</th>\n",
       "      <td>500.0</td>\n",
       "      <td>3.37400</td>\n",
       "      <td>0.991004</td>\n",
       "      <td>1.00</td>\n",
       "      <td>2.5000</td>\n",
       "      <td>3.50</td>\n",
       "      <td>4.00</td>\n",
       "      <td>5.00</td>\n",
       "    </tr>\n",
       "    <tr>\n",
       "      <th>LOR</th>\n",
       "      <td>500.0</td>\n",
       "      <td>3.48400</td>\n",
       "      <td>0.925450</td>\n",
       "      <td>1.00</td>\n",
       "      <td>3.0000</td>\n",
       "      <td>3.50</td>\n",
       "      <td>4.00</td>\n",
       "      <td>5.00</td>\n",
       "    </tr>\n",
       "    <tr>\n",
       "      <th>CGPA</th>\n",
       "      <td>500.0</td>\n",
       "      <td>8.57644</td>\n",
       "      <td>0.604813</td>\n",
       "      <td>6.80</td>\n",
       "      <td>8.1275</td>\n",
       "      <td>8.56</td>\n",
       "      <td>9.04</td>\n",
       "      <td>9.92</td>\n",
       "    </tr>\n",
       "    <tr>\n",
       "      <th>Research</th>\n",
       "      <td>500.0</td>\n",
       "      <td>0.56000</td>\n",
       "      <td>0.496884</td>\n",
       "      <td>0.00</td>\n",
       "      <td>0.0000</td>\n",
       "      <td>1.00</td>\n",
       "      <td>1.00</td>\n",
       "      <td>1.00</td>\n",
       "    </tr>\n",
       "    <tr>\n",
       "      <th>Chance of Admit</th>\n",
       "      <td>500.0</td>\n",
       "      <td>0.72174</td>\n",
       "      <td>0.141140</td>\n",
       "      <td>0.34</td>\n",
       "      <td>0.6300</td>\n",
       "      <td>0.72</td>\n",
       "      <td>0.82</td>\n",
       "      <td>0.97</td>\n",
       "    </tr>\n",
       "  </tbody>\n",
       "</table>\n",
       "</div>"
      ],
      "text/plain": [
       "                   count       mean         std     min       25%     50%  \\\n",
       "Serial No.         500.0  250.50000  144.481833    1.00  125.7500  250.50   \n",
       "GRE Score          500.0  316.47200   11.295148  290.00  308.0000  317.00   \n",
       "TOEFL Score        500.0  107.19200    6.081868   92.00  103.0000  107.00   \n",
       "University Rating  500.0    3.11400    1.143512    1.00    2.0000    3.00   \n",
       "SOP                500.0    3.37400    0.991004    1.00    2.5000    3.50   \n",
       "LOR                500.0    3.48400    0.925450    1.00    3.0000    3.50   \n",
       "CGPA               500.0    8.57644    0.604813    6.80    8.1275    8.56   \n",
       "Research           500.0    0.56000    0.496884    0.00    0.0000    1.00   \n",
       "Chance of Admit    500.0    0.72174    0.141140    0.34    0.6300    0.72   \n",
       "\n",
       "                      75%     max  \n",
       "Serial No.         375.25  500.00  \n",
       "GRE Score          325.00  340.00  \n",
       "TOEFL Score        112.00  120.00  \n",
       "University Rating    4.00    5.00  \n",
       "SOP                  4.00    5.00  \n",
       "LOR                  4.00    5.00  \n",
       "CGPA                 9.04    9.92  \n",
       "Research             1.00    1.00  \n",
       "Chance of Admit      0.82    0.97  "
      ]
     },
     "execution_count": 50,
     "metadata": {},
     "output_type": "execute_result"
    }
   ],
   "source": [
    "# Return basic statistics on numeric columns\n",
    "df.describe().T"
   ]
  },
  {
   "cell_type": "code",
   "execution_count": 52,
   "id": "0b075077-29f9-4668-8425-d46bbdae8b6c",
   "metadata": {},
   "outputs": [
    {
     "data": {
      "text/plain": [
       "Serial No.             int64\n",
       "GRE Score              int64\n",
       "TOEFL Score            int64\n",
       "University Rating      int64\n",
       "SOP                  float64\n",
       "LOR                  float64\n",
       "CGPA                 float64\n",
       "Research               int64\n",
       "Chance of Admit      float64\n",
       "dtype: object"
      ]
     },
     "execution_count": 52,
     "metadata": {},
     "output_type": "execute_result"
    }
   ],
   "source": [
    "# Returns different datatypes for each columns\n",
    "df.dtypes"
   ]
  },
  {
   "cell_type": "code",
   "execution_count": 76,
   "id": "a5759bcb-fc33-438b-acb2-a330c497f618",
   "metadata": {},
   "outputs": [
    {
     "data": {
      "text/plain": [
       "GRE                  0\n",
       "TOEFL                0\n",
       "University Rating    0\n",
       "SOP                  0\n",
       "LOR                  0\n",
       "CGPA                 0\n",
       "Research             0\n",
       "Probability          0\n",
       "dtype: int64"
      ]
     },
     "execution_count": 76,
     "metadata": {},
     "output_type": "execute_result"
    }
   ],
   "source": [
    "# Returns true for a column having null values, else false\n",
    "df.isnull().sum()"
   ]
  },
  {
   "cell_type": "code",
   "execution_count": 56,
   "id": "8b2dbf8c-b81b-4455-bd25-4cc34ee027ac",
   "metadata": {},
   "outputs": [
    {
     "data": {
      "text/html": [
       "<div>\n",
       "<style scoped>\n",
       "    .dataframe tbody tr th:only-of-type {\n",
       "        vertical-align: middle;\n",
       "    }\n",
       "\n",
       "    .dataframe tbody tr th {\n",
       "        vertical-align: top;\n",
       "    }\n",
       "\n",
       "    .dataframe thead th {\n",
       "        text-align: right;\n",
       "    }\n",
       "</style>\n",
       "<table border=\"1\" class=\"dataframe\">\n",
       "  <thead>\n",
       "    <tr style=\"text-align: right;\">\n",
       "      <th></th>\n",
       "      <th>Serial No.</th>\n",
       "      <th>GRE</th>\n",
       "      <th>TOEFL</th>\n",
       "      <th>University Rating</th>\n",
       "      <th>SOP</th>\n",
       "      <th>LOR</th>\n",
       "      <th>CGPA</th>\n",
       "      <th>Research</th>\n",
       "      <th>Probability</th>\n",
       "    </tr>\n",
       "  </thead>\n",
       "  <tbody>\n",
       "    <tr>\n",
       "      <th>0</th>\n",
       "      <td>1</td>\n",
       "      <td>337</td>\n",
       "      <td>118</td>\n",
       "      <td>4</td>\n",
       "      <td>4.5</td>\n",
       "      <td>4.5</td>\n",
       "      <td>9.65</td>\n",
       "      <td>1</td>\n",
       "      <td>0.92</td>\n",
       "    </tr>\n",
       "    <tr>\n",
       "      <th>1</th>\n",
       "      <td>2</td>\n",
       "      <td>324</td>\n",
       "      <td>107</td>\n",
       "      <td>4</td>\n",
       "      <td>4.0</td>\n",
       "      <td>4.5</td>\n",
       "      <td>8.87</td>\n",
       "      <td>1</td>\n",
       "      <td>0.76</td>\n",
       "    </tr>\n",
       "    <tr>\n",
       "      <th>2</th>\n",
       "      <td>3</td>\n",
       "      <td>316</td>\n",
       "      <td>104</td>\n",
       "      <td>3</td>\n",
       "      <td>3.0</td>\n",
       "      <td>3.5</td>\n",
       "      <td>8.00</td>\n",
       "      <td>1</td>\n",
       "      <td>0.72</td>\n",
       "    </tr>\n",
       "    <tr>\n",
       "      <th>3</th>\n",
       "      <td>4</td>\n",
       "      <td>322</td>\n",
       "      <td>110</td>\n",
       "      <td>3</td>\n",
       "      <td>3.5</td>\n",
       "      <td>2.5</td>\n",
       "      <td>8.67</td>\n",
       "      <td>1</td>\n",
       "      <td>0.80</td>\n",
       "    </tr>\n",
       "    <tr>\n",
       "      <th>4</th>\n",
       "      <td>5</td>\n",
       "      <td>314</td>\n",
       "      <td>103</td>\n",
       "      <td>2</td>\n",
       "      <td>2.0</td>\n",
       "      <td>3.0</td>\n",
       "      <td>8.21</td>\n",
       "      <td>0</td>\n",
       "      <td>0.65</td>\n",
       "    </tr>\n",
       "  </tbody>\n",
       "</table>\n",
       "</div>"
      ],
      "text/plain": [
       "   Serial No.  GRE  TOEFL  University Rating  SOP  LOR  CGPA  Research  \\\n",
       "0           1  337    118                  4  4.5  4.5  9.65         1   \n",
       "1           2  324    107                  4  4.0  4.5  8.87         1   \n",
       "2           3  316    104                  3  3.0  3.5  8.00         1   \n",
       "3           4  322    110                  3  3.5  2.5  8.67         1   \n",
       "4           5  314    103                  2  2.0  3.0  8.21         0   \n",
       "\n",
       "   Probability  \n",
       "0         0.92  \n",
       "1         0.76  \n",
       "2         0.72  \n",
       "3         0.80  \n",
       "4         0.65  "
      ]
     },
     "execution_count": 56,
     "metadata": {},
     "output_type": "execute_result"
    }
   ],
   "source": [
    "# Renaming the columns with appropriate names\n",
    "df = df.rename(columns={'GRE Score':'GRE','TOEFL Score':'TOEFL','Chance of Admit ':'Probability','LOR ':'LOR'})\n",
    "df.head()"
   ]
  },
  {
   "cell_type": "markdown",
   "id": "43c6e9ba-d369-4af7-8d84-e72dd3ba203c",
   "metadata": {},
   "source": [
    "**Data Visualization**"
   ]
  },
  {
   "cell_type": "code",
   "execution_count": 59,
   "id": "24b4a33a-f553-4ec8-9347-0c2bff8905d0",
   "metadata": {},
   "outputs": [
    {
     "data": {
      "image/png": "[encoded data removed]",
      "text/plain": [
       "<Figure size 640x480 with 1 Axes>"
      ]
     },
     "metadata": {},
     "output_type": "display_data"
    }
   ],
   "source": [
    "# Visualizing the feature GRE\n",
    "fig = plt.hist(df['GRE'],rwidth=0.7)\n",
    "plt.title('Distribution of GRE Scores')\n",
    "plt.xlabel('GRE Scores')\n",
    "plt.ylabel('Count')\n",
    "plt.show()"
   ]
  },
  {
   "cell_type": "code",
   "execution_count": 61,
   "id": "a83febce-bede-4dcf-ad3b-307234ac8d08",
   "metadata": {},
   "outputs": [
    {
     "data": {
      "image/png": "[encoded data removed]",
      "text/plain": [
       "<Figure size 640x480 with 1 Axes>"
      ]
     },
     "metadata": {},
     "output_type": "display_data"
    }
   ],
   "source": [
    "# Visualizing the feature TOEFL\n",
    "fig = plt.hist(df['TOEFL'],rwidth=0.7)\n",
    "plt.title('Distribution of TOEFl Scores')\n",
    "plt.xlabel('TOEFL Scores')\n",
    "plt.ylabel('Count')\n",
    "plt.show()"
   ]
  },
  {
   "cell_type": "code",
   "execution_count": 63,
   "id": "cf1edcce-1ff4-47bb-a24f-bf7e327309fa",
   "metadata": {},
   "outputs": [
    {
     "data": {
      "image/png": "[encoded data removed]",
      "text/plain": [
       "<Figure size 640x480 with 1 Axes>"
      ]
     },
     "metadata": {},
     "output_type": "display_data"
    }
   ],
   "source": [
    "# Visualizing the feature University Rating\n",
    "fig = plt.hist(df['University Rating'],rwidth=0.7)\n",
    "plt.title('Distribution of University Rating')\n",
    "plt.xlabel('TOEFL Scores')\n",
    "plt.ylabel('Count')\n",
    "plt.show()"
   ]
  },
  {
   "cell_type": "code",
   "execution_count": 65,
   "id": "be2a1e32-6302-4ed5-9e25-120c543a01e6",
   "metadata": {},
   "outputs": [
    {
     "data": {
      "image/png": "[encoded data removed]",
      "text/plain": [
       "<Figure size 640x480 with 1 Axes>"
      ]
     },
     "metadata": {},
     "output_type": "display_data"
    }
   ],
   "source": [
    "# Visualizing the feature SOP\n",
    "fig = plt.hist(df['SOP'],rwidth=0.7)\n",
    "plt.title('Distribution of SOP ')\n",
    "plt.xlabel('TOEFL Scores')\n",
    "plt.ylabel('Count')\n",
    "plt.show()"
   ]
  },
  {
   "cell_type": "code",
   "execution_count": 67,
   "id": "bc52b0c0-e397-4723-a043-0bec438270fd",
   "metadata": {},
   "outputs": [
    {
     "data": {
      "image/png": "[encoded data removed]",
      "text/plain": [
       "<Figure size 640x480 with 1 Axes>"
      ]
     },
     "metadata": {},
     "output_type": "display_data"
    }
   ],
   "source": [
    "# Visualizing the feature LOR\n",
    "fig = plt.hist(df['LOR'],rwidth=0.7)\n",
    "plt.title('Distribution of LOR ')\n",
    "plt.xlabel('LOR Scores')\n",
    "plt.ylabel('Count')\n",
    "plt.show()"
   ]
  },
  {
   "cell_type": "code",
   "execution_count": 69,
   "id": "85dfd2f3-5db0-455a-bfe1-1440ca2b4289",
   "metadata": {},
   "outputs": [
    {
     "data": {
      "image/png": "[encoded data removed]",
      "text/plain": [
       "<Figure size 640x480 with 1 Axes>"
      ]
     },
     "metadata": {},
     "output_type": "display_data"
    }
   ],
   "source": [
    "# Visualizing the feature CGPA\n",
    "fig = plt.hist(df['CGPA'],rwidth=0.7)\n",
    "plt.title('Distribution of CGPA ')\n",
    "plt.xlabel('CGPA Scores')\n",
    "plt.ylabel('Count')\n",
    "plt.show()"
   ]
  },
  {
   "cell_type": "code",
   "execution_count": 71,
   "id": "eecf29d9-5fd4-494a-9d0e-0482843ace69",
   "metadata": {},
   "outputs": [
    {
     "data": {
      "image/png": "[encoded data removed]",
      "text/plain": [
       "<Figure size 640x480 with 1 Axes>"
      ]
     },
     "metadata": {},
     "output_type": "display_data"
    }
   ],
   "source": [
    "# Visualizing the feature TOEFL\n",
    "fig = plt.hist(df['Research'],rwidth=0.7)\n",
    "plt.title('Distribution of Research ')\n",
    "plt.xlabel('Research Scores')\n",
    "plt.ylabel('Count')\n",
    "plt.show()"
   ]
  },
  {
   "cell_type": "markdown",
   "id": "1a6ec807-2f2b-4139-ace2-c5f42fec920e",
   "metadata": {},
   "source": [
    "**Data Cleaning**"
   ]
  },
  {
   "cell_type": "code",
   "execution_count": 74,
   "id": "b52be781-5e13-4946-8009-fa3c7e8152c2",
   "metadata": {},
   "outputs": [
    {
     "data": {
      "text/html": [
       "<div>\n",
       "<style scoped>\n",
       "    .dataframe tbody tr th:only-of-type {\n",
       "        vertical-align: middle;\n",
       "    }\n",
       "\n",
       "    .dataframe tbody tr th {\n",
       "        vertical-align: top;\n",
       "    }\n",
       "\n",
       "    .dataframe thead th {\n",
       "        text-align: right;\n",
       "    }\n",
       "</style>\n",
       "<table border=\"1\" class=\"dataframe\">\n",
       "  <thead>\n",
       "    <tr style=\"text-align: right;\">\n",
       "      <th></th>\n",
       "      <th>GRE</th>\n",
       "      <th>TOEFL</th>\n",
       "      <th>University Rating</th>\n",
       "      <th>SOP</th>\n",
       "      <th>LOR</th>\n",
       "      <th>CGPA</th>\n",
       "      <th>Research</th>\n",
       "      <th>Probability</th>\n",
       "    </tr>\n",
       "  </thead>\n",
       "  <tbody>\n",
       "    <tr>\n",
       "      <th>0</th>\n",
       "      <td>337</td>\n",
       "      <td>118</td>\n",
       "      <td>4</td>\n",
       "      <td>4.5</td>\n",
       "      <td>4.5</td>\n",
       "      <td>9.65</td>\n",
       "      <td>1</td>\n",
       "      <td>0.92</td>\n",
       "    </tr>\n",
       "    <tr>\n",
       "      <th>1</th>\n",
       "      <td>324</td>\n",
       "      <td>107</td>\n",
       "      <td>4</td>\n",
       "      <td>4.0</td>\n",
       "      <td>4.5</td>\n",
       "      <td>8.87</td>\n",
       "      <td>1</td>\n",
       "      <td>0.76</td>\n",
       "    </tr>\n",
       "    <tr>\n",
       "      <th>2</th>\n",
       "      <td>316</td>\n",
       "      <td>104</td>\n",
       "      <td>3</td>\n",
       "      <td>3.0</td>\n",
       "      <td>3.5</td>\n",
       "      <td>8.00</td>\n",
       "      <td>1</td>\n",
       "      <td>0.72</td>\n",
       "    </tr>\n",
       "    <tr>\n",
       "      <th>3</th>\n",
       "      <td>322</td>\n",
       "      <td>110</td>\n",
       "      <td>3</td>\n",
       "      <td>3.5</td>\n",
       "      <td>2.5</td>\n",
       "      <td>8.67</td>\n",
       "      <td>1</td>\n",
       "      <td>0.80</td>\n",
       "    </tr>\n",
       "    <tr>\n",
       "      <th>4</th>\n",
       "      <td>314</td>\n",
       "      <td>103</td>\n",
       "      <td>2</td>\n",
       "      <td>2.0</td>\n",
       "      <td>3.0</td>\n",
       "      <td>8.21</td>\n",
       "      <td>0</td>\n",
       "      <td>0.65</td>\n",
       "    </tr>\n",
       "  </tbody>\n",
       "</table>\n",
       "</div>"
      ],
      "text/plain": [
       "   GRE  TOEFL  University Rating  SOP  LOR  CGPA  Research  Probability\n",
       "0  337    118                  4  4.5  4.5  9.65         1         0.92\n",
       "1  324    107                  4  4.0  4.5  8.87         1         0.76\n",
       "2  316    104                  3  3.0  3.5  8.00         1         0.72\n",
       "3  322    110                  3  3.5  2.5  8.67         1         0.80\n",
       "4  314    103                  2  2.0  3.0  8.21         0         0.65"
      ]
     },
     "execution_count": 74,
     "metadata": {},
     "output_type": "execute_result"
    }
   ],
   "source": [
    "# Removing the serial no, column\n",
    "df.drop('Serial No.', axis='columns', inplace=True)\n",
    "df.head()"
   ]
  },
  {
   "cell_type": "code",
   "execution_count": 96,
   "id": "9db51bb0-c220-4a28-bb4d-7fc6486e4164",
   "metadata": {},
   "outputs": [
    {
     "data": {
      "text/plain": [
       "GRE                  0\n",
       "TOEFL                0\n",
       "University Rating    0\n",
       "SOP                  0\n",
       "LOR                  0\n",
       "CGPA                 0\n",
       "Research             0\n",
       "Probability          0\n",
       "dtype: int64"
      ]
     },
     "execution_count": 96,
     "metadata": {},
     "output_type": "execute_result"
    }
   ],
   "source": [
    "df_copy = df.copy(deep=True)\n",
    "df_copy[['GRE','TOEFL','University Rating','SOP','LOR','CGPA']] = df_copy[['GRE',\n",
    "                            'TOEFL','University Rating','SOP','LOR','CGPA']].replace(0,np.NaN)\n",
    "df_copy.isnull().sum()"
   ]
  },
  {
   "cell_type": "markdown",
   "id": "94239d00-92f3-489f-b006-8e764d79cc6d",
   "metadata": {},
   "source": [
    "### Model Building"
   ]
  },
  {
   "cell_type": "code",
   "execution_count": 98,
   "id": "0bd16bee-91c3-4061-bd18-0ebf1b814b03",
   "metadata": {},
   "outputs": [],
   "source": [
    "# Splitting the dataset in features and label\n",
    "X = df_copy.drop('Probability',axis='columns')\n",
    "y = df_copy['Probability']"
   ]
  },
  {
   "cell_type": "code",
   "execution_count": 83,
   "id": "660d4170-fd63-4bdf-afa6-0673a14d66eb",
   "metadata": {},
   "outputs": [],
   "source": [
    "# Using GridSearchCV to find the best algorithm for this problem\n",
    "from sklearn.model_selection import GridSearchCV\n",
    "from sklearn.linear_model import LinearRegression\n",
    "from sklearn.linear_model import Lasso\n",
    "from sklearn.svm import SVR\n",
    "from sklearn.tree import DecisionTreeRegressor\n",
    "from sklearn.ensemble import RandomForestRegressor\n",
    "from sklearn.neighbors import KNeighborsRegressor"
   ]
  },
  {
   "cell_type": "code",
   "execution_count": 114,
   "id": "6788d0ee-83ad-4fdc-8117-36428c28563a",
   "metadata": {},
   "outputs": [
    {
     "data": {
      "text/html": [
       "<div>\n",
       "<style scoped>\n",
       "    .dataframe tbody tr th:only-of-type {\n",
       "        vertical-align: middle;\n",
       "    }\n",
       "\n",
       "    .dataframe tbody tr th {\n",
       "        vertical-align: top;\n",
       "    }\n",
       "\n",
       "    .dataframe thead th {\n",
       "        text-align: right;\n",
       "    }\n",
       "</style>\n",
       "<table border=\"1\" class=\"dataframe\">\n",
       "  <thead>\n",
       "    <tr style=\"text-align: right;\">\n",
       "      <th></th>\n",
       "      <th>model</th>\n",
       "      <th>best_parameters</th>\n",
       "      <th>score</th>\n",
       "    </tr>\n",
       "  </thead>\n",
       "  <tbody>\n",
       "    <tr>\n",
       "      <th>0</th>\n",
       "      <td>linear_regression</td>\n",
       "      <td>{}</td>\n",
       "      <td>0.810802</td>\n",
       "    </tr>\n",
       "    <tr>\n",
       "      <th>1</th>\n",
       "      <td>lasso</td>\n",
       "      <td>{'alpha': 1, 'selection': 'random'}</td>\n",
       "      <td>0.215088</td>\n",
       "    </tr>\n",
       "    <tr>\n",
       "      <th>2</th>\n",
       "      <td>svr</td>\n",
       "      <td>{'gamma': 'scale'}</td>\n",
       "      <td>0.654099</td>\n",
       "    </tr>\n",
       "    <tr>\n",
       "      <th>3</th>\n",
       "      <td>decision_tree</td>\n",
       "      <td>{'criterion': 'squared_error', 'splitter': 'ra...</td>\n",
       "      <td>0.575607</td>\n",
       "    </tr>\n",
       "    <tr>\n",
       "      <th>4</th>\n",
       "      <td>random_forest</td>\n",
       "      <td>{'n_estimators': 20}</td>\n",
       "      <td>0.774268</td>\n",
       "    </tr>\n",
       "    <tr>\n",
       "      <th>5</th>\n",
       "      <td>knn</td>\n",
       "      <td>{'n_neighbors': 20}</td>\n",
       "      <td>0.723017</td>\n",
       "    </tr>\n",
       "  </tbody>\n",
       "</table>\n",
       "</div>"
      ],
      "text/plain": [
       "               model                                    best_parameters  \\\n",
       "0  linear_regression                                                 {}   \n",
       "1              lasso                {'alpha': 1, 'selection': 'random'}   \n",
       "2                svr                                 {'gamma': 'scale'}   \n",
       "3      decision_tree  {'criterion': 'squared_error', 'splitter': 'ra...   \n",
       "4      random_forest                               {'n_estimators': 20}   \n",
       "5                knn                                {'n_neighbors': 20}   \n",
       "\n",
       "      score  \n",
       "0  0.810802  \n",
       "1  0.215088  \n",
       "2  0.654099  \n",
       "3  0.575607  \n",
       "4  0.774268  \n",
       "5  0.723017  "
      ]
     },
     "execution_count": 114,
     "metadata": {},
     "output_type": "execute_result"
    }
   ],
   "source": [
    "# Creating a function to calculate best model for this problem\n",
    "def find_best_model(X,y):\n",
    "    models = {\n",
    "        'linear_regression': {\n",
    "            'model':LinearRegression(),\n",
    "            'parameters': {\n",
    "                # 'normalize': [True,False]\n",
    "            }\n",
    "        },\n",
    "        'lasso': {\n",
    "            'model': Lasso(),\n",
    "            'parameters': {\n",
    "                'alpha': [1,2],\n",
    "                'selection': ['random','cyclic']\n",
    "            }\n",
    "        },\n",
    "        'svr': {\n",
    "            'model': SVR(),\n",
    "            'parameters': {\n",
    "                'gamma': ['auto','scale']\n",
    "            }\n",
    "        },\n",
    "        'decision_tree': {\n",
    "            'model': DecisionTreeRegressor(),\n",
    "            'parameters': {\n",
    "                'criterion': ['squared_error','friedman_mse'],\n",
    "                'splitter': ['best','random']\n",
    "            }\n",
    "        },\n",
    "        'random_forest': {\n",
    "            'model': RandomForestRegressor(criterion='squared_error'),\n",
    "            'parameters': {\n",
    "                'n_estimators': [5,10,15,20]\n",
    "            }\n",
    "        },\n",
    "        'knn': {\n",
    "            'model': KNeighborsRegressor(algorithm='auto'),\n",
    "            'parameters': {\n",
    "                'n_neighbors': [2,5,10,20]\n",
    "            }\n",
    "        }\n",
    "    }\n",
    "\n",
    "    scores = []\n",
    "    for model_name, model_params in models.items():\n",
    "        gs = GridSearchCV(model_params['model'],model_params['parameters'],cv=5,return_train_score=False,error_score='raise')\n",
    "        gs.fit(X,y)\n",
    "        scores.append({\n",
    "            'model':model_name,\n",
    "            'best_parameters': gs.best_params_,\n",
    "            'score': gs.best_score_\n",
    "        })\n",
    "\n",
    "    return pd.DataFrame(scores,columns=['model','best_parameters','score'])\n",
    "\n",
    "find_best_model(X,y)"
   ]
  },
  {
   "cell_type": "markdown",
   "id": "a751a0e5-2d41-4cdc-97ae-a6b59576a3b5",
   "metadata": {},
   "source": [
    "**Since Linear Regression algorithm has the highest accuracy, the model selected for this problem is Linear Regression.**"
   ]
  },
  {
   "cell_type": "code",
   "execution_count": 117,
   "id": "abbb9517-1662-4bbe-90e1-e319d5c5d5f1",
   "metadata": {},
   "outputs": [
    {
     "name": "stdout",
     "output_type": "stream",
     "text": [
      "Highest Accuracy: 81%\n"
     ]
    }
   ],
   "source": [
    "# Using cross_val_score for gaining highest accuracy\n",
    "from sklearn.model_selection import cross_val_score\n",
    "scores = cross_val_score(LinearRegression(),X,y,cv=5)\n",
    "print('Highest Accuracy: {}%'.format(round(sum(scores)*100/len(scores)),3))"
   ]
  },
  {
   "cell_type": "code",
   "execution_count": 119,
   "id": "10afc2d6-d86b-4478-89c2-22f7f4dcebb7",
   "metadata": {},
   "outputs": [
    {
     "name": "stdout",
     "output_type": "stream",
     "text": [
      "400 100\n"
     ]
    }
   ],
   "source": [
    "# Splitting dataset into train and test samples\n",
    "from sklearn.model_selection import train_test_split\n",
    "X_train,X_test,y_train,y_test = train_test_split(X,y,test_size=0.2,random_state=5)\n",
    "print(len(X_train),len(X_test))"
   ]
  },
  {
   "cell_type": "code",
   "execution_count": 121,
   "id": "e4d35cd3-4176-43b9-8394-0577b9fec862",
   "metadata": {},
   "outputs": [
    {
     "data": {
      "text/plain": [
       "0.8214787365889664"
      ]
     },
     "execution_count": 121,
     "metadata": {},
     "output_type": "execute_result"
    }
   ],
   "source": [
    "# Creating Linear Regressioin Model\n",
    "model = LinearRegression()\n",
    "model.fit(X_train,y_train)\n",
    "model.score(X_test,y_test)"
   ]
  },
  {
   "cell_type": "markdown",
   "id": "9ddf71c8-f20d-40e8-9919-b995618dfa1d",
   "metadata": {},
   "source": [
    "**Predicting the values using our trained model**"
   ]
  },
  {
   "cell_type": "code",
   "execution_count": 130,
   "id": "66892bb7-eb2a-486f-bac8-bb457949ff7a",
   "metadata": {},
   "outputs": [
    {
     "name": "stdout",
     "output_type": "stream",
     "text": [
      "Chance of getting into UCLA is 92.855%\n"
     ]
    }
   ],
   "source": [
    "# Prediction 1\n",
    "# Input in the form: GRE,TOEFl, University Rating, SOP, LOR, CGPA, Research\n",
    "print('Chance of getting into UCLA is {}%'.format(round(model.predict([[337,118,4,4.5,4.5,9.65,0]])[0]*100,3)))"
   ]
  },
  {
   "cell_type": "code",
   "execution_count": 132,
   "id": "1347eb69-c2e5-47cd-afe1-bc265ced01c9",
   "metadata": {},
   "outputs": [
    {
     "name": "stdout",
     "output_type": "stream",
     "text": [
      "Chance of getting into UCLA is 73.627%\n"
     ]
    }
   ],
   "source": [
    "# Prediction 1\n",
    "# Input in the form: GRE,TOEFl, University Rating, SOP, LOR, CGPA, Research\n",
    "print('Chance of getting into UCLA is {}%'.format(round(model.predict([[320,113,2,2.0,2.5,8.64,1]])[0]*100,3)))"
   ]
  },
  {
   "cell_type": "code",
   "execution_count": null,
   "id": "80b5622a-f4b2-41e8-86ac-1a415448914a",
   "metadata": {},
   "outputs": [],
   "source": []
  },
  {
   "cell_type": "code",
   "execution_count": null,
   "id": "62673d07-2b3a-4760-b74d-31f1ddf7b5d0",
   "metadata": {},
   "outputs": [],
   "source": []
  },
  {
   "cell_type": "code",
   "execution_count": null,
   "id": "375a9bc4-70a0-4d18-9489-58749c07b83a",
   "metadata": {},
   "outputs": [],
   "source": []
  },
  {
   "cell_type": "code",
   "execution_count": null,
   "id": "b89ab17f-8ffd-49ce-bdbf-c1a6dc94c3bd",
   "metadata": {},
   "outputs": [],
   "source": []
  },
  {
   "cell_type": "code",
   "execution_count": null,
   "id": "214158a2-20d5-4ecd-8d47-73826250e36f",
   "metadata": {},
   "outputs": [],
   "source": []
  },
  {
   "cell_type": "code",
   "execution_count": null,
   "id": "3a73ca34-c063-4777-98c8-217dcfb8cd0d",
   "metadata": {},
   "outputs": [],
   "source": []
  },
  {
   "cell_type": "code",
   "execution_count": null,
   "id": "a60b43ac-2b1f-4133-a040-f1951091557d",
   "metadata": {},
   "outputs": [],
   "source": []
  },
  {
   "cell_type": "code",
   "execution_count": null,
   "id": "0c32813f-f498-4e94-a96a-b11e2ebd8912",
   "metadata": {},
   "outputs": [],
   "source": []
  },
  {
   "cell_type": "code",
   "execution_count": null,
   "id": "0b8776a0-8168-4469-87ef-1c1e57c1e0ca",
   "metadata": {},
   "outputs": [],
   "source": []
  },
  {
   "cell_type": "code",
   "execution_count": null,
   "id": "b9d1f81c-b7f4-4a47-a44b-31d1d3ba301d",
   "metadata": {},
   "outputs": [],
   "source": []
  },
  {
   "cell_type": "code",
   "execution_count": null,
   "id": "d720c081-fe56-4b0d-a37b-843d040c428b",
   "metadata": {},
   "outputs": [],
   "source": []
  },
  {
   "cell_type": "code",
   "execution_count": null,
   "id": "3d5c28ab-31e2-4d13-895a-9fbd3bd62c61",
   "metadata": {},
   "outputs": [],
   "source": []
  },
  {
   "cell_type": "code",
   "execution_count": null,
   "id": "e4beacfa-eed5-4c1f-8036-4b72c9a9f883",
   "metadata": {},
   "outputs": [],
   "source": []
  }
 ],
 "metadata": {
  "kernelspec": {
   "display_name": "Python 3 (ipykernel)",
   "language": "python",
   "name": "python3"
  },
  "language_info": {
   "codemirror_mode": {
    "name": "ipython",
    "version": 3
   },
   "file_extension": ".py",
   "mimetype": "text/x-python",
   "name": "python",
   "nbconvert_exporter": "python",
   "pygments_lexer": "ipython3",
   "version": "3.12.3"
  }
 },
 "nbformat": 4,
 "nbformat_minor": 5
}
