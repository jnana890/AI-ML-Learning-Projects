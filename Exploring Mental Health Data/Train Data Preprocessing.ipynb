{
 "cells": [
  {
   "cell_type": "markdown",
   "id": "5c56ca15-38d0-4885-93cf-95bbdb3124d9",
   "metadata": {
    "editable": true,
    "slideshow": {
     "slide_type": ""
    },
    "tags": []
   },
   "source": [
    "## *Step-1: Business Problem Understanding*\n",
    "- predict Whether a person will get depressed or not."
   ]
  },
  {
   "cell_type": "markdown",
   "id": "9af33614-a5a7-4796-baa6-aeffbbf05955",
   "metadata": {},
   "source": [
    "## *Step-2: Data Understanding*"
   ]
  },
  {
   "cell_type": "markdown",
   "id": "5d1d8d84-2ebb-4743-8b30-6a2e1aa3aa4d",
   "metadata": {},
   "source": [
    "**Import libraries**"
   ]
  },
  {
   "cell_type": "code",
   "execution_count": 2,
   "id": "5a1a5947-9bde-4580-b69e-c78e5b47271d",
   "metadata": {},
   "outputs": [],
   "source": [
    "import numpy as np\n",
    "import pandas as pd\n",
    "import matplotlib.pyplot as plt\n",
    "import seaborn as sns\n",
    "import warnings\n",
    "warnings.simplefilter('ignore')"
   ]
  },
  {
   "cell_type": "markdown",
   "id": "a9b406dd-67c8-41d5-9821-686308e38e92",
   "metadata": {},
   "source": [
    "**Load the data**"
   ]
  },
  {
   "cell_type": "code",
   "execution_count": 28,
   "id": "236a62b6-faf9-42fb-bb37-f1eb49fdb810",
   "metadata": {},
   "outputs": [
    {
     "data": {
      "text/html": [
       "<div>\n",
       "<style scoped>\n",
       "    .dataframe tbody tr th:only-of-type {\n",
       "        vertical-align: middle;\n",
       "    }\n",
       "\n",
       "    .dataframe tbody tr th {\n",
       "        vertical-align: top;\n",
       "    }\n",
       "\n",
       "    .dataframe thead th {\n",
       "        text-align: right;\n",
       "    }\n",
       "</style>\n",
       "<table border=\"1\" class=\"dataframe\">\n",
       "  <thead>\n",
       "    <tr style=\"text-align: right;\">\n",
       "      <th></th>\n",
       "      <th>id</th>\n",
       "      <th>Name</th>\n",
       "      <th>Gender</th>\n",
       "      <th>Age</th>\n",
       "      <th>City</th>\n",
       "      <th>Working Professional or Student</th>\n",
       "      <th>Profession</th>\n",
       "      <th>Academic Pressure</th>\n",
       "      <th>Work Pressure</th>\n",
       "      <th>CGPA</th>\n",
       "      <th>Study Satisfaction</th>\n",
       "      <th>Job Satisfaction</th>\n",
       "      <th>Sleep Duration</th>\n",
       "      <th>Dietary Habits</th>\n",
       "      <th>Degree</th>\n",
       "      <th>Have you ever had suicidal thoughts ?</th>\n",
       "      <th>Work/Study Hours</th>\n",
       "      <th>Financial Stress</th>\n",
       "      <th>Family History of Mental Illness</th>\n",
       "      <th>Depression</th>\n",
       "    </tr>\n",
       "  </thead>\n",
       "  <tbody>\n",
       "    <tr>\n",
       "      <th>0</th>\n",
       "      <td>0</td>\n",
       "      <td>Aaradhya</td>\n",
       "      <td>Female</td>\n",
       "      <td>49.0</td>\n",
       "      <td>Ludhiana</td>\n",
       "      <td>Working Professional</td>\n",
       "      <td>Chef</td>\n",
       "      <td>NaN</td>\n",
       "      <td>5.0</td>\n",
       "      <td>NaN</td>\n",
       "      <td>NaN</td>\n",
       "      <td>2.0</td>\n",
       "      <td>More than 8 hours</td>\n",
       "      <td>Healthy</td>\n",
       "      <td>BHM</td>\n",
       "      <td>No</td>\n",
       "      <td>1.0</td>\n",
       "      <td>2.0</td>\n",
       "      <td>No</td>\n",
       "      <td>0</td>\n",
       "    </tr>\n",
       "    <tr>\n",
       "      <th>1</th>\n",
       "      <td>1</td>\n",
       "      <td>Vivan</td>\n",
       "      <td>Male</td>\n",
       "      <td>26.0</td>\n",
       "      <td>Varanasi</td>\n",
       "      <td>Working Professional</td>\n",
       "      <td>Teacher</td>\n",
       "      <td>NaN</td>\n",
       "      <td>4.0</td>\n",
       "      <td>NaN</td>\n",
       "      <td>NaN</td>\n",
       "      <td>3.0</td>\n",
       "      <td>Less than 5 hours</td>\n",
       "      <td>Unhealthy</td>\n",
       "      <td>LLB</td>\n",
       "      <td>Yes</td>\n",
       "      <td>7.0</td>\n",
       "      <td>3.0</td>\n",
       "      <td>No</td>\n",
       "      <td>1</td>\n",
       "    </tr>\n",
       "    <tr>\n",
       "      <th>2</th>\n",
       "      <td>2</td>\n",
       "      <td>Yuvraj</td>\n",
       "      <td>Male</td>\n",
       "      <td>33.0</td>\n",
       "      <td>Visakhapatnam</td>\n",
       "      <td>Student</td>\n",
       "      <td>NaN</td>\n",
       "      <td>5.0</td>\n",
       "      <td>NaN</td>\n",
       "      <td>8.97</td>\n",
       "      <td>2.0</td>\n",
       "      <td>NaN</td>\n",
       "      <td>5-6 hours</td>\n",
       "      <td>Healthy</td>\n",
       "      <td>B.Pharm</td>\n",
       "      <td>Yes</td>\n",
       "      <td>3.0</td>\n",
       "      <td>1.0</td>\n",
       "      <td>No</td>\n",
       "      <td>1</td>\n",
       "    </tr>\n",
       "    <tr>\n",
       "      <th>3</th>\n",
       "      <td>3</td>\n",
       "      <td>Yuvraj</td>\n",
       "      <td>Male</td>\n",
       "      <td>22.0</td>\n",
       "      <td>Mumbai</td>\n",
       "      <td>Working Professional</td>\n",
       "      <td>Teacher</td>\n",
       "      <td>NaN</td>\n",
       "      <td>5.0</td>\n",
       "      <td>NaN</td>\n",
       "      <td>NaN</td>\n",
       "      <td>1.0</td>\n",
       "      <td>Less than 5 hours</td>\n",
       "      <td>Moderate</td>\n",
       "      <td>BBA</td>\n",
       "      <td>Yes</td>\n",
       "      <td>10.0</td>\n",
       "      <td>1.0</td>\n",
       "      <td>Yes</td>\n",
       "      <td>1</td>\n",
       "    </tr>\n",
       "    <tr>\n",
       "      <th>4</th>\n",
       "      <td>4</td>\n",
       "      <td>Rhea</td>\n",
       "      <td>Female</td>\n",
       "      <td>30.0</td>\n",
       "      <td>Kanpur</td>\n",
       "      <td>Working Professional</td>\n",
       "      <td>Business Analyst</td>\n",
       "      <td>NaN</td>\n",
       "      <td>1.0</td>\n",
       "      <td>NaN</td>\n",
       "      <td>NaN</td>\n",
       "      <td>1.0</td>\n",
       "      <td>5-6 hours</td>\n",
       "      <td>Unhealthy</td>\n",
       "      <td>BBA</td>\n",
       "      <td>Yes</td>\n",
       "      <td>9.0</td>\n",
       "      <td>4.0</td>\n",
       "      <td>Yes</td>\n",
       "      <td>0</td>\n",
       "    </tr>\n",
       "  </tbody>\n",
       "</table>\n",
       "</div>"
      ],
      "text/plain": [
       "   id      Name  Gender   Age           City Working Professional or Student  \\\n",
       "0   0  Aaradhya  Female  49.0       Ludhiana            Working Professional   \n",
       "1   1     Vivan    Male  26.0       Varanasi            Working Professional   \n",
       "2   2    Yuvraj    Male  33.0  Visakhapatnam                         Student   \n",
       "3   3    Yuvraj    Male  22.0         Mumbai            Working Professional   \n",
       "4   4      Rhea  Female  30.0         Kanpur            Working Professional   \n",
       "\n",
       "         Profession  Academic Pressure  Work Pressure  CGPA  \\\n",
       "0              Chef                NaN            5.0   NaN   \n",
       "1           Teacher                NaN            4.0   NaN   \n",
       "2               NaN                5.0            NaN  8.97   \n",
       "3           Teacher                NaN            5.0   NaN   \n",
       "4  Business Analyst                NaN            1.0   NaN   \n",
       "\n",
       "   Study Satisfaction  Job Satisfaction     Sleep Duration Dietary Habits  \\\n",
       "0                 NaN               2.0  More than 8 hours        Healthy   \n",
       "1                 NaN               3.0  Less than 5 hours      Unhealthy   \n",
       "2                 2.0               NaN          5-6 hours        Healthy   \n",
       "3                 NaN               1.0  Less than 5 hours       Moderate   \n",
       "4                 NaN               1.0          5-6 hours      Unhealthy   \n",
       "\n",
       "    Degree Have you ever had suicidal thoughts ?  Work/Study Hours  \\\n",
       "0      BHM                                    No               1.0   \n",
       "1      LLB                                   Yes               7.0   \n",
       "2  B.Pharm                                   Yes               3.0   \n",
       "3      BBA                                   Yes              10.0   \n",
       "4      BBA                                   Yes               9.0   \n",
       "\n",
       "   Financial Stress Family History of Mental Illness  Depression  \n",
       "0               2.0                               No           0  \n",
       "1               3.0                               No           1  \n",
       "2               1.0                               No           1  \n",
       "3               1.0                              Yes           1  \n",
       "4               4.0                              Yes           0  "
      ]
     },
     "execution_count": 28,
     "metadata": {},
     "output_type": "execute_result"
    }
   ],
   "source": [
    "data = pd.read_csv('train.csv')\n",
    "pd.set_option('display.max_columns',None)\n",
    "data.head()"
   ]
  },
  {
   "cell_type": "code",
   "execution_count": 30,
   "id": "e1844aff-6cac-4031-9bab-10bde3547bf2",
   "metadata": {},
   "outputs": [
    {
     "data": {
      "text/plain": [
       "(140700, 20)"
      ]
     },
     "execution_count": 30,
     "metadata": {},
     "output_type": "execute_result"
    }
   ],
   "source": [
    "data.shape"
   ]
  },
  {
   "cell_type": "markdown",
   "id": "b38d6ebf-2efb-43eb-957f-2c011640a915",
   "metadata": {},
   "source": [
    "**Understand each and every column**\n",
    "\n",
    "- **id:** Unique numbers\n",
    "- **Name:** Name of the person\n",
    "- **Gender:** Gender of the person\n",
    "- **Age:** Age of the person\n",
    "- **City:** City of the person\n",
    "- **Working Professional or Student:** Is the person currently working or studying\n",
    "- **Profession:** Profession of the Person\n",
    "- **Academic Pressure:** Is the student pressurized from academic\n",
    "- **Work Pressure:** Is the person getting pressure from his work\n",
    "- **CGPA:** CGPA of the student\n",
    "- **Study Satisfaction:** How much the student is satisfied from his study\n",
    "- **Job Satisfaction:** How much the person satidfied from his job\n",
    "- **Sleep Duration:** How much hours sleep\n",
    "- **Dietary Habits:** What is the health condition now\n",
    "- **Degree:** Education status\n",
    "- **Have you ever had suicidal thoughts?:** Is The person ever thinking about of suicide\n",
    "- **Work/Study Hours:** How many hours the person/ student work or study\n",
    "- **Financial Stress:** Is the person having financial stress.\n",
    "- **Family History of Mental Illness:** indicates whether an individual has a known history of mental health conditions within their family, typically represented by a binary value (e.g., \"Yes\" or \"No\").\n",
    "- **Depression:** Whether the person will suffer from depression or not"
   ]
  },
  {
   "cell_type": "markdown",
   "id": "42f64227-5085-48b9-b2e9-320b4734a11a",
   "metadata": {},
   "source": [
    "**Rename Columns**"
   ]
  },
  {
   "cell_type": "code",
   "execution_count": 34,
   "id": "7e3566ea-89a0-48d6-bf3e-c71524cc94f1",
   "metadata": {},
   "outputs": [],
   "source": [
    "# data.rename(columns={\"Working Professional or Student\": \"Professional_Student\",\n",
    "#                     \"Have you ever had suicidal thoughts ?\" : \"Suicidal_thoughts\",\n",
    "#                     \"Family History of Mental Illness\" : \"Family_History\",\n",
    "#                     \"Academic Pressure\":'Academic_Pressure','Work Pressure':'Work_Pressure',\n",
    "#                      'Study Satisfaction':'Study_Satisfaction','Job Satisfaction':'Job_Satisfaction',\n",
    "#                      'Sleep Duration':'Sleep_Duration','Dietary Habits':'Dietary_Habits','Financial Stress':'Financial_Stress',\n",
    "#                      'Work/Study Hours':'Work_Study_Hours'\n",
    "#                     }, inplace=True)"
   ]
  },
  {
   "cell_type": "markdown",
   "id": "1d674582-73b5-4470-8733-c4aad930cd30",
   "metadata": {},
   "source": [
    "**Data Exploration**"
   ]
  },
  {
   "cell_type": "code",
   "execution_count": 37,
   "id": "9eefff04-f443-4a07-8090-b7db11371bdd",
   "metadata": {},
   "outputs": [
    {
     "name": "stdout",
     "output_type": "stream",
     "text": [
      "No of Rows: 140700\n",
      "No of Columns: 20\n"
     ]
    }
   ],
   "source": [
    "print(f'No of Rows: {data.shape[0]}')\n",
    "print(f'No of Columns: {data.shape[1]}')"
   ]
  },
  {
   "cell_type": "code",
   "execution_count": 39,
   "id": "1726743f-f432-41b4-a293-36a5238feaf0",
   "metadata": {},
   "outputs": [
    {
     "name": "stdout",
     "output_type": "stream",
     "text": [
      "<class 'pandas.core.frame.DataFrame'>\n",
      "RangeIndex: 140700 entries, 0 to 140699\n",
      "Data columns (total 20 columns):\n",
      " #   Column                Non-Null Count   Dtype  \n",
      "---  ------                --------------   -----  \n",
      " 0   id                    140700 non-null  int64  \n",
      " 1   Name                  140700 non-null  object \n",
      " 2   Gender                140700 non-null  object \n",
      " 3   Age                   140700 non-null  float64\n",
      " 4   City                  140700 non-null  object \n",
      " 5   Professional_Student  140700 non-null  object \n",
      " 6   Profession            104070 non-null  object \n",
      " 7   Academic_Pressure     27897 non-null   float64\n",
      " 8   Work_Pressure         112782 non-null  float64\n",
      " 9   CGPA                  27898 non-null   float64\n",
      " 10  Study_Satisfaction    27897 non-null   float64\n",
      " 11  Job_Satisfaction      112790 non-null  float64\n",
      " 12  Sleep_Duration        140700 non-null  object \n",
      " 13  Dietary_Habits        140696 non-null  object \n",
      " 14  Degree                140698 non-null  object \n",
      " 15  Suicidal_thoughts     140700 non-null  object \n",
      " 16  Work_Study_Hours      140700 non-null  float64\n",
      " 17  Financial_Stress      140696 non-null  float64\n",
      " 18  Family_History        140700 non-null  object \n",
      " 19  Depression            140700 non-null  int64  \n",
      "dtypes: float64(8), int64(2), object(10)\n",
      "memory usage: 21.5+ MB\n"
     ]
    }
   ],
   "source": [
    "data.info()"
   ]
  },
  {
   "cell_type": "code",
   "execution_count": 41,
   "id": "39934f90-345b-43e6-9e0d-82cc1367ee06",
   "metadata": {},
   "outputs": [
    {
     "data": {
      "text/plain": [
       "Index(['id', 'Name', 'Gender', 'Age', 'City', 'Professional_Student',\n",
       "       'Profession', 'Academic_Pressure', 'Work_Pressure', 'CGPA',\n",
       "       'Study_Satisfaction', 'Job_Satisfaction', 'Sleep_Duration',\n",
       "       'Dietary_Habits', 'Degree', 'Suicidal_thoughts', 'Work_Study_Hours',\n",
       "       'Financial_Stress', 'Family_History', 'Depression'],\n",
       "      dtype='object')"
      ]
     },
     "execution_count": 41,
     "metadata": {},
     "output_type": "execute_result"
    }
   ],
   "source": [
    "data.columns"
   ]
  },
  {
   "cell_type": "code",
   "execution_count": 17,
   "id": "95a810a0-5e52-40f5-bb02-623fc560563f",
   "metadata": {},
   "outputs": [],
   "source": [
    "continous=['Age']\n",
    "discrete_count=['Sleep Duration','Work/Study Hours']\n",
    "ordinal=['Work Pressure','Job Satisfaction',\n",
    "         'Financial Stress'\n",
    "        ]\n",
    "nominal=['Gender','City','Working Professional or Student','Profession',\n",
    "         'Dietary Habits','Degree','Have you ever had suicidal thoughts ?',\n",
    "         'Family History of Mental Illness','Depression'\n",
    "        ]\n",
    "other=['Name','id']"
   ]
  },
  {
   "cell_type": "code",
   "execution_count": 19,
   "id": "83137891-78b4-440e-a0c4-492a28918e6d",
   "metadata": {},
   "outputs": [
    {
     "name": "stdout",
     "output_type": "stream",
     "text": [
      "No of Unique values In each Column:\n"
     ]
    },
    {
     "data": {
      "text/html": [
       "<div>\n",
       "<style scoped>\n",
       "    .dataframe tbody tr th:only-of-type {\n",
       "        vertical-align: middle;\n",
       "    }\n",
       "\n",
       "    .dataframe tbody tr th {\n",
       "        vertical-align: top;\n",
       "    }\n",
       "\n",
       "    .dataframe thead th {\n",
       "        text-align: right;\n",
       "    }\n",
       "</style>\n",
       "<table border=\"1\" class=\"dataframe\">\n",
       "  <thead>\n",
       "    <tr style=\"text-align: right;\">\n",
       "      <th></th>\n",
       "      <th>Sleep Duration</th>\n",
       "      <th>Work/Study Hours</th>\n",
       "      <th>Work Pressure</th>\n",
       "      <th>Job Satisfaction</th>\n",
       "      <th>Financial Stress</th>\n",
       "      <th>Gender</th>\n",
       "      <th>City</th>\n",
       "      <th>Working Professional or Student</th>\n",
       "      <th>Profession</th>\n",
       "      <th>Dietary Habits</th>\n",
       "      <th>Degree</th>\n",
       "      <th>Have you ever had suicidal thoughts ?</th>\n",
       "      <th>Family History of Mental Illness</th>\n",
       "      <th>Depression</th>\n",
       "      <th>Name</th>\n",
       "      <th>id</th>\n",
       "    </tr>\n",
       "  </thead>\n",
       "  <tbody>\n",
       "    <tr>\n",
       "      <th>Unique_count</th>\n",
       "      <td>36</td>\n",
       "      <td>13</td>\n",
       "      <td>5</td>\n",
       "      <td>5</td>\n",
       "      <td>5</td>\n",
       "      <td>2</td>\n",
       "      <td>98</td>\n",
       "      <td>2</td>\n",
       "      <td>64</td>\n",
       "      <td>23</td>\n",
       "      <td>115</td>\n",
       "      <td>2</td>\n",
       "      <td>2</td>\n",
       "      <td>2</td>\n",
       "      <td>422</td>\n",
       "      <td>140700</td>\n",
       "    </tr>\n",
       "  </tbody>\n",
       "</table>\n",
       "</div>"
      ],
      "text/plain": [
       "              Sleep Duration  Work/Study Hours  Work Pressure  \\\n",
       "Unique_count              36                13              5   \n",
       "\n",
       "              Job Satisfaction  Financial Stress  Gender  City  \\\n",
       "Unique_count                 5                 5       2    98   \n",
       "\n",
       "              Working Professional or Student  Profession  Dietary Habits  \\\n",
       "Unique_count                                2          64              23   \n",
       "\n",
       "              Degree  Have you ever had suicidal thoughts ?  \\\n",
       "Unique_count     115                                      2   \n",
       "\n",
       "              Family History of Mental Illness  Depression  Name      id  \n",
       "Unique_count                                 2           2   422  140700  "
      ]
     },
     "execution_count": 19,
     "metadata": {},
     "output_type": "execute_result"
    }
   ],
   "source": [
    "col_name = []\n",
    "unique_count = []\n",
    "for col in discrete_count+ordinal+nominal+other:\n",
    "    count = data[col].nunique()\n",
    "    unique_count.append(count)\n",
    "    col_name.append(col)\n",
    "\n",
    "unique_df = pd.DataFrame({'Unique_count':unique_count},index=col_name)\n",
    "print('No of Unique values In each Column:')\n",
    "unique_df.T"
   ]
  },
  {
   "cell_type": "markdown",
   "id": "c3ab64cb-6b58-496a-ae2f-c5c7fad2b3de",
   "metadata": {},
   "source": [
    "**Feature Selection (Wrapper Method)**"
   ]
  },
  {
   "cell_type": "markdown",
   "id": "2777d84a-3b77-4c75-bea1-97ff58ae50ed",
   "metadata": {},
   "source": [
    "**1. Based on no of unique values**"
   ]
  },
  {
   "cell_type": "code",
   "execution_count": 23,
   "id": "c123309a-dc39-42bb-9e10-56e28febf29d",
   "metadata": {},
   "outputs": [],
   "source": [
    "# Drop columns based on no of unique values\n",
    "drop_cols = ['Name','City','id']\n",
    "data.drop(columns=drop_cols,inplace=True)"
   ]
  },
  {
   "cell_type": "markdown",
   "id": "fa1cb80d-7dcf-4b01-9690-deb196cde452",
   "metadata": {},
   "source": [
    "**2. Based on missing values**"
   ]
  },
  {
   "cell_type": "code",
   "execution_count": 26,
   "id": "6159c732-27af-4d01-bc6c-ce8c42228375",
   "metadata": {},
   "outputs": [
    {
     "data": {
      "text/plain": [
       "Gender                                        0\n",
       "Age                                           0\n",
       "Working Professional or Student               0\n",
       "Profession                                36630\n",
       "Academic Pressure                        112803\n",
       "Work Pressure                             27918\n",
       "CGPA                                     112802\n",
       "Study Satisfaction                       112803\n",
       "Job Satisfaction                          27910\n",
       "Sleep Duration                                0\n",
       "Dietary Habits                                4\n",
       "Degree                                        2\n",
       "Have you ever had suicidal thoughts ?         0\n",
       "Work/Study Hours                              0\n",
       "Financial Stress                              4\n",
       "Family History of Mental Illness              0\n",
       "Depression                                    0\n",
       "dtype: int64"
      ]
     },
     "execution_count": 26,
     "metadata": {},
     "output_type": "execute_result"
    }
   ],
   "source": [
    "data.isnull().sum()"
   ]
  },
  {
   "cell_type": "code",
   "execution_count": 28,
   "id": "a8942409-5e29-4b13-bd6b-a5143944401c",
   "metadata": {},
   "outputs": [],
   "source": [
    "# drop columns that have more than 30% missing values\n",
    "drop_cols = ['Academic Pressure','CGPA','Study Satisfaction']\n",
    "data.drop(columns=drop_cols,inplace=True)"
   ]
  },
  {
   "cell_type": "markdown",
   "id": "e60593c9-476d-40ba-8027-a0e79c9e0e40",
   "metadata": {},
   "source": [
    "**Categorical column exploration (No of Unique values and value counts)**"
   ]
  },
  {
   "cell_type": "markdown",
   "id": "8cfe2777-5205-4ab3-bf6b-e3cad08b8893",
   "metadata": {},
   "source": [
    "**1. Sleep Duration**"
   ]
  },
  {
   "cell_type": "code",
   "execution_count": 78,
   "id": "1fbb49a4-10b6-46f2-b247-43be984691e7",
   "metadata": {},
   "outputs": [
    {
     "data": {
      "text/html": [
       "<div>\n",
       "<style scoped>\n",
       "    .dataframe tbody tr th:only-of-type {\n",
       "        vertical-align: middle;\n",
       "    }\n",
       "\n",
       "    .dataframe tbody tr th {\n",
       "        vertical-align: top;\n",
       "    }\n",
       "\n",
       "    .dataframe thead th {\n",
       "        text-align: right;\n",
       "    }\n",
       "</style>\n",
       "<table border=\"1\" class=\"dataframe\">\n",
       "  <thead>\n",
       "    <tr style=\"text-align: right;\">\n",
       "      <th></th>\n",
       "      <th>0</th>\n",
       "      <th>1</th>\n",
       "      <th>2</th>\n",
       "      <th>3</th>\n",
       "      <th>4</th>\n",
       "      <th>5</th>\n",
       "      <th>6</th>\n",
       "      <th>7</th>\n",
       "      <th>8</th>\n",
       "      <th>9</th>\n",
       "      <th>10</th>\n",
       "      <th>11</th>\n",
       "      <th>12</th>\n",
       "      <th>13</th>\n",
       "      <th>14</th>\n",
       "      <th>15</th>\n",
       "      <th>16</th>\n",
       "      <th>17</th>\n",
       "      <th>18</th>\n",
       "      <th>19</th>\n",
       "      <th>20</th>\n",
       "      <th>21</th>\n",
       "      <th>22</th>\n",
       "      <th>23</th>\n",
       "      <th>24</th>\n",
       "      <th>25</th>\n",
       "      <th>26</th>\n",
       "      <th>27</th>\n",
       "      <th>28</th>\n",
       "      <th>29</th>\n",
       "      <th>30</th>\n",
       "      <th>31</th>\n",
       "      <th>32</th>\n",
       "      <th>33</th>\n",
       "      <th>34</th>\n",
       "      <th>35</th>\n",
       "    </tr>\n",
       "  </thead>\n",
       "  <tbody>\n",
       "    <tr>\n",
       "      <th>unique</th>\n",
       "      <td>More than 8 hours</td>\n",
       "      <td>Less than 5 hours</td>\n",
       "      <td>5-6 hours</td>\n",
       "      <td>7-8 hours</td>\n",
       "      <td>Sleep_Duration</td>\n",
       "      <td>1-2 hours</td>\n",
       "      <td>6-8 hours</td>\n",
       "      <td>4-6 hours</td>\n",
       "      <td>6-7 hours</td>\n",
       "      <td>10-11 hours</td>\n",
       "      <td>8-9 hours</td>\n",
       "      <td>40-45 hours</td>\n",
       "      <td>9-11 hours</td>\n",
       "      <td>2-3 hours</td>\n",
       "      <td>3-4 hours</td>\n",
       "      <td>Moderate</td>\n",
       "      <td>55-66 hours</td>\n",
       "      <td>4-5 hours</td>\n",
       "      <td>9-6 hours</td>\n",
       "      <td>1-3 hours</td>\n",
       "      <td>Indore</td>\n",
       "      <td>45</td>\n",
       "      <td>1-6 hours</td>\n",
       "      <td>35-36 hours</td>\n",
       "      <td>8 hours</td>\n",
       "      <td>No</td>\n",
       "      <td>10-6 hours</td>\n",
       "      <td>than 5 hours</td>\n",
       "      <td>49 hours</td>\n",
       "      <td>Unhealthy</td>\n",
       "      <td>Work_Study_Hours</td>\n",
       "      <td>3-6 hours</td>\n",
       "      <td>45-48 hours</td>\n",
       "      <td>9-5</td>\n",
       "      <td>Pune</td>\n",
       "      <td>9-5 hours</td>\n",
       "    </tr>\n",
       "  </tbody>\n",
       "</table>\n",
       "</div>"
      ],
      "text/plain": [
       "                       0                  1          2          3   \\\n",
       "unique  More than 8 hours  Less than 5 hours  5-6 hours  7-8 hours   \n",
       "\n",
       "                    4          5          6          7          8   \\\n",
       "unique  Sleep_Duration  1-2 hours  6-8 hours  4-6 hours  6-7 hours   \n",
       "\n",
       "                 9          10           11          12         13         14  \\\n",
       "unique  10-11 hours  8-9 hours  40-45 hours  9-11 hours  2-3 hours  3-4 hours   \n",
       "\n",
       "              15           16         17         18         19      20  21  \\\n",
       "unique  Moderate  55-66 hours  4-5 hours  9-6 hours  1-3 hours  Indore  45   \n",
       "\n",
       "               22           23       24  25          26            27  \\\n",
       "unique  1-6 hours  35-36 hours  8 hours  No  10-6 hours  than 5 hours   \n",
       "\n",
       "              28         29                30         31           32   33  \\\n",
       "unique  49 hours  Unhealthy  Work_Study_Hours  3-6 hours  45-48 hours  9-5   \n",
       "\n",
       "          34         35  \n",
       "unique  Pune  9-5 hours  "
      ]
     },
     "execution_count": 78,
     "metadata": {},
     "output_type": "execute_result"
    }
   ],
   "source": [
    "pd.DataFrame({'unique':data['Sleep Duration'].unique().tolist()}).T"
   ]
  },
  {
   "cell_type": "code",
   "execution_count": 80,
   "id": "612e65cc-0178-41dc-9920-60ca4e961d2b",
   "metadata": {},
   "outputs": [
    {
     "data": {
      "text/plain": [
       "Sleep Duration\n",
       "Less than 5 hours    38784\n",
       "7-8 hours            36969\n",
       "More than 8 hours    32726\n",
       "5-6 hours            32142\n",
       "3-4 hours               12\n",
       "6-7 hours                8\n",
       "4-5 hours                7\n",
       "2-3 hours                5\n",
       "4-6 hours                5\n",
       "6-8 hours                4\n",
       "1-6 hours                4\n",
       "No                       4\n",
       "9-11 hours               2\n",
       "10-11 hours              2\n",
       "Sleep_Duration           2\n",
       "Unhealthy                2\n",
       "45                       2\n",
       "8-9 hours                2\n",
       "10-6 hours               1\n",
       "9-5                      1\n",
       "45-48 hours              1\n",
       "3-6 hours                1\n",
       "Work_Study_Hours         1\n",
       "49 hours                 1\n",
       "than 5 hours             1\n",
       "Pune                     1\n",
       "9-6 hours                1\n",
       "8 hours                  1\n",
       "35-36 hours              1\n",
       "Indore                   1\n",
       "1-3 hours                1\n",
       "55-66 hours              1\n",
       "Moderate                 1\n",
       "40-45 hours              1\n",
       "1-2 hours                1\n",
       "9-5 hours                1\n",
       "Name: count, dtype: int64"
      ]
     },
     "execution_count": 80,
     "metadata": {},
     "output_type": "execute_result"
    }
   ],
   "source": [
    "data['Sleep Duration'].value_counts()"
   ]
  },
  {
   "cell_type": "markdown",
   "id": "fc97cf83-9f0e-4ee0-bf4b-1cdc45e8196d",
   "metadata": {},
   "source": [
    "**Observations**\n",
    "- More number of unique values are there need to be handled"
   ]
  },
  {
   "cell_type": "markdown",
   "id": "4ef751af-757e-4bf7-aa3d-3b9b8035112e",
   "metadata": {},
   "source": [
    "**2. Work/Study Hours**"
   ]
  },
  {
   "cell_type": "code",
   "execution_count": 226,
   "id": "5246de50-5f15-4b8f-a6c1-4b0aae4ffa8c",
   "metadata": {},
   "outputs": [
    {
     "data": {
      "text/html": [
       "<div>\n",
       "<style scoped>\n",
       "    .dataframe tbody tr th:only-of-type {\n",
       "        vertical-align: middle;\n",
       "    }\n",
       "\n",
       "    .dataframe tbody tr th {\n",
       "        vertical-align: top;\n",
       "    }\n",
       "\n",
       "    .dataframe thead th {\n",
       "        text-align: right;\n",
       "    }\n",
       "</style>\n",
       "<table border=\"1\" class=\"dataframe\">\n",
       "  <thead>\n",
       "    <tr style=\"text-align: right;\">\n",
       "      <th></th>\n",
       "      <th>0</th>\n",
       "      <th>1</th>\n",
       "      <th>2</th>\n",
       "      <th>3</th>\n",
       "      <th>4</th>\n",
       "      <th>5</th>\n",
       "      <th>6</th>\n",
       "      <th>7</th>\n",
       "      <th>8</th>\n",
       "      <th>9</th>\n",
       "      <th>10</th>\n",
       "      <th>11</th>\n",
       "      <th>12</th>\n",
       "    </tr>\n",
       "  </thead>\n",
       "  <tbody>\n",
       "    <tr>\n",
       "      <th>unique</th>\n",
       "      <td>1.0</td>\n",
       "      <td>7.0</td>\n",
       "      <td>3.0</td>\n",
       "      <td>10.0</td>\n",
       "      <td>9.0</td>\n",
       "      <td>6.0</td>\n",
       "      <td>8.0</td>\n",
       "      <td>2.0</td>\n",
       "      <td>0.0</td>\n",
       "      <td>5.0</td>\n",
       "      <td>12.0</td>\n",
       "      <td>4.0</td>\n",
       "      <td>11.0</td>\n",
       "    </tr>\n",
       "  </tbody>\n",
       "</table>\n",
       "</div>"
      ],
      "text/plain": [
       "         0    1    2     3    4    5    6    7    8    9     10   11    12\n",
       "unique  1.0  7.0  3.0  10.0  9.0  6.0  8.0  2.0  0.0  5.0  12.0  4.0  11.0"
      ]
     },
     "execution_count": 226,
     "metadata": {},
     "output_type": "execute_result"
    }
   ],
   "source": [
    "pd.DataFrame({'unique':data['Work/Study Hours'].unique().tolist()}).T"
   ]
  },
  {
   "cell_type": "code",
   "execution_count": 228,
   "id": "ada56398-4937-43ef-91f0-d9c3f137f592",
   "metadata": {},
   "outputs": [
    {
     "data": {
      "text/plain": [
       "Work/Study Hours\n",
       "10.0    14199\n",
       "11.0    12832\n",
       "9.0     12711\n",
       "0.0     12066\n",
       "12.0    11409\n",
       "2.0     10595\n",
       "6.0     10432\n",
       "7.0      9872\n",
       "1.0      9802\n",
       "3.0      9474\n",
       "5.0      9337\n",
       "4.0      9065\n",
       "8.0      8906\n",
       "Name: count, dtype: int64"
      ]
     },
     "execution_count": 228,
     "metadata": {},
     "output_type": "execute_result"
    }
   ],
   "source": [
    "data['Work/Study Hours'].value_counts()"
   ]
  },
  {
   "cell_type": "markdown",
   "id": "9109af7c-2bde-4a19-ac49-b6aa217a4d4a",
   "metadata": {},
   "source": [
    "**3. Work Pressure**"
   ]
  },
  {
   "cell_type": "code",
   "execution_count": 231,
   "id": "afded295-ce91-4a2e-9505-d2f3a09ff708",
   "metadata": {},
   "outputs": [
    {
     "data": {
      "text/html": [
       "<div>\n",
       "<style scoped>\n",
       "    .dataframe tbody tr th:only-of-type {\n",
       "        vertical-align: middle;\n",
       "    }\n",
       "\n",
       "    .dataframe tbody tr th {\n",
       "        vertical-align: top;\n",
       "    }\n",
       "\n",
       "    .dataframe thead th {\n",
       "        text-align: right;\n",
       "    }\n",
       "</style>\n",
       "<table border=\"1\" class=\"dataframe\">\n",
       "  <thead>\n",
       "    <tr style=\"text-align: right;\">\n",
       "      <th></th>\n",
       "      <th>0</th>\n",
       "      <th>1</th>\n",
       "      <th>2</th>\n",
       "      <th>3</th>\n",
       "      <th>4</th>\n",
       "      <th>5</th>\n",
       "    </tr>\n",
       "  </thead>\n",
       "  <tbody>\n",
       "    <tr>\n",
       "      <th>unique</th>\n",
       "      <td>5.0</td>\n",
       "      <td>4.0</td>\n",
       "      <td>NaN</td>\n",
       "      <td>1.0</td>\n",
       "      <td>2.0</td>\n",
       "      <td>3.0</td>\n",
       "    </tr>\n",
       "  </tbody>\n",
       "</table>\n",
       "</div>"
      ],
      "text/plain": [
       "          0    1   2    3    4    5\n",
       "unique  5.0  4.0 NaN  1.0  2.0  3.0"
      ]
     },
     "execution_count": 231,
     "metadata": {},
     "output_type": "execute_result"
    }
   ],
   "source": [
    "pd.DataFrame({'unique':data['Work Pressure'].unique().tolist()}).T"
   ]
  },
  {
   "cell_type": "code",
   "execution_count": 233,
   "id": "1b9d2888-8c17-41d9-8b82-95250b7fb63e",
   "metadata": {},
   "outputs": [
    {
     "data": {
      "text/plain": [
       "Work Pressure\n",
       "2.0    24373\n",
       "4.0    22512\n",
       "5.0    22436\n",
       "3.0    21899\n",
       "1.0    21562\n",
       "Name: count, dtype: int64"
      ]
     },
     "execution_count": 233,
     "metadata": {},
     "output_type": "execute_result"
    }
   ],
   "source": [
    "data['Work Pressure'].value_counts()"
   ]
  },
  {
   "cell_type": "markdown",
   "id": "7fc6df43-f238-4d4e-830a-3780a9d78eba",
   "metadata": {},
   "source": [
    "**4. Job Satisfaction**"
   ]
  },
  {
   "cell_type": "code",
   "execution_count": 236,
   "id": "ccaa4f49-8bdf-4136-bd1f-94fc86ac6d29",
   "metadata": {},
   "outputs": [
    {
     "data": {
      "text/html": [
       "<div>\n",
       "<style scoped>\n",
       "    .dataframe tbody tr th:only-of-type {\n",
       "        vertical-align: middle;\n",
       "    }\n",
       "\n",
       "    .dataframe tbody tr th {\n",
       "        vertical-align: top;\n",
       "    }\n",
       "\n",
       "    .dataframe thead th {\n",
       "        text-align: right;\n",
       "    }\n",
       "</style>\n",
       "<table border=\"1\" class=\"dataframe\">\n",
       "  <thead>\n",
       "    <tr style=\"text-align: right;\">\n",
       "      <th></th>\n",
       "      <th>0</th>\n",
       "      <th>1</th>\n",
       "      <th>2</th>\n",
       "      <th>3</th>\n",
       "      <th>4</th>\n",
       "      <th>5</th>\n",
       "    </tr>\n",
       "  </thead>\n",
       "  <tbody>\n",
       "    <tr>\n",
       "      <th>unique</th>\n",
       "      <td>2.0</td>\n",
       "      <td>3.0</td>\n",
       "      <td>NaN</td>\n",
       "      <td>1.0</td>\n",
       "      <td>5.0</td>\n",
       "      <td>4.0</td>\n",
       "    </tr>\n",
       "  </tbody>\n",
       "</table>\n",
       "</div>"
      ],
      "text/plain": [
       "          0    1   2    3    4    5\n",
       "unique  2.0  3.0 NaN  1.0  5.0  4.0"
      ]
     },
     "execution_count": 236,
     "metadata": {},
     "output_type": "execute_result"
    }
   ],
   "source": [
    "pd.DataFrame({'unique':data['Job Satisfaction'].unique().tolist()}).T"
   ]
  },
  {
   "cell_type": "code",
   "execution_count": 238,
   "id": "2629b4c4-b635-40bd-8f14-012d6dc5bbba",
   "metadata": {},
   "outputs": [
    {
     "data": {
      "text/plain": [
       "Job Satisfaction\n",
       "2.0    24783\n",
       "5.0    22812\n",
       "1.0    22324\n",
       "3.0    21951\n",
       "4.0    20920\n",
       "Name: count, dtype: int64"
      ]
     },
     "execution_count": 238,
     "metadata": {},
     "output_type": "execute_result"
    }
   ],
   "source": [
    "data['Job Satisfaction'].value_counts()"
   ]
  },
  {
   "cell_type": "markdown",
   "id": "a8ef6f70-36c3-4e4e-ac97-00202a0d07c9",
   "metadata": {},
   "source": [
    "**5. Financial Stress**"
   ]
  },
  {
   "cell_type": "code",
   "execution_count": 241,
   "id": "75320ed0-46d2-4a7d-ad7e-37d881d9ddb1",
   "metadata": {},
   "outputs": [
    {
     "data": {
      "text/html": [
       "<div>\n",
       "<style scoped>\n",
       "    .dataframe tbody tr th:only-of-type {\n",
       "        vertical-align: middle;\n",
       "    }\n",
       "\n",
       "    .dataframe tbody tr th {\n",
       "        vertical-align: top;\n",
       "    }\n",
       "\n",
       "    .dataframe thead th {\n",
       "        text-align: right;\n",
       "    }\n",
       "</style>\n",
       "<table border=\"1\" class=\"dataframe\">\n",
       "  <thead>\n",
       "    <tr style=\"text-align: right;\">\n",
       "      <th></th>\n",
       "      <th>0</th>\n",
       "      <th>1</th>\n",
       "      <th>2</th>\n",
       "      <th>3</th>\n",
       "      <th>4</th>\n",
       "      <th>5</th>\n",
       "    </tr>\n",
       "  </thead>\n",
       "  <tbody>\n",
       "    <tr>\n",
       "      <th>unique</th>\n",
       "      <td>2.0</td>\n",
       "      <td>3.0</td>\n",
       "      <td>1.0</td>\n",
       "      <td>4.0</td>\n",
       "      <td>5.0</td>\n",
       "      <td>NaN</td>\n",
       "    </tr>\n",
       "  </tbody>\n",
       "</table>\n",
       "</div>"
      ],
      "text/plain": [
       "          0    1    2    3    4   5\n",
       "unique  2.0  3.0  1.0  4.0  5.0 NaN"
      ]
     },
     "execution_count": 241,
     "metadata": {},
     "output_type": "execute_result"
    }
   ],
   "source": [
    "pd.DataFrame({'unique':data['Financial Stress'].unique().tolist()}).T"
   ]
  },
  {
   "cell_type": "code",
   "execution_count": 243,
   "id": "68465b4e-524a-4a28-af7a-f51ea258fa06",
   "metadata": {},
   "outputs": [
    {
     "data": {
      "text/plain": [
       "Financial Stress\n",
       "2.0    31451\n",
       "5.0    28279\n",
       "4.0    27765\n",
       "1.0    27211\n",
       "3.0    25990\n",
       "Name: count, dtype: int64"
      ]
     },
     "execution_count": 243,
     "metadata": {},
     "output_type": "execute_result"
    }
   ],
   "source": [
    "data['Financial Stress'].value_counts()"
   ]
  },
  {
   "cell_type": "markdown",
   "id": "cf085e75-fa5c-444e-bb59-71a83ea40e7e",
   "metadata": {},
   "source": [
    "**6. Gender**"
   ]
  },
  {
   "cell_type": "code",
   "execution_count": 246,
   "id": "8b89a7b1-0301-44e9-a29f-e2cb21dd7444",
   "metadata": {},
   "outputs": [
    {
     "data": {
      "text/html": [
       "<div>\n",
       "<style scoped>\n",
       "    .dataframe tbody tr th:only-of-type {\n",
       "        vertical-align: middle;\n",
       "    }\n",
       "\n",
       "    .dataframe tbody tr th {\n",
       "        vertical-align: top;\n",
       "    }\n",
       "\n",
       "    .dataframe thead th {\n",
       "        text-align: right;\n",
       "    }\n",
       "</style>\n",
       "<table border=\"1\" class=\"dataframe\">\n",
       "  <thead>\n",
       "    <tr style=\"text-align: right;\">\n",
       "      <th></th>\n",
       "      <th>0</th>\n",
       "      <th>1</th>\n",
       "    </tr>\n",
       "  </thead>\n",
       "  <tbody>\n",
       "    <tr>\n",
       "      <th>unique</th>\n",
       "      <td>Female</td>\n",
       "      <td>Male</td>\n",
       "    </tr>\n",
       "  </tbody>\n",
       "</table>\n",
       "</div>"
      ],
      "text/plain": [
       "             0     1\n",
       "unique  Female  Male"
      ]
     },
     "execution_count": 246,
     "metadata": {},
     "output_type": "execute_result"
    }
   ],
   "source": [
    "pd.DataFrame({'unique':data['Gender'].unique().tolist()}).T"
   ]
  },
  {
   "cell_type": "code",
   "execution_count": 248,
   "id": "c922d75a-ef7c-4835-9833-fa2a139c5c4a",
   "metadata": {},
   "outputs": [
    {
     "data": {
      "text/plain": [
       "Gender\n",
       "Male      77464\n",
       "Female    63236\n",
       "Name: count, dtype: int64"
      ]
     },
     "execution_count": 248,
     "metadata": {},
     "output_type": "execute_result"
    }
   ],
   "source": [
    "data['Gender'].value_counts()"
   ]
  },
  {
   "cell_type": "markdown",
   "id": "3bed26d8-2fa3-4956-a07c-0b3c2e6e4382",
   "metadata": {},
   "source": [
    "**7. Working Professional or Student**"
   ]
  },
  {
   "cell_type": "code",
   "execution_count": 251,
   "id": "14d3884c-d980-4d8f-aa70-0eac0d36f438",
   "metadata": {},
   "outputs": [
    {
     "data": {
      "text/html": [
       "<div>\n",
       "<style scoped>\n",
       "    .dataframe tbody tr th:only-of-type {\n",
       "        vertical-align: middle;\n",
       "    }\n",
       "\n",
       "    .dataframe tbody tr th {\n",
       "        vertical-align: top;\n",
       "    }\n",
       "\n",
       "    .dataframe thead th {\n",
       "        text-align: right;\n",
       "    }\n",
       "</style>\n",
       "<table border=\"1\" class=\"dataframe\">\n",
       "  <thead>\n",
       "    <tr style=\"text-align: right;\">\n",
       "      <th></th>\n",
       "      <th>0</th>\n",
       "      <th>1</th>\n",
       "    </tr>\n",
       "  </thead>\n",
       "  <tbody>\n",
       "    <tr>\n",
       "      <th>unique</th>\n",
       "      <td>Working Professional</td>\n",
       "      <td>Student</td>\n",
       "    </tr>\n",
       "  </tbody>\n",
       "</table>\n",
       "</div>"
      ],
      "text/plain": [
       "                           0        1\n",
       "unique  Working Professional  Student"
      ]
     },
     "execution_count": 251,
     "metadata": {},
     "output_type": "execute_result"
    }
   ],
   "source": [
    "pd.DataFrame({'unique':data['Working Professional or Student'].unique().tolist()}).T"
   ]
  },
  {
   "cell_type": "code",
   "execution_count": 253,
   "id": "7cd7db31-2a7d-4669-be15-20a13c801e1a",
   "metadata": {},
   "outputs": [
    {
     "data": {
      "text/plain": [
       "Working Professional or Student\n",
       "Working Professional    112799\n",
       "Student                  27901\n",
       "Name: count, dtype: int64"
      ]
     },
     "execution_count": 253,
     "metadata": {},
     "output_type": "execute_result"
    }
   ],
   "source": [
    "data['Working Professional or Student'].value_counts()"
   ]
  },
  {
   "cell_type": "markdown",
   "id": "588fd5c8-c2cf-4af2-8220-4dc014c3d2a4",
   "metadata": {},
   "source": [
    "**8. Profession**"
   ]
  },
  {
   "cell_type": "code",
   "execution_count": 256,
   "id": "3f4050dd-4b91-4093-9484-952abe6d1c75",
   "metadata": {},
   "outputs": [
    {
     "data": {
      "text/html": [
       "<div>\n",
       "<style scoped>\n",
       "    .dataframe tbody tr th:only-of-type {\n",
       "        vertical-align: middle;\n",
       "    }\n",
       "\n",
       "    .dataframe tbody tr th {\n",
       "        vertical-align: top;\n",
       "    }\n",
       "\n",
       "    .dataframe thead th {\n",
       "        text-align: right;\n",
       "    }\n",
       "</style>\n",
       "<table border=\"1\" class=\"dataframe\">\n",
       "  <thead>\n",
       "    <tr style=\"text-align: right;\">\n",
       "      <th></th>\n",
       "      <th>0</th>\n",
       "      <th>1</th>\n",
       "      <th>2</th>\n",
       "      <th>3</th>\n",
       "      <th>4</th>\n",
       "      <th>5</th>\n",
       "      <th>6</th>\n",
       "      <th>7</th>\n",
       "      <th>8</th>\n",
       "      <th>9</th>\n",
       "      <th>10</th>\n",
       "      <th>11</th>\n",
       "      <th>12</th>\n",
       "      <th>13</th>\n",
       "      <th>14</th>\n",
       "      <th>15</th>\n",
       "      <th>16</th>\n",
       "      <th>17</th>\n",
       "      <th>18</th>\n",
       "      <th>19</th>\n",
       "      <th>20</th>\n",
       "      <th>21</th>\n",
       "      <th>22</th>\n",
       "      <th>23</th>\n",
       "      <th>24</th>\n",
       "      <th>25</th>\n",
       "      <th>26</th>\n",
       "      <th>27</th>\n",
       "      <th>28</th>\n",
       "      <th>29</th>\n",
       "      <th>30</th>\n",
       "      <th>31</th>\n",
       "      <th>32</th>\n",
       "      <th>33</th>\n",
       "      <th>34</th>\n",
       "      <th>35</th>\n",
       "      <th>36</th>\n",
       "      <th>37</th>\n",
       "      <th>38</th>\n",
       "      <th>39</th>\n",
       "      <th>40</th>\n",
       "      <th>41</th>\n",
       "      <th>42</th>\n",
       "      <th>43</th>\n",
       "      <th>44</th>\n",
       "      <th>45</th>\n",
       "      <th>46</th>\n",
       "      <th>47</th>\n",
       "      <th>48</th>\n",
       "      <th>49</th>\n",
       "      <th>50</th>\n",
       "      <th>51</th>\n",
       "      <th>52</th>\n",
       "      <th>53</th>\n",
       "      <th>54</th>\n",
       "      <th>55</th>\n",
       "      <th>56</th>\n",
       "      <th>57</th>\n",
       "      <th>58</th>\n",
       "      <th>59</th>\n",
       "      <th>60</th>\n",
       "      <th>61</th>\n",
       "      <th>62</th>\n",
       "      <th>63</th>\n",
       "      <th>64</th>\n",
       "    </tr>\n",
       "  </thead>\n",
       "  <tbody>\n",
       "    <tr>\n",
       "      <th>unique</th>\n",
       "      <td>Chef</td>\n",
       "      <td>Teacher</td>\n",
       "      <td>NaN</td>\n",
       "      <td>Business Analyst</td>\n",
       "      <td>Finanancial Analyst</td>\n",
       "      <td>Chemist</td>\n",
       "      <td>Electrician</td>\n",
       "      <td>Software Engineer</td>\n",
       "      <td>Data Scientist</td>\n",
       "      <td>Plumber</td>\n",
       "      <td>Marketing Manager</td>\n",
       "      <td>Accountant</td>\n",
       "      <td>Entrepreneur</td>\n",
       "      <td>HR Manager</td>\n",
       "      <td>UX/UI Designer</td>\n",
       "      <td>Content Writer</td>\n",
       "      <td>Educational Consultant</td>\n",
       "      <td>Civil Engineer</td>\n",
       "      <td>Manager</td>\n",
       "      <td>Pharmacist</td>\n",
       "      <td>Financial Analyst</td>\n",
       "      <td>Architect</td>\n",
       "      <td>Mechanical Engineer</td>\n",
       "      <td>Customer Support</td>\n",
       "      <td>Consultant</td>\n",
       "      <td>Judge</td>\n",
       "      <td>Researcher</td>\n",
       "      <td>Pilot</td>\n",
       "      <td>Graphic Designer</td>\n",
       "      <td>Travel Consultant</td>\n",
       "      <td>Digital Marketer</td>\n",
       "      <td>Lawyer</td>\n",
       "      <td>Research Analyst</td>\n",
       "      <td>Sales Executive</td>\n",
       "      <td>Doctor</td>\n",
       "      <td>Unemployed</td>\n",
       "      <td>Investment Banker</td>\n",
       "      <td>Family Consultant</td>\n",
       "      <td>B.Com</td>\n",
       "      <td>BE</td>\n",
       "      <td>Student</td>\n",
       "      <td>Yogesh</td>\n",
       "      <td>Dev</td>\n",
       "      <td>MBA</td>\n",
       "      <td>LLM</td>\n",
       "      <td>BCA</td>\n",
       "      <td>Academic</td>\n",
       "      <td>Profession</td>\n",
       "      <td>FamilyVirar</td>\n",
       "      <td>City Manager</td>\n",
       "      <td>BBA</td>\n",
       "      <td>Medical Doctor</td>\n",
       "      <td>Working Professional</td>\n",
       "      <td>MBBS</td>\n",
       "      <td>Patna</td>\n",
       "      <td>Unveil</td>\n",
       "      <td>B.Ed</td>\n",
       "      <td>Nagpur</td>\n",
       "      <td>Moderate</td>\n",
       "      <td>M.Ed</td>\n",
       "      <td>Analyst</td>\n",
       "      <td>Pranav</td>\n",
       "      <td>Visakhapatnam</td>\n",
       "      <td>PhD</td>\n",
       "      <td>Yuvraj</td>\n",
       "    </tr>\n",
       "  </tbody>\n",
       "</table>\n",
       "</div>"
      ],
      "text/plain": [
       "          0        1    2                 3                    4        5   \\\n",
       "unique  Chef  Teacher  NaN  Business Analyst  Finanancial Analyst  Chemist   \n",
       "\n",
       "                 6                  7               8        9   \\\n",
       "unique  Electrician  Software Engineer  Data Scientist  Plumber   \n",
       "\n",
       "                       10          11            12          13  \\\n",
       "unique  Marketing Manager  Accountant  Entrepreneur  HR Manager   \n",
       "\n",
       "                    14              15                      16  \\\n",
       "unique  UX/UI Designer  Content Writer  Educational Consultant   \n",
       "\n",
       "                    17       18          19                 20         21  \\\n",
       "unique  Civil Engineer  Manager  Pharmacist  Financial Analyst  Architect   \n",
       "\n",
       "                         22                23          24     25          26  \\\n",
       "unique  Mechanical Engineer  Customer Support  Consultant  Judge  Researcher   \n",
       "\n",
       "           27                28                 29                30      31  \\\n",
       "unique  Pilot  Graphic Designer  Travel Consultant  Digital Marketer  Lawyer   \n",
       "\n",
       "                      32               33      34          35  \\\n",
       "unique  Research Analyst  Sales Executive  Doctor  Unemployed   \n",
       "\n",
       "                       36                 37     38  39       40      41   42  \\\n",
       "unique  Investment Banker  Family Consultant  B.Com  BE  Student  Yogesh  Dev   \n",
       "\n",
       "         43   44   45        46          47           48            49   50  \\\n",
       "unique  MBA  LLM  BCA  Academic  Profession  FamilyVirar  City Manager  BBA   \n",
       "\n",
       "                    51                    52    53     54      55    56  \\\n",
       "unique  Medical Doctor  Working Professional  MBBS  Patna  Unveil  B.Ed   \n",
       "\n",
       "            57        58    59       60      61             62   63      64  \n",
       "unique  Nagpur  Moderate  M.Ed  Analyst  Pranav  Visakhapatnam  PhD  Yuvraj  "
      ]
     },
     "execution_count": 256,
     "metadata": {},
     "output_type": "execute_result"
    }
   ],
   "source": [
    "pd.DataFrame({'unique':data['Profession'].unique().tolist()}).T"
   ]
  },
  {
   "cell_type": "code",
   "execution_count": 258,
   "id": "774f2c81-5bbb-4d39-8f18-77c297a6462d",
   "metadata": {},
   "outputs": [
    {
     "data": {
      "text/plain": [
       "Profession\n",
       "Teacher                   24906\n",
       "Content Writer             7814\n",
       "Architect                  4370\n",
       "Consultant                 4229\n",
       "HR Manager                 4022\n",
       "Pharmacist                 3893\n",
       "Doctor                     3255\n",
       "Business Analyst           3161\n",
       "Entrepreneur               2968\n",
       "Chemist                    2967\n",
       "Chef                       2862\n",
       "Educational Consultant     2852\n",
       "Data Scientist             2390\n",
       "Researcher                 2328\n",
       "Lawyer                     2212\n",
       "Customer Support           2055\n",
       "Marketing Manager          1976\n",
       "Pilot                      1913\n",
       "Travel Consultant          1860\n",
       "Plumber                    1748\n",
       "Sales Executive            1739\n",
       "Manager                    1737\n",
       "Judge                      1712\n",
       "Electrician                1582\n",
       "Financial Analyst          1574\n",
       "Software Engineer          1510\n",
       "Civil Engineer             1470\n",
       "UX/UI Designer             1452\n",
       "Digital Marketer           1372\n",
       "Accountant                 1339\n",
       "Finanancial Analyst        1329\n",
       "Mechanical Engineer        1177\n",
       "Graphic Designer           1163\n",
       "Research Analyst            690\n",
       "Investment Banker           393\n",
       "Student                       7\n",
       "Academic                      5\n",
       "Profession                    3\n",
       "Yogesh                        3\n",
       "BCA                           3\n",
       "Unemployed                    3\n",
       "LLM                           2\n",
       "PhD                           2\n",
       "MBA                           2\n",
       "Dev                           1\n",
       "BE                            1\n",
       "Family Consultant             1\n",
       "Visakhapatnam                 1\n",
       "Pranav                        1\n",
       "Analyst                       1\n",
       "M.Ed                          1\n",
       "Moderate                      1\n",
       "Nagpur                        1\n",
       "B.Ed                          1\n",
       "Unveil                        1\n",
       "Patna                         1\n",
       "MBBS                          1\n",
       "Working Professional          1\n",
       "Medical Doctor                1\n",
       "BBA                           1\n",
       "City Manager                  1\n",
       "FamilyVirar                   1\n",
       "B.Com                         1\n",
       "Yuvraj                        1\n",
       "Name: count, dtype: int64"
      ]
     },
     "execution_count": 258,
     "metadata": {},
     "output_type": "execute_result"
    }
   ],
   "source": [
    "# More number of unique values are there check later for\n",
    "# Try later categorizing into 5-10 categorize\n",
    "data['Profession'].value_counts()"
   ]
  },
  {
   "cell_type": "markdown",
   "id": "fbc3030f-5f4f-4958-a5ae-2ec807e74135",
   "metadata": {},
   "source": [
    "**Observations**\n",
    "- More number of unique values are there need to be handled"
   ]
  },
  {
   "cell_type": "markdown",
   "id": "05e1cb77-b33f-417a-b76d-a8eb9e86f9e9",
   "metadata": {},
   "source": [
    "**9. Dietary Habits**"
   ]
  },
  {
   "cell_type": "code",
   "execution_count": 262,
   "id": "75ac03f5-0fe4-4e78-8a8b-75ef888cc580",
   "metadata": {},
   "outputs": [
    {
     "data": {
      "text/html": [
       "<div>\n",
       "<style scoped>\n",
       "    .dataframe tbody tr th:only-of-type {\n",
       "        vertical-align: middle;\n",
       "    }\n",
       "\n",
       "    .dataframe tbody tr th {\n",
       "        vertical-align: top;\n",
       "    }\n",
       "\n",
       "    .dataframe thead th {\n",
       "        text-align: right;\n",
       "    }\n",
       "</style>\n",
       "<table border=\"1\" class=\"dataframe\">\n",
       "  <thead>\n",
       "    <tr style=\"text-align: right;\">\n",
       "      <th></th>\n",
       "      <th>0</th>\n",
       "      <th>1</th>\n",
       "      <th>2</th>\n",
       "      <th>3</th>\n",
       "      <th>4</th>\n",
       "      <th>5</th>\n",
       "      <th>6</th>\n",
       "      <th>7</th>\n",
       "      <th>8</th>\n",
       "      <th>9</th>\n",
       "      <th>10</th>\n",
       "      <th>11</th>\n",
       "      <th>12</th>\n",
       "      <th>13</th>\n",
       "      <th>14</th>\n",
       "      <th>15</th>\n",
       "      <th>16</th>\n",
       "      <th>17</th>\n",
       "      <th>18</th>\n",
       "      <th>19</th>\n",
       "      <th>20</th>\n",
       "      <th>21</th>\n",
       "      <th>22</th>\n",
       "      <th>23</th>\n",
       "    </tr>\n",
       "  </thead>\n",
       "  <tbody>\n",
       "    <tr>\n",
       "      <th>unique</th>\n",
       "      <td>Healthy</td>\n",
       "      <td>Unhealthy</td>\n",
       "      <td>Moderate</td>\n",
       "      <td>Yes</td>\n",
       "      <td>Pratham</td>\n",
       "      <td>BSc</td>\n",
       "      <td>Gender</td>\n",
       "      <td>3</td>\n",
       "      <td>More Healthy</td>\n",
       "      <td>Less than Healthy</td>\n",
       "      <td>Mihir</td>\n",
       "      <td>1.0</td>\n",
       "      <td>Hormonal</td>\n",
       "      <td>Electrician</td>\n",
       "      <td>NaN</td>\n",
       "      <td>No Healthy</td>\n",
       "      <td>Less Healthy</td>\n",
       "      <td>M.Tech</td>\n",
       "      <td>Vegas</td>\n",
       "      <td>No</td>\n",
       "      <td>Male</td>\n",
       "      <td>Indoor</td>\n",
       "      <td>Class 12</td>\n",
       "      <td>2</td>\n",
       "    </tr>\n",
       "  </tbody>\n",
       "</table>\n",
       "</div>"
      ],
      "text/plain": [
       "             0          1         2    3        4    5       6  7   \\\n",
       "unique  Healthy  Unhealthy  Moderate  Yes  Pratham  BSc  Gender  3   \n",
       "\n",
       "                  8                  9      10   11        12           13  \\\n",
       "unique  More Healthy  Less than Healthy  Mihir  1.0  Hormonal  Electrician   \n",
       "\n",
       "         14          15            16      17     18  19    20      21  \\\n",
       "unique  NaN  No Healthy  Less Healthy  M.Tech  Vegas  No  Male  Indoor   \n",
       "\n",
       "              22 23  \n",
       "unique  Class 12  2  "
      ]
     },
     "execution_count": 262,
     "metadata": {},
     "output_type": "execute_result"
    }
   ],
   "source": [
    "pd.DataFrame({'unique':data['Dietary Habits'].unique().tolist()}).T"
   ]
  },
  {
   "cell_type": "code",
   "execution_count": 264,
   "id": "6f9c37f8-4273-42c4-bd6c-3b797b37396c",
   "metadata": {},
   "outputs": [
    {
     "data": {
      "text/plain": [
       "Dietary Habits\n",
       "Moderate             49705\n",
       "Unhealthy            46227\n",
       "Healthy              44741\n",
       "Yes                      2\n",
       "No                       2\n",
       "More Healthy             2\n",
       "No Healthy               1\n",
       "Class 12                 1\n",
       "Indoor                   1\n",
       "Male                     1\n",
       "Vegas                    1\n",
       "M.Tech                   1\n",
       "Less Healthy             1\n",
       "1.0                      1\n",
       "Electrician              1\n",
       "Hormonal                 1\n",
       "Mihir                    1\n",
       "Less than Healthy        1\n",
       "3                        1\n",
       "Gender                   1\n",
       "BSc                      1\n",
       "Pratham                  1\n",
       "2                        1\n",
       "Name: count, dtype: int64"
      ]
     },
     "execution_count": 264,
     "metadata": {},
     "output_type": "execute_result"
    }
   ],
   "source": [
    "data['Dietary Habits'].value_counts()"
   ]
  },
  {
   "cell_type": "markdown",
   "id": "9f312a2e-d01e-4e7c-97a6-cab960b52081",
   "metadata": {},
   "source": [
    "**Observations**\n",
    "- More number of unique values are there need to be handled"
   ]
  },
  {
   "cell_type": "markdown",
   "id": "6a6aeb77-c3b3-411a-94d2-ade75cf93667",
   "metadata": {},
   "source": [
    "**10. Degree**"
   ]
  },
  {
   "cell_type": "code",
   "execution_count": 268,
   "id": "2849929f-c4cf-435d-86c3-2eb171a8049d",
   "metadata": {},
   "outputs": [
    {
     "data": {
      "text/html": [
       "<div>\n",
       "<style scoped>\n",
       "    .dataframe tbody tr th:only-of-type {\n",
       "        vertical-align: middle;\n",
       "    }\n",
       "\n",
       "    .dataframe tbody tr th {\n",
       "        vertical-align: top;\n",
       "    }\n",
       "\n",
       "    .dataframe thead th {\n",
       "        text-align: right;\n",
       "    }\n",
       "</style>\n",
       "<table border=\"1\" class=\"dataframe\">\n",
       "  <thead>\n",
       "    <tr style=\"text-align: right;\">\n",
       "      <th></th>\n",
       "      <th>0</th>\n",
       "      <th>1</th>\n",
       "      <th>2</th>\n",
       "      <th>3</th>\n",
       "      <th>4</th>\n",
       "      <th>5</th>\n",
       "      <th>6</th>\n",
       "      <th>7</th>\n",
       "      <th>8</th>\n",
       "      <th>9</th>\n",
       "      <th>10</th>\n",
       "      <th>11</th>\n",
       "      <th>12</th>\n",
       "      <th>13</th>\n",
       "      <th>14</th>\n",
       "      <th>15</th>\n",
       "      <th>16</th>\n",
       "      <th>17</th>\n",
       "      <th>18</th>\n",
       "      <th>19</th>\n",
       "      <th>20</th>\n",
       "      <th>21</th>\n",
       "      <th>22</th>\n",
       "      <th>23</th>\n",
       "      <th>24</th>\n",
       "      <th>25</th>\n",
       "      <th>26</th>\n",
       "      <th>27</th>\n",
       "      <th>28</th>\n",
       "      <th>29</th>\n",
       "      <th>30</th>\n",
       "      <th>31</th>\n",
       "      <th>32</th>\n",
       "      <th>33</th>\n",
       "      <th>34</th>\n",
       "      <th>35</th>\n",
       "      <th>36</th>\n",
       "      <th>37</th>\n",
       "      <th>38</th>\n",
       "      <th>39</th>\n",
       "      <th>40</th>\n",
       "      <th>41</th>\n",
       "      <th>42</th>\n",
       "      <th>43</th>\n",
       "      <th>44</th>\n",
       "      <th>45</th>\n",
       "      <th>46</th>\n",
       "      <th>47</th>\n",
       "      <th>48</th>\n",
       "      <th>49</th>\n",
       "      <th>50</th>\n",
       "      <th>51</th>\n",
       "      <th>52</th>\n",
       "      <th>53</th>\n",
       "      <th>54</th>\n",
       "      <th>55</th>\n",
       "      <th>56</th>\n",
       "      <th>57</th>\n",
       "      <th>58</th>\n",
       "      <th>59</th>\n",
       "      <th>60</th>\n",
       "      <th>61</th>\n",
       "      <th>62</th>\n",
       "      <th>63</th>\n",
       "      <th>64</th>\n",
       "      <th>65</th>\n",
       "      <th>66</th>\n",
       "      <th>67</th>\n",
       "      <th>68</th>\n",
       "      <th>69</th>\n",
       "      <th>70</th>\n",
       "      <th>71</th>\n",
       "      <th>72</th>\n",
       "      <th>73</th>\n",
       "      <th>74</th>\n",
       "      <th>75</th>\n",
       "      <th>76</th>\n",
       "      <th>77</th>\n",
       "      <th>78</th>\n",
       "      <th>79</th>\n",
       "      <th>80</th>\n",
       "      <th>81</th>\n",
       "      <th>82</th>\n",
       "      <th>83</th>\n",
       "      <th>84</th>\n",
       "      <th>85</th>\n",
       "      <th>86</th>\n",
       "      <th>87</th>\n",
       "      <th>88</th>\n",
       "      <th>89</th>\n",
       "      <th>90</th>\n",
       "      <th>91</th>\n",
       "      <th>92</th>\n",
       "      <th>93</th>\n",
       "      <th>94</th>\n",
       "      <th>95</th>\n",
       "      <th>96</th>\n",
       "      <th>97</th>\n",
       "      <th>98</th>\n",
       "      <th>99</th>\n",
       "      <th>100</th>\n",
       "      <th>101</th>\n",
       "      <th>102</th>\n",
       "      <th>103</th>\n",
       "      <th>104</th>\n",
       "      <th>105</th>\n",
       "      <th>106</th>\n",
       "      <th>107</th>\n",
       "      <th>108</th>\n",
       "      <th>109</th>\n",
       "      <th>110</th>\n",
       "      <th>111</th>\n",
       "      <th>112</th>\n",
       "      <th>113</th>\n",
       "      <th>114</th>\n",
       "      <th>115</th>\n",
       "    </tr>\n",
       "  </thead>\n",
       "  <tbody>\n",
       "    <tr>\n",
       "      <th>unique</th>\n",
       "      <td>BHM</td>\n",
       "      <td>LLB</td>\n",
       "      <td>B.Pharm</td>\n",
       "      <td>BBA</td>\n",
       "      <td>MCA</td>\n",
       "      <td>MD</td>\n",
       "      <td>BSc</td>\n",
       "      <td>ME</td>\n",
       "      <td>B.Arch</td>\n",
       "      <td>BCA</td>\n",
       "      <td>BE</td>\n",
       "      <td>MA</td>\n",
       "      <td>B.Ed</td>\n",
       "      <td>B.Com</td>\n",
       "      <td>MBA</td>\n",
       "      <td>M.Com</td>\n",
       "      <td>MHM</td>\n",
       "      <td>BA</td>\n",
       "      <td>Class 12</td>\n",
       "      <td>M.Tech</td>\n",
       "      <td>PhD</td>\n",
       "      <td>M.Ed</td>\n",
       "      <td>MSc</td>\n",
       "      <td>B.Tech</td>\n",
       "      <td>LLM</td>\n",
       "      <td>MBBS</td>\n",
       "      <td>M.Pharm</td>\n",
       "      <td>UX/UI Designer</td>\n",
       "      <td>MPA</td>\n",
       "      <td>BH</td>\n",
       "      <td>Nalini</td>\n",
       "      <td>BEd</td>\n",
       "      <td>B.Sc</td>\n",
       "      <td>Veda</td>\n",
       "      <td>Bhopal</td>\n",
       "      <td>S.Tech</td>\n",
       "      <td>Degree</td>\n",
       "      <td>20</td>\n",
       "      <td>Class 11</td>\n",
       "      <td>H_Pharm</td>\n",
       "      <td>M</td>\n",
       "      <td>P.Com</td>\n",
       "      <td>BPharm</td>\n",
       "      <td>Business Analyst</td>\n",
       "      <td>M.Arch</td>\n",
       "      <td>LL.Com</td>\n",
       "      <td>Data Scientist</td>\n",
       "      <td>MPharm</td>\n",
       "      <td>L.Ed</td>\n",
       "      <td>P.Pharm</td>\n",
       "      <td>Kalyan</td>\n",
       "      <td>Unite</td>\n",
       "      <td>BArch</td>\n",
       "      <td>HR Manager</td>\n",
       "      <td>Badhya</td>\n",
       "      <td>S.Pharm</td>\n",
       "      <td>LLBA</td>\n",
       "      <td>Vrinda</td>\n",
       "      <td>M. Business Analyst</td>\n",
       "      <td>Bhavesh</td>\n",
       "      <td>0</td>\n",
       "      <td>LLCom</td>\n",
       "      <td>29</td>\n",
       "      <td>MTech</td>\n",
       "      <td>Vivaan</td>\n",
       "      <td>BPA</td>\n",
       "      <td>Plumber</td>\n",
       "      <td>5.61</td>\n",
       "      <td>Brit</td>\n",
       "      <td>B.03</td>\n",
       "      <td>Ritik</td>\n",
       "      <td>5.56</td>\n",
       "      <td>MEd</td>\n",
       "      <td>B</td>\n",
       "      <td>B BA</td>\n",
       "      <td>7.06</td>\n",
       "      <td>B.B.Arch</td>\n",
       "      <td>ACA</td>\n",
       "      <td>Brithika</td>\n",
       "      <td>CGPA</td>\n",
       "      <td>24</td>\n",
       "      <td>M_Tech</td>\n",
       "      <td>Pihu</td>\n",
       "      <td>BB</td>\n",
       "      <td>Jhanvi</td>\n",
       "      <td>LLTech</td>\n",
       "      <td>Aarav</td>\n",
       "      <td>Entrepreneur</td>\n",
       "      <td>8.56</td>\n",
       "      <td>LHM</td>\n",
       "      <td>Lata</td>\n",
       "      <td>S.Arch</td>\n",
       "      <td>Marsh</td>\n",
       "      <td>HCA</td>\n",
       "      <td>5.88</td>\n",
       "      <td>B.Student</td>\n",
       "      <td>LL B.Ed</td>\n",
       "      <td>M.S</td>\n",
       "      <td>Navya</td>\n",
       "      <td>Mahika</td>\n",
       "      <td>NaN</td>\n",
       "      <td>K.Ed</td>\n",
       "      <td>B.3.79</td>\n",
       "      <td>Mthanya</td>\n",
       "      <td>Working Professional</td>\n",
       "      <td>Esha</td>\n",
       "      <td>LLS</td>\n",
       "      <td>LLEd</td>\n",
       "      <td>E.Tech</td>\n",
       "      <td>Doctor</td>\n",
       "      <td>N.Pharm</td>\n",
       "      <td>LCA</td>\n",
       "      <td>B B.Com</td>\n",
       "      <td>RCA</td>\n",
       "      <td>Mihir</td>\n",
       "      <td>Advait</td>\n",
       "    </tr>\n",
       "  </tbody>\n",
       "</table>\n",
       "</div>"
      ],
      "text/plain": [
       "        0    1        2    3    4   5    6   7       8    9   10  11    12   \\\n",
       "unique  BHM  LLB  B.Pharm  BBA  MCA  MD  BSc  ME  B.Arch  BCA  BE  MA  B.Ed   \n",
       "\n",
       "          13   14     15   16  17        18      19   20    21   22      23   \\\n",
       "unique  B.Com  MBA  M.Com  MHM  BA  Class 12  M.Tech  PhD  M.Ed  MSc  B.Tech   \n",
       "\n",
       "        24    25       26              27   28  29      30   31    32    33   \\\n",
       "unique  LLM  MBBS  M.Pharm  UX/UI Designer  MPA  BH  Nalini  BEd  B.Sc  Veda   \n",
       "\n",
       "           34      35      36  37        38       39  40     41      42   \\\n",
       "unique  Bhopal  S.Tech  Degree  20  Class 11  H_Pharm   M  P.Com  BPharm   \n",
       "\n",
       "                     43      44      45              46      47    48   \\\n",
       "unique  Business Analyst  M.Arch  LL.Com  Data Scientist  MPharm  L.Ed   \n",
       "\n",
       "            49      50     51     52          53      54       55    56   \\\n",
       "unique  P.Pharm  Kalyan  Unite  BArch  HR Manager  Badhya  S.Pharm  LLBA   \n",
       "\n",
       "           57                   58       59  60     61  62     63      64   \\\n",
       "unique  Vrinda  M. Business Analyst  Bhavesh   0  LLCom  29  MTech  Vivaan   \n",
       "\n",
       "        65       66    67    68    69     70    71   72  73    74    75   \\\n",
       "unique  BPA  Plumber  5.61  Brit  B.03  Ritik  5.56  MEd   B  B BA  7.06   \n",
       "\n",
       "             76   77        78    79  80      81    82  83      84      85   \\\n",
       "unique  B.B.Arch  ACA  Brithika  CGPA  24  M_Tech  Pihu  BB  Jhanvi  LLTech   \n",
       "\n",
       "          86            87    88   89    90      91     92   93    94   \\\n",
       "unique  Aarav  Entrepreneur  8.56  LHM  Lata  S.Arch  Marsh  HCA  5.88   \n",
       "\n",
       "              95       96   97     98      99   100   101     102      103  \\\n",
       "unique  B.Student  LL B.Ed  M.S  Navya  Mahika  NaN  K.Ed  B.3.79  Mthanya   \n",
       "\n",
       "                         104   105  106   107     108     109      110  111  \\\n",
       "unique  Working Professional  Esha  LLS  LLEd  E.Tech  Doctor  N.Pharm  LCA   \n",
       "\n",
       "            112  113    114     115  \n",
       "unique  B B.Com  RCA  Mihir  Advait  "
      ]
     },
     "execution_count": 268,
     "metadata": {},
     "output_type": "execute_result"
    }
   ],
   "source": [
    "pd.DataFrame({'unique':data['Degree'].unique().tolist()}).T"
   ]
  },
  {
   "cell_type": "code",
   "execution_count": 81,
   "id": "a3372580-5d99-4123-96d7-783d3c10eb08",
   "metadata": {},
   "outputs": [
    {
     "data": {
      "text/plain": [
       "Degree\n",
       "Class 12    14729\n",
       "B.Ed        11691\n",
       "B.Arch       8742\n",
       "B.Com        8113\n",
       "B.Pharm      5856\n",
       "BCA          5739\n",
       "M.Ed         5668\n",
       "MCA          5234\n",
       "Name: count, dtype: int64"
      ]
     },
     "execution_count": 81,
     "metadata": {},
     "output_type": "execute_result"
    }
   ],
   "source": [
    "data['Degree'].value_counts()[:8]"
   ]
  },
  {
   "cell_type": "markdown",
   "id": "07f0c533-99e1-46d2-81c9-3f332a617d11",
   "metadata": {},
   "source": [
    "**Observations**\n",
    "- More number of unique values are there need to be handled"
   ]
  },
  {
   "cell_type": "markdown",
   "id": "779b3810-11bd-40b9-b106-f7b18f7378e6",
   "metadata": {},
   "source": [
    "**11. Have you ever had suicidal thoughts ?**"
   ]
  },
  {
   "cell_type": "code",
   "execution_count": 85,
   "id": "afa029a8-6091-4cb3-8f9a-b0b7c14b2ed0",
   "metadata": {},
   "outputs": [
    {
     "data": {
      "text/html": [
       "<div>\n",
       "<style scoped>\n",
       "    .dataframe tbody tr th:only-of-type {\n",
       "        vertical-align: middle;\n",
       "    }\n",
       "\n",
       "    .dataframe tbody tr th {\n",
       "        vertical-align: top;\n",
       "    }\n",
       "\n",
       "    .dataframe thead th {\n",
       "        text-align: right;\n",
       "    }\n",
       "</style>\n",
       "<table border=\"1\" class=\"dataframe\">\n",
       "  <thead>\n",
       "    <tr style=\"text-align: right;\">\n",
       "      <th></th>\n",
       "      <th>0</th>\n",
       "      <th>1</th>\n",
       "    </tr>\n",
       "  </thead>\n",
       "  <tbody>\n",
       "    <tr>\n",
       "      <th>unique</th>\n",
       "      <td>No</td>\n",
       "      <td>Yes</td>\n",
       "    </tr>\n",
       "  </tbody>\n",
       "</table>\n",
       "</div>"
      ],
      "text/plain": [
       "         0    1\n",
       "unique  No  Yes"
      ]
     },
     "execution_count": 85,
     "metadata": {},
     "output_type": "execute_result"
    }
   ],
   "source": [
    "pd.DataFrame({'unique':data['Have you ever had suicidal thoughts ?'].unique().tolist()}).T"
   ]
  },
  {
   "cell_type": "code",
   "execution_count": 87,
   "id": "cab72362-1ded-417a-a41e-f507f7790f5b",
   "metadata": {},
   "outputs": [
    {
     "data": {
      "text/plain": [
       "Have you ever had suicidal thoughts ?\n",
       "No     71138\n",
       "Yes    69562\n",
       "Name: count, dtype: int64"
      ]
     },
     "execution_count": 87,
     "metadata": {},
     "output_type": "execute_result"
    }
   ],
   "source": [
    "data['Have you ever had suicidal thoughts ?'].value_counts()"
   ]
  },
  {
   "cell_type": "markdown",
   "id": "1ba54abb-8b90-4232-8647-147b98cc95ec",
   "metadata": {},
   "source": [
    "**12. Family History of Mental Illness**"
   ]
  },
  {
   "cell_type": "code",
   "execution_count": 90,
   "id": "c2767d78-419e-4020-9670-f5912b1222b4",
   "metadata": {},
   "outputs": [
    {
     "data": {
      "text/html": [
       "<div>\n",
       "<style scoped>\n",
       "    .dataframe tbody tr th:only-of-type {\n",
       "        vertical-align: middle;\n",
       "    }\n",
       "\n",
       "    .dataframe tbody tr th {\n",
       "        vertical-align: top;\n",
       "    }\n",
       "\n",
       "    .dataframe thead th {\n",
       "        text-align: right;\n",
       "    }\n",
       "</style>\n",
       "<table border=\"1\" class=\"dataframe\">\n",
       "  <thead>\n",
       "    <tr style=\"text-align: right;\">\n",
       "      <th></th>\n",
       "      <th>0</th>\n",
       "      <th>1</th>\n",
       "    </tr>\n",
       "  </thead>\n",
       "  <tbody>\n",
       "    <tr>\n",
       "      <th>unique</th>\n",
       "      <td>No</td>\n",
       "      <td>Yes</td>\n",
       "    </tr>\n",
       "  </tbody>\n",
       "</table>\n",
       "</div>"
      ],
      "text/plain": [
       "         0    1\n",
       "unique  No  Yes"
      ]
     },
     "execution_count": 90,
     "metadata": {},
     "output_type": "execute_result"
    }
   ],
   "source": [
    "pd.DataFrame({'unique':data['Family History of Mental Illness'].unique().tolist()}).T"
   ]
  },
  {
   "cell_type": "code",
   "execution_count": 92,
   "id": "bfd689f8-78a8-44d7-a963-490e382be45d",
   "metadata": {},
   "outputs": [
    {
     "data": {
      "text/plain": [
       "Family History of Mental Illness\n",
       "No     70758\n",
       "Yes    69942\n",
       "Name: count, dtype: int64"
      ]
     },
     "execution_count": 92,
     "metadata": {},
     "output_type": "execute_result"
    }
   ],
   "source": [
    "data['Family History of Mental Illness'].value_counts()"
   ]
  },
  {
   "cell_type": "markdown",
   "id": "88296bb4-6d9d-4b6f-a837-5bf00f39fb7e",
   "metadata": {},
   "source": [
    "**13. Depression**"
   ]
  },
  {
   "cell_type": "code",
   "execution_count": 95,
   "id": "63944210-ac57-4e19-9f09-dd40a2fd8186",
   "metadata": {},
   "outputs": [
    {
     "data": {
      "text/html": [
       "<div>\n",
       "<style scoped>\n",
       "    .dataframe tbody tr th:only-of-type {\n",
       "        vertical-align: middle;\n",
       "    }\n",
       "\n",
       "    .dataframe tbody tr th {\n",
       "        vertical-align: top;\n",
       "    }\n",
       "\n",
       "    .dataframe thead th {\n",
       "        text-align: right;\n",
       "    }\n",
       "</style>\n",
       "<table border=\"1\" class=\"dataframe\">\n",
       "  <thead>\n",
       "    <tr style=\"text-align: right;\">\n",
       "      <th></th>\n",
       "      <th>0</th>\n",
       "      <th>1</th>\n",
       "    </tr>\n",
       "  </thead>\n",
       "  <tbody>\n",
       "    <tr>\n",
       "      <th>unique</th>\n",
       "      <td>0</td>\n",
       "      <td>1</td>\n",
       "    </tr>\n",
       "  </tbody>\n",
       "</table>\n",
       "</div>"
      ],
      "text/plain": [
       "        0  1\n",
       "unique  0  1"
      ]
     },
     "execution_count": 95,
     "metadata": {},
     "output_type": "execute_result"
    }
   ],
   "source": [
    "pd.DataFrame({'unique':data['Depression'].unique().tolist()}).T"
   ]
  },
  {
   "cell_type": "code",
   "execution_count": 97,
   "id": "5dbf768b-ebe8-4c69-9e51-fc5e25a1a379",
   "metadata": {},
   "outputs": [
    {
     "data": {
      "text/plain": [
       "Depression\n",
       "0    115133\n",
       "1     25567\n",
       "Name: count, dtype: int64"
      ]
     },
     "execution_count": 97,
     "metadata": {},
     "output_type": "execute_result"
    }
   ],
   "source": [
    "data['Depression'].value_counts()"
   ]
  },
  {
   "cell_type": "code",
   "execution_count": 99,
   "id": "ab8035fb-8123-4a11-abd6-915f84b4ba5d",
   "metadata": {},
   "outputs": [
    {
     "data": {
      "text/plain": [
       "4.503187702898267"
      ]
     },
     "execution_count": 99,
     "metadata": {},
     "output_type": "execute_result"
    }
   ],
   "source": [
    "115133/25567\n",
    "# Class imbalance problem arises check it"
   ]
  },
  {
   "cell_type": "markdown",
   "id": "3f94622d-6707-4055-b1c0-a4a59d0c0711",
   "metadata": {},
   "source": [
    "**Numerical column exploration (Describe function)**"
   ]
  },
  {
   "cell_type": "markdown",
   "id": "cf6814c4-0919-4f0c-a250-5e71238eb8ea",
   "metadata": {},
   "source": [
    "**14. Age**"
   ]
  },
  {
   "cell_type": "code",
   "execution_count": 103,
   "id": "0eb30f12-7969-4298-baf0-72592b8d0f0e",
   "metadata": {},
   "outputs": [
    {
     "data": {
      "text/html": [
       "<div>\n",
       "<style scoped>\n",
       "    .dataframe tbody tr th:only-of-type {\n",
       "        vertical-align: middle;\n",
       "    }\n",
       "\n",
       "    .dataframe tbody tr th {\n",
       "        vertical-align: top;\n",
       "    }\n",
       "\n",
       "    .dataframe thead th {\n",
       "        text-align: right;\n",
       "    }\n",
       "</style>\n",
       "<table border=\"1\" class=\"dataframe\">\n",
       "  <thead>\n",
       "    <tr style=\"text-align: right;\">\n",
       "      <th></th>\n",
       "      <th>count</th>\n",
       "      <th>mean</th>\n",
       "      <th>std</th>\n",
       "      <th>min</th>\n",
       "      <th>25%</th>\n",
       "      <th>50%</th>\n",
       "      <th>75%</th>\n",
       "      <th>max</th>\n",
       "    </tr>\n",
       "  </thead>\n",
       "  <tbody>\n",
       "    <tr>\n",
       "      <th>Age</th>\n",
       "      <td>140700.0</td>\n",
       "      <td>40.388621</td>\n",
       "      <td>12.384099</td>\n",
       "      <td>18.0</td>\n",
       "      <td>29.0</td>\n",
       "      <td>42.0</td>\n",
       "      <td>51.0</td>\n",
       "      <td>60.0</td>\n",
       "    </tr>\n",
       "  </tbody>\n",
       "</table>\n",
       "</div>"
      ],
      "text/plain": [
       "        count       mean        std   min   25%   50%   75%   max\n",
       "Age  140700.0  40.388621  12.384099  18.0  29.0  42.0  51.0  60.0"
      ]
     },
     "execution_count": 103,
     "metadata": {},
     "output_type": "execute_result"
    }
   ],
   "source": [
    "data[continous].describe().T"
   ]
  },
  {
   "cell_type": "markdown",
   "id": "342e3f2e-926c-478c-90e3-634c101edc74",
   "metadata": {},
   "source": [
    "**Observations:**\n",
    "- This data surveyed on 18-60 year age people."
   ]
  },
  {
   "cell_type": "markdown",
   "id": "fa47f9ed-970a-460d-b070-a7357b103b39",
   "metadata": {},
   "source": [
    "**Exploratory Data Analysis**"
   ]
  },
  {
   "cell_type": "code",
   "execution_count": 107,
   "id": "c7453a36-4701-46ee-9c84-a7736f2a61bf",
   "metadata": {},
   "outputs": [
    {
     "data": {
      "text/html": [
       "<div>\n",
       "<style scoped>\n",
       "    .dataframe tbody tr th:only-of-type {\n",
       "        vertical-align: middle;\n",
       "    }\n",
       "\n",
       "    .dataframe tbody tr th {\n",
       "        vertical-align: top;\n",
       "    }\n",
       "\n",
       "    .dataframe thead th {\n",
       "        text-align: right;\n",
       "    }\n",
       "</style>\n",
       "<table border=\"1\" class=\"dataframe\">\n",
       "  <thead>\n",
       "    <tr style=\"text-align: right;\">\n",
       "      <th></th>\n",
       "      <th>Gender</th>\n",
       "      <th>Age</th>\n",
       "      <th>Working Professional or Student</th>\n",
       "      <th>Profession</th>\n",
       "      <th>Work Pressure</th>\n",
       "      <th>Job Satisfaction</th>\n",
       "      <th>Sleep Duration</th>\n",
       "      <th>Dietary Habits</th>\n",
       "      <th>Degree</th>\n",
       "      <th>Have you ever had suicidal thoughts ?</th>\n",
       "      <th>Work/Study Hours</th>\n",
       "      <th>Financial Stress</th>\n",
       "      <th>Family History of Mental Illness</th>\n",
       "      <th>Depression</th>\n",
       "    </tr>\n",
       "  </thead>\n",
       "  <tbody>\n",
       "    <tr>\n",
       "      <th>0</th>\n",
       "      <td>Female</td>\n",
       "      <td>49.0</td>\n",
       "      <td>Working Professional</td>\n",
       "      <td>Chef</td>\n",
       "      <td>5.0</td>\n",
       "      <td>2.0</td>\n",
       "      <td>More than 8 hours</td>\n",
       "      <td>Healthy</td>\n",
       "      <td>BHM</td>\n",
       "      <td>No</td>\n",
       "      <td>1.0</td>\n",
       "      <td>2.0</td>\n",
       "      <td>No</td>\n",
       "      <td>0</td>\n",
       "    </tr>\n",
       "    <tr>\n",
       "      <th>1</th>\n",
       "      <td>Male</td>\n",
       "      <td>26.0</td>\n",
       "      <td>Working Professional</td>\n",
       "      <td>Teacher</td>\n",
       "      <td>4.0</td>\n",
       "      <td>3.0</td>\n",
       "      <td>Less than 5 hours</td>\n",
       "      <td>Unhealthy</td>\n",
       "      <td>LLB</td>\n",
       "      <td>Yes</td>\n",
       "      <td>7.0</td>\n",
       "      <td>3.0</td>\n",
       "      <td>No</td>\n",
       "      <td>1</td>\n",
       "    </tr>\n",
       "    <tr>\n",
       "      <th>2</th>\n",
       "      <td>Male</td>\n",
       "      <td>33.0</td>\n",
       "      <td>Student</td>\n",
       "      <td>NaN</td>\n",
       "      <td>NaN</td>\n",
       "      <td>NaN</td>\n",
       "      <td>5-6 hours</td>\n",
       "      <td>Healthy</td>\n",
       "      <td>B.Pharm</td>\n",
       "      <td>Yes</td>\n",
       "      <td>3.0</td>\n",
       "      <td>1.0</td>\n",
       "      <td>No</td>\n",
       "      <td>1</td>\n",
       "    </tr>\n",
       "    <tr>\n",
       "      <th>3</th>\n",
       "      <td>Male</td>\n",
       "      <td>22.0</td>\n",
       "      <td>Working Professional</td>\n",
       "      <td>Teacher</td>\n",
       "      <td>5.0</td>\n",
       "      <td>1.0</td>\n",
       "      <td>Less than 5 hours</td>\n",
       "      <td>Moderate</td>\n",
       "      <td>BBA</td>\n",
       "      <td>Yes</td>\n",
       "      <td>10.0</td>\n",
       "      <td>1.0</td>\n",
       "      <td>Yes</td>\n",
       "      <td>1</td>\n",
       "    </tr>\n",
       "    <tr>\n",
       "      <th>4</th>\n",
       "      <td>Female</td>\n",
       "      <td>30.0</td>\n",
       "      <td>Working Professional</td>\n",
       "      <td>Business Analyst</td>\n",
       "      <td>1.0</td>\n",
       "      <td>1.0</td>\n",
       "      <td>5-6 hours</td>\n",
       "      <td>Unhealthy</td>\n",
       "      <td>BBA</td>\n",
       "      <td>Yes</td>\n",
       "      <td>9.0</td>\n",
       "      <td>4.0</td>\n",
       "      <td>Yes</td>\n",
       "      <td>0</td>\n",
       "    </tr>\n",
       "  </tbody>\n",
       "</table>\n",
       "</div>"
      ],
      "text/plain": [
       "   Gender   Age Working Professional or Student        Profession  \\\n",
       "0  Female  49.0            Working Professional              Chef   \n",
       "1    Male  26.0            Working Professional           Teacher   \n",
       "2    Male  33.0                         Student               NaN   \n",
       "3    Male  22.0            Working Professional           Teacher   \n",
       "4  Female  30.0            Working Professional  Business Analyst   \n",
       "\n",
       "   Work Pressure  Job Satisfaction     Sleep Duration Dietary Habits   Degree  \\\n",
       "0            5.0               2.0  More than 8 hours        Healthy      BHM   \n",
       "1            4.0               3.0  Less than 5 hours      Unhealthy      LLB   \n",
       "2            NaN               NaN          5-6 hours        Healthy  B.Pharm   \n",
       "3            5.0               1.0  Less than 5 hours       Moderate      BBA   \n",
       "4            1.0               1.0          5-6 hours      Unhealthy      BBA   \n",
       "\n",
       "  Have you ever had suicidal thoughts ?  Work/Study Hours  Financial Stress  \\\n",
       "0                                    No               1.0               2.0   \n",
       "1                                   Yes               7.0               3.0   \n",
       "2                                   Yes               3.0               1.0   \n",
       "3                                   Yes              10.0               1.0   \n",
       "4                                   Yes               9.0               4.0   \n",
       "\n",
       "  Family History of Mental Illness  Depression  \n",
       "0                               No           0  \n",
       "1                               No           1  \n",
       "2                               No           1  \n",
       "3                              Yes           1  \n",
       "4                              Yes           0  "
      ]
     },
     "execution_count": 107,
     "metadata": {},
     "output_type": "execute_result"
    }
   ],
   "source": [
    "data.head()"
   ]
  },
  {
   "cell_type": "code",
   "execution_count": 109,
   "id": "5762b14d-ee29-444e-8516-91c5350e0a94",
   "metadata": {},
   "outputs": [],
   "source": [
    "continous = ['Age']\n",
    "discrete_count = ['Work/Study Hours']\n",
    "ordinal = ['Job Satisfaction','Work Pressure','Financial Stress']\n",
    "nominal = ['Gender','Working Professional or Student','Sleep Duration','Dietary Habits','Have you ever had suicidal thoughts ?',\n",
    "           'Family History of Mental Illness','Profession','Degree','Depression']"
   ]
  },
  {
   "cell_type": "markdown",
   "id": "9813982a-b6cc-4d0d-8b5d-26459305b42b",
   "metadata": {},
   "source": [
    "**Exploratory Data Analysis on Categorical column**"
   ]
  },
  {
   "cell_type": "code",
   "execution_count": 112,
   "id": "6fcd26c6-a08f-455d-b1c5-440cc6cf68ac",
   "metadata": {
    "scrolled": true
   },
   "outputs": [
    {
     "data": {
      "image/png": "[encoded data removed]",
      "text/plain": [
       "<Figure size 1500x2500 with 13 Axes>"
      ]
     },
     "metadata": {},
     "output_type": "display_data"
    }
   ],
   "source": [
    "# Get the name of all columns with datatype 'object' (categorical column)\n",
    "cat_vars=discrete_count + ordinal + nominal\n",
    "\n",
    "# Create a figure with subplots\n",
    "num_cols=len(cat_vars)\n",
    "num_rows=(num_cols + 2) //3\n",
    "fig,axs=plt.subplots(nrows=num_rows,ncols=3,figsize=(15,5*num_rows))\n",
    "axs=axs.flatten()\n",
    "\n",
    "# Create a countplot for the top 6 values of each categorical variable using seaborn\n",
    "for i,var in enumerate(cat_vars):\n",
    "    top_values=data[var].value_counts().nlargest(6).index\n",
    "    filtered_df=data[data[var].isin(top_values)]\n",
    "    sns.countplot(x=var,data=filtered_df,ax=axs[i])\n",
    "    axs[i].set_title(var)\n",
    "    axs[i].tick_params(axis='x',rotation=90)\n",
    "\n",
    "# Remove any extra subplots if needed\n",
    "if num_cols<len(axs):\n",
    "    for i in range(num_cols,len(axs)):\n",
    "        fig.delaxes(axs[i])\n",
    "\n",
    "# Adjust spacing between subplots\n",
    "fig.tight_layout()\n",
    "\n",
    "# show plot\n",
    "plt.show()"
   ]
  },
  {
   "cell_type": "code",
   "execution_count": 113,
   "id": "f9d63c6c-ba8d-4f06-8fd6-ef8faf9422bd",
   "metadata": {
    "scrolled": true
   },
   "outputs": [
    {
     "data": {
      "image/png": "[encoded data removed]",
      "text/plain": [
       "<Figure size 1500x2000 with 12 Axes>"
      ]
     },
     "metadata": {},
     "output_type": "display_data"
    }
   ],
   "source": [
    "# Get the name of all columns with datatype 'object' (categorical column)\n",
    "cat_vars=discrete_count + ordinal + nominal\n",
    "\n",
    "# Exclude 'Depression' from the list if it exists in cat_vars\n",
    "if 'Depression' in cat_vars:\n",
    "    cat_vars.remove('Depression')\n",
    "\n",
    "# Create a figure with subplots, but only include the required number of subplots\n",
    "num_cols=len(cat_vars)\n",
    "num_rows=(num_cols + 2) // 3   # to make sure there are enough rows for the subplots\n",
    "fig,axs=plt.subplots(nrows=num_rows,ncols=3,figsize=(15,5*num_rows))\n",
    "axs=axs.flatten()\n",
    "\n",
    "# Create a count plot for the top 6 values of each categorical variable\n",
    "for i,var in enumerate(cat_vars):\n",
    "    top_values=data[var].value_counts().nlargest(6).index\n",
    "    filtered_df=data[data[var].isin(top_values)]\n",
    "    sns.countplot(x=var,hue='Depression',data=filtered_df,ax=axs[i])\n",
    "    axs[i].set_xticklabels(axs[i].get_xticklabels(),rotation=90)\n",
    "\n",
    "# Remove any remaining blank subplots\n",
    "for i in range(num_cols,len(axs)):\n",
    "    fig.delaxes(axs[i])\n",
    "\n",
    "# Adjust spacing between subplots\n",
    "fig.tight_layout()\n",
    "\n",
    "# Show the plot\n",
    "plt.show()"
   ]
  },
  {
   "cell_type": "markdown",
   "id": "631ea80f-1f7f-45db-b10e-fe708aa7a9c2",
   "metadata": {},
   "source": [
    "**Observations:**\n",
    "- Due to class imbalance problem it shows in all case that depression ratio is high."
   ]
  },
  {
   "cell_type": "markdown",
   "id": "d2cbd42a-2a97-4671-97c8-5469e907f437",
   "metadata": {},
   "source": [
    "**Exploratory data analysis on Numerical columns**"
   ]
  },
  {
   "cell_type": "code",
   "execution_count": 116,
   "id": "5d9e12d8-2758-472f-9460-8f6a2c3c56b2",
   "metadata": {},
   "outputs": [
    {
     "data": {
      "image/png": "[encoded data removed]",
      "text/plain": [
       "<Figure size 640x480 with 1 Axes>"
      ]
     },
     "metadata": {},
     "output_type": "display_data"
    }
   ],
   "source": [
    "sns.histplot(data[continous],kde=True)\n",
    "plt.show()"
   ]
  },
  {
   "cell_type": "code",
   "execution_count": 117,
   "id": "7649900e-d078-41de-8dea-0c6654e8c56b",
   "metadata": {},
   "outputs": [
    {
     "data": {
      "image/png": "[encoded data removed]",
      "text/plain": [
       "<Figure size 640x480 with 1 Axes>"
      ]
     },
     "metadata": {},
     "output_type": "display_data"
    }
   ],
   "source": [
    "sns.boxplot(data[continous])\n",
    "plt.show()"
   ]
  },
  {
   "cell_type": "code",
   "execution_count": 118,
   "id": "f2f2d4d0-0c4b-467c-82e5-d20ef67fd300",
   "metadata": {},
   "outputs": [
    {
     "data": {
      "text/plain": [
       "Age   -0.217977\n",
       "dtype: float64"
      ]
     },
     "execution_count": 118,
     "metadata": {},
     "output_type": "execute_result"
    }
   ],
   "source": [
    "data[continous].skew()"
   ]
  },
  {
   "cell_type": "markdown",
   "id": "2c5576f8-807b-4dad-ac14-4e3e5b228e12",
   "metadata": {},
   "source": [
    "### *Step-3: Data Preprocessing*"
   ]
  },
  {
   "cell_type": "markdown",
   "id": "db49bba2-ed45-4fd9-ab4b-37a8d0a23b73",
   "metadata": {},
   "source": [
    "**1. Data Cleaning**"
   ]
  },
  {
   "cell_type": "markdown",
   "id": "1874bf9f-85d1-4efd-b6ba-5ce07e9e87fa",
   "metadata": {},
   "source": [
    "**1.1 Wrong data**"
   ]
  },
  {
   "cell_type": "code",
   "execution_count": 82,
   "id": "659a2013-b60e-4b12-90a6-5b7234a4b905",
   "metadata": {},
   "outputs": [],
   "source": [
    "# Columns need to be handled\n",
    "wrong_data_columns = ['Sleep Duration','Profession','Dietary Habits']"
   ]
  },
  {
   "cell_type": "code",
   "execution_count": 84,
   "id": "5328366b-c75a-4552-9beb-1658497ee3f8",
   "metadata": {},
   "outputs": [],
   "source": [
    "data['Sleep Duration'].replace({'Less than 5 hours':'Moderate','7-8 hours':'Good','More than 8 hours':'Excellent','5-6 hours':'Good','3-4 hours':'Moderate',\n",
    "                               '6-7 hours':'Good','4-5 hours':'Moderate','2-3 hours':'Moderate','4-6 hours':'Good','6-8 hours':'Good','1-6 hours':'Good',\n",
    "                                '9-11 hours':'Excellent','45':'Moderate','8-9 hours':'Excellent','10-6 hours':'Good','9-5':'Moderate','45-48 hours':'Good',\n",
    "                                '3-6 hours':'Good','49 hours':'Excellent','than 5 hours':'Moderate','9-6 hours':'Good','8 hours':'Good','35-36 hours':'Good',\n",
    "                                '1-3 hours':'Moderate','55-66 hours':'Good','40-45 hours':'Moderate','1-2 hours':'Moderate','9-5 hours':'Moderate',\n",
    "                                '10-11 hours':'Excellent'\n",
    "},inplace=True)"
   ]
  },
  {
   "cell_type": "code",
   "execution_count": 86,
   "id": "65b3e9c9-2de2-4570-9473-d314738a9b75",
   "metadata": {},
   "outputs": [
    {
     "data": {
      "text/plain": [
       "Sleep Duration\n",
       "Good                69139\n",
       "Moderate            38817\n",
       "Excellent           32733\n",
       "No                      4\n",
       "Sleep_Duration          2\n",
       "Unhealthy               2\n",
       "Indore                  1\n",
       "Work_Study_Hours        1\n",
       "Pune                    1\n",
       "Name: count, dtype: int64"
      ]
     },
     "execution_count": 86,
     "metadata": {},
     "output_type": "execute_result"
    }
   ],
   "source": [
    "data['Sleep Duration'].value_counts()"
   ]
  },
  {
   "cell_type": "code",
   "execution_count": 88,
   "id": "a6e117fa-b49a-4297-8ea3-76d395571426",
   "metadata": {},
   "outputs": [
    {
     "data": {
      "text/plain": [
       "11"
      ]
     },
     "execution_count": 88,
     "metadata": {},
     "output_type": "execute_result"
    }
   ],
   "source": [
    "sleep_wrong_data = data[(data['Sleep Duration']!='Moderate') & (data['Sleep Duration']!='Good') & (data['Sleep Duration']!='Excellent')].index\n",
    "sleep_wrong_data = sleep_wrong_data.tolist()\n",
    "len(sleep_wrong_data)"
   ]
  },
  {
   "cell_type": "code",
   "execution_count": 90,
   "id": "000dda57-82b0-47af-a62d-a1db74d7f338",
   "metadata": {},
   "outputs": [],
   "source": [
    "data.drop(index=sleep_wrong_data,inplace=True)"
   ]
  },
  {
   "cell_type": "code",
   "execution_count": 92,
   "id": "b7d83d74-a945-4197-bc13-d137ced83c41",
   "metadata": {},
   "outputs": [],
   "source": [
    "data['Dietary Habits'].replace({'More Healthy':'Healthy','No Healthy':'Unhealthy','Less Healthy':'Unhealthy','Less than Healthy':'Unhealthy',\n",
    "                               },inplace=True)"
   ]
  },
  {
   "cell_type": "code",
   "execution_count": 94,
   "id": "99a61e54-41e5-42fb-9829-709482d5f2c0",
   "metadata": {},
   "outputs": [
    {
     "data": {
      "text/plain": [
       "Dietary Habits\n",
       "Moderate       49703\n",
       "Unhealthy      46224\n",
       "Healthy        44740\n",
       "Yes                2\n",
       "No                 2\n",
       "Electrician        1\n",
       "Class 12           1\n",
       "Indoor             1\n",
       "Male               1\n",
       "Vegas              1\n",
       "M.Tech             1\n",
       "1.0                1\n",
       "Hormonal           1\n",
       "Mihir              1\n",
       "3                  1\n",
       "Gender             1\n",
       "BSc                1\n",
       "Pratham            1\n",
       "2                  1\n",
       "Name: count, dtype: int64"
      ]
     },
     "execution_count": 94,
     "metadata": {},
     "output_type": "execute_result"
    }
   ],
   "source": [
    "data['Dietary Habits'].value_counts()"
   ]
  },
  {
   "cell_type": "code",
   "execution_count": 96,
   "id": "ef81fa9e-3989-4c60-8624-e1db0f687d19",
   "metadata": {},
   "outputs": [
    {
     "data": {
      "text/plain": [
       "4"
      ]
     },
     "execution_count": 96,
     "metadata": {},
     "output_type": "execute_result"
    }
   ],
   "source": [
    "data['Dietary Habits'].isnull().sum()"
   ]
  },
  {
   "cell_type": "code",
   "execution_count": 98,
   "id": "c985ba0d-a64d-409c-acd1-ac6eee37d2b4",
   "metadata": {},
   "outputs": [
    {
     "data": {
      "text/plain": [
       "22"
      ]
     },
     "execution_count": 98,
     "metadata": {},
     "output_type": "execute_result"
    }
   ],
   "source": [
    "# Missing value also included\n",
    "dietary_wrong_data = data[(data['Dietary Habits'] != 'Moderate') & (data['Dietary Habits'] != 'Unhealthy') & (data['Dietary Habits'] != 'Healthy')].index\n",
    "dietary_wrong_data = dietary_wrong_data.tolist()\n",
    "len(dietary_wrong_data)"
   ]
  },
  {
   "cell_type": "code",
   "execution_count": 100,
   "id": "b76c29e2-4ad4-4a1a-95b3-cfec3ae16ad1",
   "metadata": {},
   "outputs": [],
   "source": [
    "data.drop(index=dietary_wrong_data,inplace=True)"
   ]
  },
  {
   "cell_type": "code",
   "execution_count": 102,
   "id": "4dd8aad4-cdc0-48ef-9ab6-429d4dfbbeaf",
   "metadata": {},
   "outputs": [],
   "source": [
    "data['Profession'].replace({'Academic':'Student', 'BCA':'Student',\n",
    "                            'LLM':'Student', 'PhD':'Student', 'MBA':'Student','BE':'Student','M.Ed':'Student','B.Ed':'Student','MBBS':'Student',\n",
    "                             'BBA':'Student','B.Com':'Student','Medical Doctor':'Doctor','Finanancial Analyst':'Financial Analyst'},\n",
    "                           inplace=True)"
   ]
  },
  {
   "cell_type": "code",
   "execution_count": 104,
   "id": "43be164a-6539-4cf9-9bf3-2099df1410da",
   "metadata": {},
   "outputs": [
    {
     "data": {
      "text/plain": [
       "Profession\n",
       "Teacher                   24899\n",
       "Content Writer             7814\n",
       "Architect                  4369\n",
       "Consultant                 4226\n",
       "HR Manager                 4022\n",
       "Pharmacist                 3891\n",
       "Doctor                     3255\n",
       "Business Analyst           3161\n",
       "Entrepreneur               2968\n",
       "Chemist                    2967\n",
       "Financial Analyst          2901\n",
       "Chef                       2862\n",
       "Educational Consultant     2852\n",
       "Data Scientist             2389\n",
       "Researcher                 2327\n",
       "Lawyer                     2212\n",
       "Customer Support           2055\n",
       "Marketing Manager          1976\n",
       "Pilot                      1913\n",
       "Travel Consultant          1860\n",
       "Plumber                    1747\n",
       "Sales Executive            1739\n",
       "Manager                    1737\n",
       "Judge                      1711\n",
       "Electrician                1582\n",
       "Software Engineer          1510\n",
       "Civil Engineer             1468\n",
       "UX/UI Designer             1452\n",
       "Digital Marketer           1372\n",
       "Accountant                 1339\n",
       "Mechanical Engineer        1176\n",
       "Graphic Designer           1162\n",
       "Research Analyst            690\n",
       "Investment Banker           393\n",
       "Student                      27\n",
       "Yogesh                        3\n",
       "Profession                    3\n",
       "Unemployed                    3\n",
       "Visakhapatnam                 1\n",
       "Unveil                        1\n",
       "Pranav                        1\n",
       "Analyst                       1\n",
       "Moderate                      1\n",
       "Nagpur                        1\n",
       "Family Consultant             1\n",
       "Patna                         1\n",
       "Working Professional          1\n",
       "City Manager                  1\n",
       "FamilyVirar                   1\n",
       "Dev                           1\n",
       "Yuvraj                        1\n",
       "Name: count, dtype: int64"
      ]
     },
     "execution_count": 104,
     "metadata": {},
     "output_type": "execute_result"
    }
   ],
   "source": [
    "pd.set_option('display.max_rows',None)\n",
    "data['Profession'].value_counts()"
   ]
  },
  {
   "cell_type": "code",
   "execution_count": 106,
   "id": "1e2608c4-9811-4255-9d02-6cec466be94f",
   "metadata": {},
   "outputs": [
    {
     "data": {
      "text/plain": [
       "19"
      ]
     },
     "execution_count": 106,
     "metadata": {},
     "output_type": "execute_result"
    }
   ],
   "source": [
    "profession_wrong_data = data[(data['Profession'] == 'Profession') | (data['Profession'] == 'Yogesh') | (data['Profession'] == 'Dev') | (data['Profession'] == 'Family Consultant') | (data['Profession'] == 'Visakhapatnam') | (data['Profession'] == 'Pranav') | (data['Profession'] == 'Analyst') | (data['Profession'] == 'Moderate') | (data['Profession'] == 'Nagpur') | (data['Profession'] == 'Unveil') | (data['Profession'] == 'Patna') | (data['Profession'] == 'Working Professional') | (data['Profession'] == 'City Manager') | (data['Profession'] == 'FamilyVirar') | (data['Profession'] == 'Yuvraj')].index\n",
    "profession_wrong_data = profession_wrong_data.tolist()\n",
    "len(profession_wrong_data)"
   ]
  },
  {
   "cell_type": "code",
   "execution_count": 108,
   "id": "314eb827-42db-4b3a-8d07-cd3b7e46f4cd",
   "metadata": {},
   "outputs": [],
   "source": [
    "data.drop(index=profession_wrong_data,inplace=True)"
   ]
  },
  {
   "cell_type": "code",
   "execution_count": 110,
   "id": "0a222b90-f4ca-45d4-a83c-0089bce1f968",
   "metadata": {},
   "outputs": [],
   "source": [
    "data['Degree'].replace({'Class 12':'Intermediate','B.Ed':'UG','B.Arch':'UG','B.Com':'UG','B.Pharm':'UG','BCA':'UG','M.Ed':'PG','MCA':'PG','BBA':'UG',\n",
    "                        'BSc':'UG','MSc':'PG','LLM':'PG','M.Pharm':'PG','M.Tech':'PG','B.Tech':'UG','LLB':'UG','BHM':'UG','MBA':'PG','BA':'UG','ME':'PG',\n",
    "                        'MD':'PG','MHM':'PG','BE':'UG','PhD':'DT','M.Com':'PG','MBBS':'UG','MA':'PG','M.Arch':'PG','B.Sc':'UG','BArch':'UG','MEd':'PG',\n",
    "                        'BPharm':'UG','LLBA':'UG','BEd':'UG','LL B.Ed':'UG','L.Ed':'PG','HCA':'UG','S.Arch':'UG','LHM':'PG','LLTech':'PG','BB':'UG',\n",
    "                        'M_Tech':'PG','E.Tech':'UG','RCA':'UG','B B.Com':'UG','LCA':'PG','N.Pharm':'UG','LLEd':'UG','K.Ed':'PG','ACA':'PG','P.Pharm':'UG',\n",
    "                        'MPharm':'PG','LL.Com':'PG','H_Pharm':'UG','Class 11':'Intermediate','S.Tech':'UG','BH':'UG','MPA':'PG','S.Pharm':'UG',\n",
    "                        'M. Business Analyst':'PG','B.B.Arch':'UG','B BA':'UG','BPA':'UG','MTech':'PG','LLCom':'PG'\n",
    "},inplace=True)"
   ]
  },
  {
   "cell_type": "code",
   "execution_count": 111,
   "id": "b0e7bbb0-b97d-4dd0-a13a-cd28e60f624d",
   "metadata": {},
   "outputs": [
    {
     "data": {
      "text/plain": [
       "65"
      ]
     },
     "execution_count": 111,
     "metadata": {},
     "output_type": "execute_result"
    }
   ],
   "source": [
    "# Missing value also included\n",
    "degree_wrong_data = data[(data['Degree'] != 'UG') & (data['Degree'] != 'PG') & (data['Degree'] != 'Intermediate') & (data['Degree'] != 'DT')].index\n",
    "degree_wrong_data = degree_wrong_data.tolist()\n",
    "len(degree_wrong_data)"
   ]
  },
  {
   "cell_type": "code",
   "execution_count": 114,
   "id": "bbe1df87-83b9-41f0-b4ab-52ef0d2861e4",
   "metadata": {},
   "outputs": [],
   "source": [
    "data.drop(index=degree_wrong_data,inplace=True)"
   ]
  },
  {
   "cell_type": "code",
   "execution_count": 116,
   "id": "8d0ef676-e214-4461-9165-e0f4f4e068f8",
   "metadata": {},
   "outputs": [
    {
     "data": {
      "text/plain": [
       "Degree\n",
       "UG              73213\n",
       "PG              49539\n",
       "Intermediate    14730\n",
       "DT               3101\n",
       "Name: count, dtype: int64"
      ]
     },
     "execution_count": 116,
     "metadata": {},
     "output_type": "execute_result"
    }
   ],
   "source": [
    "pd.set_option('display.max_rows',None)\n",
    "data['Degree'].value_counts()"
   ]
  },
  {
   "cell_type": "code",
   "execution_count": 118,
   "id": "91a9f5bb-af81-4fe9-b56d-f1b8981e0475",
   "metadata": {},
   "outputs": [],
   "source": [
    "# Try by dropping 'profession' and 'Degree' column\n",
    "# data.drop(columns='Degree',inplace=True)\n",
    "# data.drop(columns = 'Profession',inplace=True)"
   ]
  },
  {
   "cell_type": "code",
   "execution_count": 120,
   "id": "e29e3fd3-dd12-4762-bc6b-7aabd594a4d3",
   "metadata": {},
   "outputs": [
    {
     "data": {
      "text/plain": [
       "(140583, 14)"
      ]
     },
     "execution_count": 120,
     "metadata": {},
     "output_type": "execute_result"
    }
   ],
   "source": [
    "data.shape"
   ]
  },
  {
   "cell_type": "markdown",
   "id": "f22baaf0-bea5-447d-acec-d163ea7adeb8",
   "metadata": {},
   "source": [
    "**1.2 Wrong data type**"
   ]
  },
  {
   "cell_type": "code",
   "execution_count": 147,
   "id": "f6afff30-6a07-4979-aefc-68b447656a55",
   "metadata": {},
   "outputs": [],
   "source": [
    "# No wrong data type"
   ]
  },
  {
   "cell_type": "markdown",
   "id": "287e6df3-0e22-45fb-8135-9646a372f18f",
   "metadata": {},
   "source": [
    "**1.3 Duplicates**"
   ]
  },
  {
   "cell_type": "code",
   "execution_count": 122,
   "id": "42b9c84f-5e1c-40ff-aded-8c35abf618a4",
   "metadata": {},
   "outputs": [
    {
     "data": {
      "text/plain": [
       "3599"
      ]
     },
     "execution_count": 122,
     "metadata": {},
     "output_type": "execute_result"
    }
   ],
   "source": [
    "data.duplicated().sum()"
   ]
  },
  {
   "cell_type": "code",
   "execution_count": 171,
   "id": "cce758ee-7962-404d-a9b5-f36fd03d50a5",
   "metadata": {},
   "outputs": [],
   "source": [
    "# Remove Duplicates\n",
    "# data.drop_duplicates(inplace=True,ignore_index=True)"
   ]
  },
  {
   "cell_type": "markdown",
   "id": "279a174e-85d2-4cfd-84f9-1715896ba673",
   "metadata": {},
   "source": [
    "**1.4 Missing values**"
   ]
  },
  {
   "cell_type": "code",
   "execution_count": 128,
   "id": "51258821-5e7c-44a0-ae17-22d14949ad67",
   "metadata": {},
   "outputs": [
    {
     "data": {
      "text/plain": [
       "Gender                                   0\n",
       "Age                                      0\n",
       "Working Professional or Student          0\n",
       "Profession                               0\n",
       "Work Pressure                            0\n",
       "Job Satisfaction                         0\n",
       "Sleep Duration                           0\n",
       "Dietary Habits                           0\n",
       "Degree                                   0\n",
       "Have you ever had suicidal thoughts ?    0\n",
       "Work/Study Hours                         0\n",
       "Financial Stress                         0\n",
       "Family History of Mental Illness         0\n",
       "Depression                               0\n",
       "dtype: int64"
      ]
     },
     "execution_count": 128,
     "metadata": {},
     "output_type": "execute_result"
    }
   ],
   "source": [
    "data.isnull().sum()"
   ]
  },
  {
   "cell_type": "code",
   "execution_count": 384,
   "id": "5d25cf8b-0a31-4494-a378-74b8d1faf4aa",
   "metadata": {},
   "outputs": [],
   "source": [
    "# data.dropna(inplace=True)"
   ]
  },
  {
   "cell_type": "code",
   "execution_count": 126,
   "id": "32337517-462f-4c34-b1e7-86346a940a2c",
   "metadata": {},
   "outputs": [],
   "source": [
    "# Check with dropping missing values later replace them and retrain model\n",
    "# Replace with mode\n",
    "# data['Profession'].fillna(data['Profession'].mode()[0],inplace=True)\n",
    "data[\"Profession\"].fillna(\"Unemployed\", inplace=True)\n",
    "data['Work Pressure'].fillna(data['Work Pressure'].mode()[0],inplace=True)\n",
    "data['Job Satisfaction'].fillna(data['Job Satisfaction'].mode()[0],inplace=True)\n",
    "# data['Dietary Habits'].fillna(data['Dietary Habits'].mode()[0],inplace=True)\n",
    "data['Financial Stress'].fillna(data['Financial Stress'].mode()[0],inplace=True)"
   ]
  },
  {
   "cell_type": "markdown",
   "id": "c47f5f3c-2fd6-498a-a051-bf21986e056d",
   "metadata": {},
   "source": [
    "**2. Data Wrangling**"
   ]
  },
  {
   "cell_type": "markdown",
   "id": "98f351bc-1f14-489b-8ca3-d978e2cfbe55",
   "metadata": {},
   "source": [
    "**2.1 Feature Transformation**"
   ]
  },
  {
   "cell_type": "code",
   "execution_count": 486,
   "id": "2347a0b9-fed2-4ef5-b16c-96ab83fd28b1",
   "metadata": {},
   "outputs": [],
   "source": [
    "# No feature transformation is required at this moment"
   ]
  },
  {
   "cell_type": "markdown",
   "id": "aba435a5-fac1-4934-9e7f-a5d29e608cbb",
   "metadata": {},
   "source": [
    "**2.2 Feature Scaling**"
   ]
  },
  {
   "cell_type": "code",
   "execution_count": 130,
   "id": "3441f41e-1718-460f-a6e8-7cb3bec1fab0",
   "metadata": {},
   "outputs": [],
   "source": [
    "from sklearn.preprocessing import StandardScaler\n",
    "sc = StandardScaler()\n",
    "data['Age']=sc.fit_transform(data[['Age']])"
   ]
  },
  {
   "cell_type": "markdown",
   "id": "71ef714a-9a61-45fb-951f-9278ce855e86",
   "metadata": {},
   "source": [
    "**2.3 Discretization**"
   ]
  },
  {
   "cell_type": "code",
   "execution_count": 492,
   "id": "90125ee8-542a-4499-8014-f319e3547628",
   "metadata": {},
   "outputs": [],
   "source": [
    "# No discretization is required at this moment"
   ]
  },
  {
   "cell_type": "markdown",
   "id": "2a3907be-ed6a-4bb0-8ecb-02d364aad2af",
   "metadata": {},
   "source": [
    "**2.4 Feature Encoding**"
   ]
  },
  {
   "cell_type": "markdown",
   "id": "0562a45f-81b9-474b-a58d-bbdb2fbfd7be",
   "metadata": {},
   "source": [
    "**1. Nominal encoding**"
   ]
  },
  {
   "cell_type": "code",
   "execution_count": 132,
   "id": "9fd31dd7-ce89-4ae6-bcdd-d5161086bfb6",
   "metadata": {},
   "outputs": [],
   "source": [
    "from sklearn.preprocessing import LabelEncoder\n",
    "en = LabelEncoder()\n",
    "data['Gender'] = en.fit_transform(data['Gender'])\n",
    "data['Working Professional or Student'] = en.fit_transform(data['Working Professional or Student'])\n",
    "data['Have you ever had suicidal thoughts ?'] = en.fit_transform(data['Have you ever had suicidal thoughts ?'])\n",
    "data['Family History of Mental Illness'] = en.fit_transform(data['Family History of Mental Illness'])\n",
    "data['Profession'] = en.fit_transform(data['Profession'])"
   ]
  },
  {
   "cell_type": "markdown",
   "id": "b7864d68-628a-47e2-9d51-af05dea8a4be",
   "metadata": {},
   "source": [
    "**2. One Hot Encoding**"
   ]
  },
  {
   "cell_type": "code",
   "execution_count": 303,
   "id": "78240fdc-7837-4537-bdaa-c2c6eb7328ad",
   "metadata": {},
   "outputs": [],
   "source": [
    "# data = pd.get_dummies(data,drop_first=True)"
   ]
  },
  {
   "cell_type": "markdown",
   "id": "895d7665-51f2-4c5b-821f-7bde06227b91",
   "metadata": {},
   "source": [
    "**3. Oridinal Encoding**"
   ]
  },
  {
   "cell_type": "code",
   "execution_count": 134,
   "id": "02a5f155-9df5-42ba-b9c3-64fc4a6ca74e",
   "metadata": {},
   "outputs": [],
   "source": [
    "data[\"Sleep Duration\"].replace({'Moderate':0,'Good':1,'Excellent':2},inplace=True)\n",
    "data[\"Dietary Habits\"].replace({'Unhealthy':0,'Moderate':1,'Healthy':2},inplace=True)\n",
    "data['Degree'].replace({'Intermediate':0,'UG':1,'PG':2,'DT':3},inplace=True)"
   ]
  },
  {
   "cell_type": "code",
   "execution_count": 136,
   "id": "8cc98001-e02a-4a5d-afc7-74d12dbfa41e",
   "metadata": {},
   "outputs": [
    {
     "data": {
      "text/html": [
       "<div>\n",
       "<style scoped>\n",
       "    .dataframe tbody tr th:only-of-type {\n",
       "        vertical-align: middle;\n",
       "    }\n",
       "\n",
       "    .dataframe tbody tr th {\n",
       "        vertical-align: top;\n",
       "    }\n",
       "\n",
       "    .dataframe thead th {\n",
       "        text-align: right;\n",
       "    }\n",
       "</style>\n",
       "<table border=\"1\" class=\"dataframe\">\n",
       "  <thead>\n",
       "    <tr style=\"text-align: right;\">\n",
       "      <th></th>\n",
       "      <th>Gender</th>\n",
       "      <th>Age</th>\n",
       "      <th>Working Professional or Student</th>\n",
       "      <th>Profession</th>\n",
       "      <th>Work Pressure</th>\n",
       "      <th>Job Satisfaction</th>\n",
       "      <th>Sleep Duration</th>\n",
       "      <th>Dietary Habits</th>\n",
       "      <th>Degree</th>\n",
       "      <th>Have you ever had suicidal thoughts ?</th>\n",
       "      <th>Work/Study Hours</th>\n",
       "      <th>Financial Stress</th>\n",
       "      <th>Family History of Mental Illness</th>\n",
       "      <th>Depression</th>\n",
       "    </tr>\n",
       "  </thead>\n",
       "  <tbody>\n",
       "    <tr>\n",
       "      <th>0</th>\n",
       "      <td>0</td>\n",
       "      <td>0.695320</td>\n",
       "      <td>1</td>\n",
       "      <td>3</td>\n",
       "      <td>5.0</td>\n",
       "      <td>2.0</td>\n",
       "      <td>2</td>\n",
       "      <td>2</td>\n",
       "      <td>1</td>\n",
       "      <td>0</td>\n",
       "      <td>1.0</td>\n",
       "      <td>2.0</td>\n",
       "      <td>0</td>\n",
       "      <td>0</td>\n",
       "    </tr>\n",
       "    <tr>\n",
       "      <th>1</th>\n",
       "      <td>1</td>\n",
       "      <td>-1.161933</td>\n",
       "      <td>1</td>\n",
       "      <td>32</td>\n",
       "      <td>4.0</td>\n",
       "      <td>3.0</td>\n",
       "      <td>0</td>\n",
       "      <td>0</td>\n",
       "      <td>1</td>\n",
       "      <td>1</td>\n",
       "      <td>7.0</td>\n",
       "      <td>3.0</td>\n",
       "      <td>0</td>\n",
       "      <td>1</td>\n",
       "    </tr>\n",
       "    <tr>\n",
       "      <th>2</th>\n",
       "      <td>1</td>\n",
       "      <td>-0.596682</td>\n",
       "      <td>0</td>\n",
       "      <td>35</td>\n",
       "      <td>2.0</td>\n",
       "      <td>2.0</td>\n",
       "      <td>1</td>\n",
       "      <td>2</td>\n",
       "      <td>1</td>\n",
       "      <td>1</td>\n",
       "      <td>3.0</td>\n",
       "      <td>1.0</td>\n",
       "      <td>0</td>\n",
       "      <td>1</td>\n",
       "    </tr>\n",
       "    <tr>\n",
       "      <th>3</th>\n",
       "      <td>1</td>\n",
       "      <td>-1.484933</td>\n",
       "      <td>1</td>\n",
       "      <td>32</td>\n",
       "      <td>5.0</td>\n",
       "      <td>1.0</td>\n",
       "      <td>0</td>\n",
       "      <td>1</td>\n",
       "      <td>1</td>\n",
       "      <td>1</td>\n",
       "      <td>10.0</td>\n",
       "      <td>1.0</td>\n",
       "      <td>1</td>\n",
       "      <td>1</td>\n",
       "    </tr>\n",
       "    <tr>\n",
       "      <th>4</th>\n",
       "      <td>0</td>\n",
       "      <td>-0.838933</td>\n",
       "      <td>1</td>\n",
       "      <td>2</td>\n",
       "      <td>1.0</td>\n",
       "      <td>1.0</td>\n",
       "      <td>1</td>\n",
       "      <td>0</td>\n",
       "      <td>1</td>\n",
       "      <td>1</td>\n",
       "      <td>9.0</td>\n",
       "      <td>4.0</td>\n",
       "      <td>1</td>\n",
       "      <td>0</td>\n",
       "    </tr>\n",
       "  </tbody>\n",
       "</table>\n",
       "</div>"
      ],
      "text/plain": [
       "   Gender       Age  Working Professional or Student  Profession  \\\n",
       "0       0  0.695320                                1           3   \n",
       "1       1 -1.161933                                1          32   \n",
       "2       1 -0.596682                                0          35   \n",
       "3       1 -1.484933                                1          32   \n",
       "4       0 -0.838933                                1           2   \n",
       "\n",
       "   Work Pressure  Job Satisfaction  Sleep Duration  Dietary Habits  Degree  \\\n",
       "0            5.0               2.0               2               2       1   \n",
       "1            4.0               3.0               0               0       1   \n",
       "2            2.0               2.0               1               2       1   \n",
       "3            5.0               1.0               0               1       1   \n",
       "4            1.0               1.0               1               0       1   \n",
       "\n",
       "   Have you ever had suicidal thoughts ?  Work/Study Hours  Financial Stress  \\\n",
       "0                                      0               1.0               2.0   \n",
       "1                                      1               7.0               3.0   \n",
       "2                                      1               3.0               1.0   \n",
       "3                                      1              10.0               1.0   \n",
       "4                                      1               9.0               4.0   \n",
       "\n",
       "   Family History of Mental Illness  Depression  \n",
       "0                                 0           0  \n",
       "1                                 0           1  \n",
       "2                                 0           1  \n",
       "3                                 1           1  \n",
       "4                                 1           0  "
      ]
     },
     "execution_count": 136,
     "metadata": {},
     "output_type": "execute_result"
    }
   ],
   "source": [
    "data.head()"
   ]
  },
  {
   "cell_type": "code",
   "execution_count": 138,
   "id": "cfe85792-6845-4a87-82f3-e263b8ea9c10",
   "metadata": {},
   "outputs": [],
   "source": [
    "data.to_csv('cleaned_data9.csv',index=False)"
   ]
  },
  {
   "cell_type": "code",
   "execution_count": null,
   "id": "8a602a79-f013-4381-b633-3dc270978c97",
   "metadata": {},
   "outputs": [],
   "source": []
  }
 ],
 "metadata": {
  "kernelspec": {
   "display_name": "Python 3 (ipykernel)",
   "language": "python",
   "name": "python3"
  },
  "language_info": {
   "codemirror_mode": {
    "name": "ipython",
    "version": 3
   },
   "file_extension": ".py",
   "mimetype": "text/x-python",
   "name": "python",
   "nbconvert_exporter": "python",
   "pygments_lexer": "ipython3",
   "version": "3.12.7"
  }
 },
 "nbformat": 4,
 "nbformat_minor": 5
}
