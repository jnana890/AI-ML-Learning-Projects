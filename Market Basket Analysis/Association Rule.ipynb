{
 "cells": [
  {
   "cell_type": "markdown",
   "id": "f29f0d84-9432-43c5-906f-fc42432f1fa3",
   "metadata": {},
   "source": [
    "## Market Basket Analysis | Association Rule Minning | Recommendation Systemm"
   ]
  },
  {
   "cell_type": "markdown",
   "id": "76b53deb-5a4e-4fba-b477-635fd21ab114",
   "metadata": {},
   "source": [
    "**Market Basket Analysis:**\n",
    "\n",
    "-  Market Basket Analysis stands as a crucial technique employed by major retailers to unveil connections among product.\n",
    "- ⚫ This method involves searching for combinations of items that frequently appear together in customer transaction\n",
    "- \n",
    "⚫ In simpler terms, it empowers retailers to pinpoint correlations between the items purchased by custome\n",
    "- \r\n",
    "• Association Rules are widely used to analyze retail basket or transaction data and are intended to identify strong patt rns\r\n",
    "discovered in transaction data."
   ]
  },
  {
   "cell_type": "markdown",
   "id": "30caa7e4-84ab-4ae3-ac97-ab7bf968f91e",
   "metadata": {},
   "source": [
    "**Association Rule Mining:**\n",
    "\r",
    "- \n",
    "Association rule mining is a process that deploys pattern recognition to identify and quantify relationship betwee \r\n",
    "different, yet related item\n",
    "- .\r\n",
    "A simple association rules use cas\n",
    "-  -\r\n",
    "Eggs and Bread are frequently purchased together. With this finding, you can incr ase sales\n",
    "- by:\r\n",
    "Placing eggs and bread next to each other so that when a customer buys one o\n",
    " the products, they don't have to wa k to\r\n",
    "buy the other product Advertising to buyer of either eggs or bread in order to increase that person's propens ty to\r\n",
    "purchase the ( aired) other \n",
    "- oduct.\r\n",
    "Offer discounts on both eggs and bread if the customer buys both of the  in one p\n",
    "- rchase.\r\n",
    "Association Rule: \"if item eggs are purchased, then the possibility of buying br\n",
    "- ad is _\"\r\n",
    "Can also be repre\n",
    "sented as:\r\n",
    "eggs} -> {bread} Advantages: Relatively fast method Works well on small quantities of data Few(if any) feature engineering\r\n",
    "requirement Three Ways to Measure Association :"
   ]
  },
  {
   "cell_type": "code",
   "execution_count": 23,
   "id": "7ca9f6ea-8c73-44f0-a408-9f2e40043a07",
   "metadata": {},
   "outputs": [],
   "source": [
    "import pandas as pd\n",
    "import numpy as np\n",
    "import seaborn as sns\n",
    "import matplotlib.pyplot as plt\n",
    "import warnings\n",
    "warnings.simplefilter('ignore')"
   ]
  },
  {
   "cell_type": "code",
   "execution_count": 21,
   "id": "562c3cfa-db4e-4494-9f82-9de132d11ca9",
   "metadata": {},
   "outputs": [],
   "source": [
    "from mlxtend.frequent_patterns import apriori,association_rules"
   ]
  },
  {
   "cell_type": "code",
   "execution_count": 29,
   "id": "e612c6ac-57cb-4566-b108-cd1ba110fe78",
   "metadata": {},
   "outputs": [
    {
     "data": {
      "text/html": [
       "<div>\n",
       "<style scoped>\n",
       "    .dataframe tbody tr th:only-of-type {\n",
       "        vertical-align: middle;\n",
       "    }\n",
       "\n",
       "    .dataframe tbody tr th {\n",
       "        vertical-align: top;\n",
       "    }\n",
       "\n",
       "    .dataframe thead th {\n",
       "        text-align: right;\n",
       "    }\n",
       "</style>\n",
       "<table border=\"1\" class=\"dataframe\">\n",
       "  <thead>\n",
       "    <tr style=\"text-align: right;\">\n",
       "      <th></th>\n",
       "      <th>Member_number</th>\n",
       "      <th>Date</th>\n",
       "      <th>itemDescription</th>\n",
       "    </tr>\n",
       "  </thead>\n",
       "  <tbody>\n",
       "    <tr>\n",
       "      <th>0</th>\n",
       "      <td>1808</td>\n",
       "      <td>21-07-2015</td>\n",
       "      <td>tropical fruit</td>\n",
       "    </tr>\n",
       "    <tr>\n",
       "      <th>1</th>\n",
       "      <td>2552</td>\n",
       "      <td>2015-05-01 00:00:00</td>\n",
       "      <td>whole milk</td>\n",
       "    </tr>\n",
       "    <tr>\n",
       "      <th>2</th>\n",
       "      <td>2300</td>\n",
       "      <td>19-09-2015</td>\n",
       "      <td>pip fruit</td>\n",
       "    </tr>\n",
       "    <tr>\n",
       "      <th>3</th>\n",
       "      <td>1187</td>\n",
       "      <td>2015-12-12 00:00:00</td>\n",
       "      <td>other vegetables</td>\n",
       "    </tr>\n",
       "    <tr>\n",
       "      <th>4</th>\n",
       "      <td>3037</td>\n",
       "      <td>2015-01-02 00:00:00</td>\n",
       "      <td>whole milk</td>\n",
       "    </tr>\n",
       "  </tbody>\n",
       "</table>\n",
       "</div>"
      ],
      "text/plain": [
       "   Member_number                 Date   itemDescription\n",
       "0           1808           21-07-2015    tropical fruit\n",
       "1           2552  2015-05-01 00:00:00        whole milk\n",
       "2           2300           19-09-2015         pip fruit\n",
       "3           1187  2015-12-12 00:00:00  other vegetables\n",
       "4           3037  2015-01-02 00:00:00        whole milk"
      ]
     },
     "execution_count": 29,
     "metadata": {},
     "output_type": "execute_result"
    }
   ],
   "source": [
    "df = pd.read_excel('Grocery-MarketBasket-Analysis.xlsx')\n",
    "df.head()"
   ]
  },
  {
   "cell_type": "code",
   "execution_count": 31,
   "id": "06a448b0-2acc-4f97-ba96-1f527de7a7fb",
   "metadata": {},
   "outputs": [
    {
     "data": {
      "text/plain": [
       "(38765, 3)"
      ]
     },
     "execution_count": 31,
     "metadata": {},
     "output_type": "execute_result"
    }
   ],
   "source": [
    "df.shape"
   ]
  },
  {
   "cell_type": "code",
   "execution_count": 33,
   "id": "bf5c3091-6543-43ba-9b0d-a6bcd194f173",
   "metadata": {},
   "outputs": [
    {
     "data": {
      "text/plain": [
       "Index(['Member_number', 'Date', 'itemDescription'], dtype='object')"
      ]
     },
     "execution_count": 33,
     "metadata": {},
     "output_type": "execute_result"
    }
   ],
   "source": [
    "df.columns"
   ]
  },
  {
   "cell_type": "code",
   "execution_count": 47,
   "id": "bac3a861-3ecf-4e8a-89e5-d489084f6db3",
   "metadata": {},
   "outputs": [
    {
     "data": {
      "text/plain": [
       "Member_number               int64\n",
       "Date               datetime64[ns]\n",
       "itemDescription            object\n",
       "dtype: object"
      ]
     },
     "execution_count": 47,
     "metadata": {},
     "output_type": "execute_result"
    }
   ],
   "source": [
    "df.dtypes"
   ]
  },
  {
   "cell_type": "code",
   "execution_count": 37,
   "id": "710a2687-859c-4a78-b5f2-bfd4d6762d71",
   "metadata": {},
   "outputs": [
    {
     "data": {
      "text/plain": [
       "Member_number      0\n",
       "Date               0\n",
       "itemDescription    0\n",
       "dtype: int64"
      ]
     },
     "execution_count": 37,
     "metadata": {},
     "output_type": "execute_result"
    }
   ],
   "source": [
    "df.isnull().sum()"
   ]
  },
  {
   "cell_type": "code",
   "execution_count": 43,
   "id": "5a456459-93b1-4c65-8582-fa160bf4c486",
   "metadata": {},
   "outputs": [
    {
     "data": {
      "text/plain": [
       "0"
      ]
     },
     "execution_count": 43,
     "metadata": {},
     "output_type": "execute_result"
    }
   ],
   "source": [
    "df.duplicated().sum()"
   ]
  },
  {
   "cell_type": "code",
   "execution_count": 41,
   "id": "bd66d3f3-a8ad-44d6-b024-f830134fadc2",
   "metadata": {},
   "outputs": [],
   "source": [
    "df.drop_duplicates(inplace=True)"
   ]
  },
  {
   "cell_type": "code",
   "execution_count": 45,
   "id": "f38c314e-0126-49d6-bf85-1efa443b817d",
   "metadata": {},
   "outputs": [],
   "source": [
    "df['Date'] = pd.to_datetime(df['Date'])"
   ]
  },
  {
   "cell_type": "code",
   "execution_count": 49,
   "id": "4b932688-fc41-468c-a010-ca1c6a46eff2",
   "metadata": {},
   "outputs": [
    {
     "data": {
      "text/html": [
       "<div>\n",
       "<style scoped>\n",
       "    .dataframe tbody tr th:only-of-type {\n",
       "        vertical-align: middle;\n",
       "    }\n",
       "\n",
       "    .dataframe tbody tr th {\n",
       "        vertical-align: top;\n",
       "    }\n",
       "\n",
       "    .dataframe thead th {\n",
       "        text-align: right;\n",
       "    }\n",
       "</style>\n",
       "<table border=\"1\" class=\"dataframe\">\n",
       "  <thead>\n",
       "    <tr style=\"text-align: right;\">\n",
       "      <th></th>\n",
       "      <th>Member_number</th>\n",
       "      <th>Date</th>\n",
       "      <th>itemDescription</th>\n",
       "    </tr>\n",
       "  </thead>\n",
       "  <tbody>\n",
       "    <tr>\n",
       "      <th>15535</th>\n",
       "      <td>1659</td>\n",
       "      <td>2014-01-01</td>\n",
       "      <td>specialty chocolate</td>\n",
       "    </tr>\n",
       "    <tr>\n",
       "      <th>26214</th>\n",
       "      <td>1249</td>\n",
       "      <td>2014-01-01</td>\n",
       "      <td>coffee</td>\n",
       "    </tr>\n",
       "    <tr>\n",
       "      <th>35406</th>\n",
       "      <td>3681</td>\n",
       "      <td>2014-01-01</td>\n",
       "      <td>dishes</td>\n",
       "    </tr>\n",
       "    <tr>\n",
       "      <th>13242</th>\n",
       "      <td>3942</td>\n",
       "      <td>2014-01-01</td>\n",
       "      <td>other vegetables</td>\n",
       "    </tr>\n",
       "    <tr>\n",
       "      <th>34101</th>\n",
       "      <td>3956</td>\n",
       "      <td>2014-01-01</td>\n",
       "      <td>waffles</td>\n",
       "    </tr>\n",
       "    <tr>\n",
       "      <th>...</th>\n",
       "      <td>...</td>\n",
       "      <td>...</td>\n",
       "      <td>...</td>\n",
       "    </tr>\n",
       "    <tr>\n",
       "      <th>19048</th>\n",
       "      <td>3562</td>\n",
       "      <td>2015-12-30</td>\n",
       "      <td>ice cream</td>\n",
       "    </tr>\n",
       "    <tr>\n",
       "      <th>24048</th>\n",
       "      <td>2997</td>\n",
       "      <td>2015-12-30</td>\n",
       "      <td>domestic eggs</td>\n",
       "    </tr>\n",
       "    <tr>\n",
       "      <th>5928</th>\n",
       "      <td>1491</td>\n",
       "      <td>2015-12-30</td>\n",
       "      <td>chicken</td>\n",
       "    </tr>\n",
       "    <tr>\n",
       "      <th>32490</th>\n",
       "      <td>2970</td>\n",
       "      <td>2015-12-30</td>\n",
       "      <td>rolls/buns</td>\n",
       "    </tr>\n",
       "    <tr>\n",
       "      <th>19533</th>\n",
       "      <td>1769</td>\n",
       "      <td>2015-12-30</td>\n",
       "      <td>whole milk</td>\n",
       "    </tr>\n",
       "  </tbody>\n",
       "</table>\n",
       "<p>38006 rows × 3 columns</p>\n",
       "</div>"
      ],
      "text/plain": [
       "       Member_number       Date      itemDescription\n",
       "15535           1659 2014-01-01  specialty chocolate\n",
       "26214           1249 2014-01-01               coffee\n",
       "35406           3681 2014-01-01               dishes\n",
       "13242           3942 2014-01-01     other vegetables\n",
       "34101           3956 2014-01-01              waffles\n",
       "...              ...        ...                  ...\n",
       "19048           3562 2015-12-30            ice cream\n",
       "24048           2997 2015-12-30        domestic eggs\n",
       "5928            1491 2015-12-30              chicken\n",
       "32490           2970 2015-12-30           rolls/buns\n",
       "19533           1769 2015-12-30           whole milk\n",
       "\n",
       "[38006 rows x 3 columns]"
      ]
     },
     "execution_count": 49,
     "metadata": {},
     "output_type": "execute_result"
    }
   ],
   "source": [
    "df.sort_values('Date')"
   ]
  },
  {
   "cell_type": "code",
   "execution_count": 51,
   "id": "bc25c8f1-419f-4ff3-a9c3-8b29fa917114",
   "metadata": {},
   "outputs": [
    {
     "data": {
      "text/plain": [
       "3898"
      ]
     },
     "execution_count": 51,
     "metadata": {},
     "output_type": "execute_result"
    }
   ],
   "source": [
    "df['Member_number'].nunique()"
   ]
  },
  {
   "cell_type": "code",
   "execution_count": 53,
   "id": "ff1d39be-3d7a-4d16-829c-64075a55a550",
   "metadata": {},
   "outputs": [
    {
     "data": {
      "text/plain": [
       "167"
      ]
     },
     "execution_count": 53,
     "metadata": {},
     "output_type": "execute_result"
    }
   ],
   "source": [
    "df['itemDescription'].nunique()"
   ]
  },
  {
   "cell_type": "code",
   "execution_count": 55,
   "id": "a4cce368-ebd1-42fd-b072-3636d190d1ba",
   "metadata": {},
   "outputs": [
    {
     "data": {
      "text/plain": [
       "array(['tropical fruit', 'whole milk', 'pip fruit', 'other vegetables',\n",
       "       'rolls/buns', 'pot plants', 'citrus fruit', 'beef', 'frankfurter',\n",
       "       'chicken', 'butter', 'fruit/vegetable juice',\n",
       "       'packaged fruit/vegetables', 'chocolate', 'specialty bar',\n",
       "       'butter milk', 'bottled water', 'yogurt', 'sausage', 'brown bread',\n",
       "       'hamburger meat', 'root vegetables', 'pork', 'pastry',\n",
       "       'canned beer', 'berries', 'coffee', 'misc. beverages', 'ham',\n",
       "       'turkey', 'curd cheese', 'red/blush wine',\n",
       "       'frozen potato products', 'flour', 'sugar', 'frozen meals',\n",
       "       'herbs', 'soda', 'detergent', 'grapes', 'processed cheese', 'fish',\n",
       "       'sparkling wine', 'newspapers', 'curd', 'pasta', 'popcorn',\n",
       "       'finished products', 'beverages', 'bottled beer', 'dessert',\n",
       "       'dog food', 'specialty chocolate', 'condensed milk', 'cleaner',\n",
       "       'white wine', 'meat', 'ice cream', 'hard cheese', 'cream cheese',\n",
       "       'liquor', 'pickled vegetables', 'liquor (appetizer)', 'UHT-milk',\n",
       "       'candy', 'onions', 'hair spray', 'photo/film', 'domestic eggs',\n",
       "       'margarine', 'shopping bags', 'salt', 'oil', 'whipped/sour cream',\n",
       "       'frozen vegetables', 'sliced cheese', 'dish cleaner',\n",
       "       'baking powder', 'specialty cheese', 'salty snack',\n",
       "       'Instant food products', 'pet care', 'white bread',\n",
       "       'female sanitary products', 'cling film/bags', 'soap',\n",
       "       'frozen chicken', 'house keeping products', 'spread cheese',\n",
       "       'decalcifier', 'frozen dessert', 'vinegar', 'nuts/prunes',\n",
       "       'potato products', 'frozen fish', 'hygiene articles',\n",
       "       'artif. sweetener', 'light bulbs', 'canned vegetables',\n",
       "       'chewing gum', 'canned fish', 'cookware', 'semi-finished bread',\n",
       "       'cat food', 'bathroom cleaner', 'prosecco', 'liver loaf',\n",
       "       'zwieback', 'canned fruit', 'frozen fruits', 'brandy',\n",
       "       'baby cosmetics', 'spices', 'napkins', 'waffles', 'sauces', 'rum',\n",
       "       'chocolate marshmallow', 'long life bakery product', 'bags',\n",
       "       'sweet spreads', 'soups', 'mustard', 'specialty fat',\n",
       "       'instant coffee', 'snack products', 'organic sausage',\n",
       "       'soft cheese', 'mayonnaise', 'dental care', 'roll products',\n",
       "       'kitchen towels', 'flower soil/fertilizer', 'cereals',\n",
       "       'meat spreads', 'dishes', 'male cosmetics', 'candles', 'whisky',\n",
       "       'tidbits', 'cooking chocolate', 'seasonal products', 'liqueur',\n",
       "       'abrasive cleaner', 'syrup', 'ketchup', 'cream', 'skin care',\n",
       "       'rubbing alcohol', 'nut snack', 'cocoa drinks', 'softener',\n",
       "       'organic products', 'cake bar', 'honey', 'jam', 'kitchen utensil',\n",
       "       'flower (seeds)', 'rice', 'tea', 'salad dressing',\n",
       "       'specialty vegetables', 'pudding powder', 'ready soups',\n",
       "       'make up remover', 'toilet cleaner', 'preservation products'],\n",
       "      dtype=object)"
      ]
     },
     "execution_count": 55,
     "metadata": {},
     "output_type": "execute_result"
    }
   ],
   "source": [
    "df['itemDescription'].unique()"
   ]
  },
  {
   "cell_type": "code",
   "execution_count": 57,
   "id": "622c00e8-b070-45bd-aab8-f72aaf5bc737",
   "metadata": {},
   "outputs": [
    {
     "data": {
      "text/plain": [
       "itemDescription\n",
       "whole milk          2363\n",
       "other vegetables    1827\n",
       "rolls/buns          1646\n",
       "soda                1453\n",
       "yogurt              1285\n",
       "root vegetables     1041\n",
       "tropical fruit      1014\n",
       "bottled water        908\n",
       "sausage              903\n",
       "citrus fruit         795\n",
       "Name: count, dtype: int64"
      ]
     },
     "execution_count": 57,
     "metadata": {},
     "output_type": "execute_result"
    }
   ],
   "source": [
    "df['itemDescription'].value_counts().head(10)"
   ]
  },
  {
   "cell_type": "code",
   "execution_count": 59,
   "id": "8fee1642-07a5-4441-b880-2307462407c9",
   "metadata": {},
   "outputs": [
    {
     "data": {
      "text/html": [
       "<div>\n",
       "<style scoped>\n",
       "    .dataframe tbody tr th:only-of-type {\n",
       "        vertical-align: middle;\n",
       "    }\n",
       "\n",
       "    .dataframe tbody tr th {\n",
       "        vertical-align: top;\n",
       "    }\n",
       "\n",
       "    .dataframe thead th {\n",
       "        text-align: right;\n",
       "    }\n",
       "</style>\n",
       "<table border=\"1\" class=\"dataframe\">\n",
       "  <thead>\n",
       "    <tr style=\"text-align: right;\">\n",
       "      <th>itemDescription</th>\n",
       "      <th>Instant food products</th>\n",
       "      <th>UHT-milk</th>\n",
       "      <th>abrasive cleaner</th>\n",
       "      <th>artif. sweetener</th>\n",
       "      <th>baby cosmetics</th>\n",
       "      <th>bags</th>\n",
       "      <th>baking powder</th>\n",
       "      <th>bathroom cleaner</th>\n",
       "      <th>beef</th>\n",
       "      <th>berries</th>\n",
       "      <th>...</th>\n",
       "      <th>turkey</th>\n",
       "      <th>vinegar</th>\n",
       "      <th>waffles</th>\n",
       "      <th>whipped/sour cream</th>\n",
       "      <th>whisky</th>\n",
       "      <th>white bread</th>\n",
       "      <th>white wine</th>\n",
       "      <th>whole milk</th>\n",
       "      <th>yogurt</th>\n",
       "      <th>zwieback</th>\n",
       "    </tr>\n",
       "    <tr>\n",
       "      <th>Member_number</th>\n",
       "      <th></th>\n",
       "      <th></th>\n",
       "      <th></th>\n",
       "      <th></th>\n",
       "      <th></th>\n",
       "      <th></th>\n",
       "      <th></th>\n",
       "      <th></th>\n",
       "      <th></th>\n",
       "      <th></th>\n",
       "      <th></th>\n",
       "      <th></th>\n",
       "      <th></th>\n",
       "      <th></th>\n",
       "      <th></th>\n",
       "      <th></th>\n",
       "      <th></th>\n",
       "      <th></th>\n",
       "      <th></th>\n",
       "      <th></th>\n",
       "      <th></th>\n",
       "    </tr>\n",
       "  </thead>\n",
       "  <tbody>\n",
       "    <tr>\n",
       "      <th>1000</th>\n",
       "      <td>0</td>\n",
       "      <td>0</td>\n",
       "      <td>0</td>\n",
       "      <td>0</td>\n",
       "      <td>0</td>\n",
       "      <td>0</td>\n",
       "      <td>0</td>\n",
       "      <td>0</td>\n",
       "      <td>0</td>\n",
       "      <td>0</td>\n",
       "      <td>...</td>\n",
       "      <td>0</td>\n",
       "      <td>0</td>\n",
       "      <td>0</td>\n",
       "      <td>0</td>\n",
       "      <td>0</td>\n",
       "      <td>0</td>\n",
       "      <td>0</td>\n",
       "      <td>2</td>\n",
       "      <td>1</td>\n",
       "      <td>0</td>\n",
       "    </tr>\n",
       "    <tr>\n",
       "      <th>1001</th>\n",
       "      <td>0</td>\n",
       "      <td>0</td>\n",
       "      <td>0</td>\n",
       "      <td>0</td>\n",
       "      <td>0</td>\n",
       "      <td>0</td>\n",
       "      <td>0</td>\n",
       "      <td>0</td>\n",
       "      <td>1</td>\n",
       "      <td>0</td>\n",
       "      <td>...</td>\n",
       "      <td>0</td>\n",
       "      <td>0</td>\n",
       "      <td>0</td>\n",
       "      <td>1</td>\n",
       "      <td>0</td>\n",
       "      <td>1</td>\n",
       "      <td>0</td>\n",
       "      <td>2</td>\n",
       "      <td>0</td>\n",
       "      <td>0</td>\n",
       "    </tr>\n",
       "    <tr>\n",
       "      <th>1002</th>\n",
       "      <td>0</td>\n",
       "      <td>0</td>\n",
       "      <td>0</td>\n",
       "      <td>0</td>\n",
       "      <td>0</td>\n",
       "      <td>0</td>\n",
       "      <td>0</td>\n",
       "      <td>0</td>\n",
       "      <td>0</td>\n",
       "      <td>0</td>\n",
       "      <td>...</td>\n",
       "      <td>0</td>\n",
       "      <td>0</td>\n",
       "      <td>0</td>\n",
       "      <td>0</td>\n",
       "      <td>0</td>\n",
       "      <td>0</td>\n",
       "      <td>0</td>\n",
       "      <td>1</td>\n",
       "      <td>0</td>\n",
       "      <td>0</td>\n",
       "    </tr>\n",
       "    <tr>\n",
       "      <th>1003</th>\n",
       "      <td>0</td>\n",
       "      <td>0</td>\n",
       "      <td>0</td>\n",
       "      <td>0</td>\n",
       "      <td>0</td>\n",
       "      <td>0</td>\n",
       "      <td>0</td>\n",
       "      <td>0</td>\n",
       "      <td>0</td>\n",
       "      <td>0</td>\n",
       "      <td>...</td>\n",
       "      <td>0</td>\n",
       "      <td>0</td>\n",
       "      <td>0</td>\n",
       "      <td>0</td>\n",
       "      <td>0</td>\n",
       "      <td>0</td>\n",
       "      <td>0</td>\n",
       "      <td>0</td>\n",
       "      <td>0</td>\n",
       "      <td>0</td>\n",
       "    </tr>\n",
       "    <tr>\n",
       "      <th>1004</th>\n",
       "      <td>0</td>\n",
       "      <td>0</td>\n",
       "      <td>0</td>\n",
       "      <td>0</td>\n",
       "      <td>0</td>\n",
       "      <td>0</td>\n",
       "      <td>0</td>\n",
       "      <td>0</td>\n",
       "      <td>0</td>\n",
       "      <td>0</td>\n",
       "      <td>...</td>\n",
       "      <td>0</td>\n",
       "      <td>0</td>\n",
       "      <td>0</td>\n",
       "      <td>0</td>\n",
       "      <td>0</td>\n",
       "      <td>0</td>\n",
       "      <td>0</td>\n",
       "      <td>3</td>\n",
       "      <td>0</td>\n",
       "      <td>0</td>\n",
       "    </tr>\n",
       "    <tr>\n",
       "      <th>...</th>\n",
       "      <td>...</td>\n",
       "      <td>...</td>\n",
       "      <td>...</td>\n",
       "      <td>...</td>\n",
       "      <td>...</td>\n",
       "      <td>...</td>\n",
       "      <td>...</td>\n",
       "      <td>...</td>\n",
       "      <td>...</td>\n",
       "      <td>...</td>\n",
       "      <td>...</td>\n",
       "      <td>...</td>\n",
       "      <td>...</td>\n",
       "      <td>...</td>\n",
       "      <td>...</td>\n",
       "      <td>...</td>\n",
       "      <td>...</td>\n",
       "      <td>...</td>\n",
       "      <td>...</td>\n",
       "      <td>...</td>\n",
       "      <td>...</td>\n",
       "    </tr>\n",
       "    <tr>\n",
       "      <th>4996</th>\n",
       "      <td>0</td>\n",
       "      <td>0</td>\n",
       "      <td>0</td>\n",
       "      <td>0</td>\n",
       "      <td>0</td>\n",
       "      <td>0</td>\n",
       "      <td>0</td>\n",
       "      <td>0</td>\n",
       "      <td>0</td>\n",
       "      <td>0</td>\n",
       "      <td>...</td>\n",
       "      <td>0</td>\n",
       "      <td>0</td>\n",
       "      <td>0</td>\n",
       "      <td>0</td>\n",
       "      <td>0</td>\n",
       "      <td>0</td>\n",
       "      <td>0</td>\n",
       "      <td>0</td>\n",
       "      <td>0</td>\n",
       "      <td>0</td>\n",
       "    </tr>\n",
       "    <tr>\n",
       "      <th>4997</th>\n",
       "      <td>0</td>\n",
       "      <td>0</td>\n",
       "      <td>0</td>\n",
       "      <td>0</td>\n",
       "      <td>0</td>\n",
       "      <td>0</td>\n",
       "      <td>0</td>\n",
       "      <td>0</td>\n",
       "      <td>0</td>\n",
       "      <td>0</td>\n",
       "      <td>...</td>\n",
       "      <td>0</td>\n",
       "      <td>0</td>\n",
       "      <td>0</td>\n",
       "      <td>0</td>\n",
       "      <td>0</td>\n",
       "      <td>0</td>\n",
       "      <td>1</td>\n",
       "      <td>1</td>\n",
       "      <td>0</td>\n",
       "      <td>0</td>\n",
       "    </tr>\n",
       "    <tr>\n",
       "      <th>4998</th>\n",
       "      <td>0</td>\n",
       "      <td>0</td>\n",
       "      <td>0</td>\n",
       "      <td>0</td>\n",
       "      <td>0</td>\n",
       "      <td>0</td>\n",
       "      <td>0</td>\n",
       "      <td>0</td>\n",
       "      <td>0</td>\n",
       "      <td>0</td>\n",
       "      <td>...</td>\n",
       "      <td>0</td>\n",
       "      <td>0</td>\n",
       "      <td>0</td>\n",
       "      <td>0</td>\n",
       "      <td>0</td>\n",
       "      <td>0</td>\n",
       "      <td>0</td>\n",
       "      <td>0</td>\n",
       "      <td>0</td>\n",
       "      <td>0</td>\n",
       "    </tr>\n",
       "    <tr>\n",
       "      <th>4999</th>\n",
       "      <td>0</td>\n",
       "      <td>0</td>\n",
       "      <td>0</td>\n",
       "      <td>0</td>\n",
       "      <td>0</td>\n",
       "      <td>0</td>\n",
       "      <td>0</td>\n",
       "      <td>0</td>\n",
       "      <td>0</td>\n",
       "      <td>2</td>\n",
       "      <td>...</td>\n",
       "      <td>0</td>\n",
       "      <td>0</td>\n",
       "      <td>0</td>\n",
       "      <td>1</td>\n",
       "      <td>0</td>\n",
       "      <td>0</td>\n",
       "      <td>0</td>\n",
       "      <td>0</td>\n",
       "      <td>1</td>\n",
       "      <td>0</td>\n",
       "    </tr>\n",
       "    <tr>\n",
       "      <th>5000</th>\n",
       "      <td>0</td>\n",
       "      <td>0</td>\n",
       "      <td>0</td>\n",
       "      <td>0</td>\n",
       "      <td>0</td>\n",
       "      <td>0</td>\n",
       "      <td>0</td>\n",
       "      <td>0</td>\n",
       "      <td>0</td>\n",
       "      <td>0</td>\n",
       "      <td>...</td>\n",
       "      <td>0</td>\n",
       "      <td>0</td>\n",
       "      <td>0</td>\n",
       "      <td>0</td>\n",
       "      <td>0</td>\n",
       "      <td>0</td>\n",
       "      <td>0</td>\n",
       "      <td>0</td>\n",
       "      <td>0</td>\n",
       "      <td>0</td>\n",
       "    </tr>\n",
       "  </tbody>\n",
       "</table>\n",
       "<p>3898 rows × 167 columns</p>\n",
       "</div>"
      ],
      "text/plain": [
       "itemDescription  Instant food products  UHT-milk  abrasive cleaner  \\\n",
       "Member_number                                                        \n",
       "1000                                 0         0                 0   \n",
       "1001                                 0         0                 0   \n",
       "1002                                 0         0                 0   \n",
       "1003                                 0         0                 0   \n",
       "1004                                 0         0                 0   \n",
       "...                                ...       ...               ...   \n",
       "4996                                 0         0                 0   \n",
       "4997                                 0         0                 0   \n",
       "4998                                 0         0                 0   \n",
       "4999                                 0         0                 0   \n",
       "5000                                 0         0                 0   \n",
       "\n",
       "itemDescription  artif. sweetener  baby cosmetics  bags  baking powder  \\\n",
       "Member_number                                                            \n",
       "1000                            0               0     0              0   \n",
       "1001                            0               0     0              0   \n",
       "1002                            0               0     0              0   \n",
       "1003                            0               0     0              0   \n",
       "1004                            0               0     0              0   \n",
       "...                           ...             ...   ...            ...   \n",
       "4996                            0               0     0              0   \n",
       "4997                            0               0     0              0   \n",
       "4998                            0               0     0              0   \n",
       "4999                            0               0     0              0   \n",
       "5000                            0               0     0              0   \n",
       "\n",
       "itemDescription  bathroom cleaner  beef  berries  ...  turkey  vinegar  \\\n",
       "Member_number                                     ...                    \n",
       "1000                            0     0        0  ...       0        0   \n",
       "1001                            0     1        0  ...       0        0   \n",
       "1002                            0     0        0  ...       0        0   \n",
       "1003                            0     0        0  ...       0        0   \n",
       "1004                            0     0        0  ...       0        0   \n",
       "...                           ...   ...      ...  ...     ...      ...   \n",
       "4996                            0     0        0  ...       0        0   \n",
       "4997                            0     0        0  ...       0        0   \n",
       "4998                            0     0        0  ...       0        0   \n",
       "4999                            0     0        2  ...       0        0   \n",
       "5000                            0     0        0  ...       0        0   \n",
       "\n",
       "itemDescription  waffles  whipped/sour cream  whisky  white bread  white wine  \\\n",
       "Member_number                                                                   \n",
       "1000                   0                   0       0            0           0   \n",
       "1001                   0                   1       0            1           0   \n",
       "1002                   0                   0       0            0           0   \n",
       "1003                   0                   0       0            0           0   \n",
       "1004                   0                   0       0            0           0   \n",
       "...                  ...                 ...     ...          ...         ...   \n",
       "4996                   0                   0       0            0           0   \n",
       "4997                   0                   0       0            0           1   \n",
       "4998                   0                   0       0            0           0   \n",
       "4999                   0                   1       0            0           0   \n",
       "5000                   0                   0       0            0           0   \n",
       "\n",
       "itemDescription  whole milk  yogurt  zwieback  \n",
       "Member_number                                  \n",
       "1000                      2       1         0  \n",
       "1001                      2       0         0  \n",
       "1002                      1       0         0  \n",
       "1003                      0       0         0  \n",
       "1004                      3       0         0  \n",
       "...                     ...     ...       ...  \n",
       "4996                      0       0         0  \n",
       "4997                      1       0         0  \n",
       "4998                      0       0         0  \n",
       "4999                      0       1         0  \n",
       "5000                      0       0         0  \n",
       "\n",
       "[3898 rows x 167 columns]"
      ]
     },
     "execution_count": 59,
     "metadata": {},
     "output_type": "execute_result"
    }
   ],
   "source": [
    "trans_df = pd.crosstab(df['Member_number'],df['itemDescription']).reset_index()\n",
    "trans_df = trans_df.set_index('Member_number')\n",
    "trans_df"
   ]
  },
  {
   "cell_type": "code",
   "execution_count": null,
   "id": "e088a685-af58-4f0c-b544-6634f2bc1d91",
   "metadata": {},
   "outputs": [],
   "source": []
  },
  {
   "cell_type": "code",
   "execution_count": null,
   "id": "95a8ec2f-6f9b-4c5a-8bef-dae42fd23cd5",
   "metadata": {},
   "outputs": [],
   "source": []
  },
  {
   "cell_type": "code",
   "execution_count": null,
   "id": "e0f6f985-4e61-4c85-bf47-77d8ae350797",
   "metadata": {},
   "outputs": [],
   "source": []
  },
  {
   "cell_type": "code",
   "execution_count": null,
   "id": "b44433ea-8c8e-40eb-8dec-0bd5436eb7fd",
   "metadata": {},
   "outputs": [],
   "source": []
  },
  {
   "cell_type": "code",
   "execution_count": null,
   "id": "6ba86b58-cf21-4c24-8899-fa426095cd6e",
   "metadata": {},
   "outputs": [],
   "source": []
  },
  {
   "cell_type": "code",
   "execution_count": null,
   "id": "f5654daf-58a4-4309-8825-1200f0e13f96",
   "metadata": {},
   "outputs": [],
   "source": []
  },
  {
   "cell_type": "code",
   "execution_count": null,
   "id": "a6438566-c911-478b-aa43-6db6b61d5aec",
   "metadata": {},
   "outputs": [],
   "source": []
  },
  {
   "cell_type": "code",
   "execution_count": null,
   "id": "2c6e53cc-6379-411e-8251-cf092ca4e14e",
   "metadata": {},
   "outputs": [],
   "source": []
  },
  {
   "cell_type": "code",
   "execution_count": null,
   "id": "996deba9-7b12-499b-9b60-7e1389490eec",
   "metadata": {},
   "outputs": [],
   "source": []
  },
  {
   "cell_type": "code",
   "execution_count": null,
   "id": "5db20f1b-cc00-4713-b41b-32862510167a",
   "metadata": {},
   "outputs": [],
   "source": []
  },
  {
   "cell_type": "code",
   "execution_count": null,
   "id": "09ff79ef-e71c-43d7-94c8-0e854aacd805",
   "metadata": {},
   "outputs": [],
   "source": []
  },
  {
   "cell_type": "code",
   "execution_count": null,
   "id": "8b90cf2d-396c-4c1e-8732-fea4897fccc2",
   "metadata": {},
   "outputs": [],
   "source": []
  },
  {
   "cell_type": "code",
   "execution_count": null,
   "id": "e4468e57-086a-4c85-a580-7f59657b6308",
   "metadata": {},
   "outputs": [],
   "source": []
  },
  {
   "cell_type": "code",
   "execution_count": null,
   "id": "aba36266-1fe7-4b7f-8318-c9c12517222a",
   "metadata": {},
   "outputs": [],
   "source": []
  },
  {
   "cell_type": "code",
   "execution_count": null,
   "id": "fe36e597-2643-4561-a0ff-39a5ba71a2a5",
   "metadata": {},
   "outputs": [],
   "source": []
  },
  {
   "cell_type": "code",
   "execution_count": null,
   "id": "28c6221f-94ba-4277-b662-cfdd5590ce84",
   "metadata": {},
   "outputs": [],
   "source": []
  },
  {
   "cell_type": "code",
   "execution_count": null,
   "id": "50d42da4-fb05-44f2-baa1-20f7b122d00a",
   "metadata": {},
   "outputs": [],
   "source": []
  },
  {
   "cell_type": "code",
   "execution_count": null,
   "id": "7618a67c-0741-473f-b643-3fcbd65ef68c",
   "metadata": {},
   "outputs": [],
   "source": []
  },
  {
   "cell_type": "code",
   "execution_count": null,
   "id": "d72d9dda-a576-4b89-8380-1a80b7401654",
   "metadata": {},
   "outputs": [],
   "source": []
  },
  {
   "cell_type": "code",
   "execution_count": null,
   "id": "54abc03f-7e65-478a-9db3-0b50be0568c5",
   "metadata": {},
   "outputs": [],
   "source": []
  },
  {
   "cell_type": "code",
   "execution_count": null,
   "id": "58867ad3-b243-425c-bd18-8f3603274e81",
   "metadata": {},
   "outputs": [],
   "source": []
  },
  {
   "cell_type": "code",
   "execution_count": null,
   "id": "e0758bc0-366a-407d-8d88-398afa6049fd",
   "metadata": {},
   "outputs": [],
   "source": []
  },
  {
   "cell_type": "code",
   "execution_count": null,
   "id": "b5ecbd70-f871-4021-85a8-65ac30b2279b",
   "metadata": {},
   "outputs": [],
   "source": []
  },
  {
   "cell_type": "code",
   "execution_count": null,
   "id": "20723967-2c98-4ea8-83c4-9a194ef43fc2",
   "metadata": {},
   "outputs": [],
   "source": []
  },
  {
   "cell_type": "code",
   "execution_count": null,
   "id": "ea2b6dd6-2636-4c91-8640-bdfca380dce6",
   "metadata": {},
   "outputs": [],
   "source": []
  },
  {
   "cell_type": "code",
   "execution_count": null,
   "id": "115f8eec-850b-48e2-862d-3e42dba26698",
   "metadata": {},
   "outputs": [],
   "source": []
  },
  {
   "cell_type": "code",
   "execution_count": null,
   "id": "063df702-6256-4f65-879f-3e01fb6192b9",
   "metadata": {},
   "outputs": [],
   "source": []
  },
  {
   "cell_type": "code",
   "execution_count": null,
   "id": "2e94b150-954f-4dca-b00e-b91c1fb9936b",
   "metadata": {},
   "outputs": [],
   "source": []
  },
  {
   "cell_type": "code",
   "execution_count": null,
   "id": "03239081-b262-4405-ba06-91c518b6f7e2",
   "metadata": {},
   "outputs": [],
   "source": []
  },
  {
   "cell_type": "code",
   "execution_count": null,
   "id": "c44aefa7-a05f-47c2-ab93-59f7d40b6a2a",
   "metadata": {},
   "outputs": [],
   "source": []
  },
  {
   "cell_type": "code",
   "execution_count": null,
   "id": "9a9136cb-3e03-4191-b080-4dff184fde39",
   "metadata": {},
   "outputs": [],
   "source": []
  },
  {
   "cell_type": "code",
   "execution_count": null,
   "id": "0d9fc5a3-65d7-43f4-a207-f2ec8792644f",
   "metadata": {},
   "outputs": [],
   "source": []
  },
  {
   "cell_type": "code",
   "execution_count": null,
   "id": "1d2912a0-a94c-4a19-8684-3734bf010056",
   "metadata": {},
   "outputs": [],
   "source": []
  },
  {
   "cell_type": "code",
   "execution_count": null,
   "id": "c189bb7a-4152-4563-b11d-424a8fba92a1",
   "metadata": {},
   "outputs": [],
   "source": []
  },
  {
   "cell_type": "code",
   "execution_count": null,
   "id": "1a6eec3f-c677-4419-b996-62ee7c1bc208",
   "metadata": {},
   "outputs": [],
   "source": []
  },
  {
   "cell_type": "code",
   "execution_count": null,
   "id": "c91c72f4-0092-406e-99df-7c0a7bb49426",
   "metadata": {},
   "outputs": [],
   "source": []
  },
  {
   "cell_type": "code",
   "execution_count": null,
   "id": "5a1e3936-eebd-4482-aa5e-382c89ceb4a0",
   "metadata": {},
   "outputs": [],
   "source": []
  },
  {
   "cell_type": "code",
   "execution_count": null,
   "id": "da475638-96c4-4918-af5c-2e2039bd212e",
   "metadata": {},
   "outputs": [],
   "source": []
  },
  {
   "cell_type": "code",
   "execution_count": null,
   "id": "650ce671-9054-40e1-98c2-3e258fd70181",
   "metadata": {},
   "outputs": [],
   "source": []
  },
  {
   "cell_type": "code",
   "execution_count": null,
   "id": "e6c73867-e794-4c44-befa-d0078e269bdf",
   "metadata": {},
   "outputs": [],
   "source": []
  },
  {
   "cell_type": "code",
   "execution_count": null,
   "id": "56f39aa0-41b5-4ac9-8816-8c5483b40f96",
   "metadata": {},
   "outputs": [],
   "source": []
  },
  {
   "cell_type": "code",
   "execution_count": null,
   "id": "c9df5012-178a-4ff8-9ed5-6491dbbee56a",
   "metadata": {},
   "outputs": [],
   "source": []
  },
  {
   "cell_type": "code",
   "execution_count": null,
   "id": "d6a33669-30e3-4260-86a6-3195abc98213",
   "metadata": {},
   "outputs": [],
   "source": []
  },
  {
   "cell_type": "code",
   "execution_count": null,
   "id": "e5d309bc-e97b-4618-beae-c8c96efd2f53",
   "metadata": {},
   "outputs": [],
   "source": []
  },
  {
   "cell_type": "code",
   "execution_count": null,
   "id": "c63669b4-8eed-4f57-b5b3-eaab440e4d12",
   "metadata": {},
   "outputs": [],
   "source": []
  },
  {
   "cell_type": "code",
   "execution_count": null,
   "id": "db2adc33-0f19-4180-a72c-fdd15b438619",
   "metadata": {},
   "outputs": [],
   "source": []
  }
 ],
 "metadata": {
  "kernelspec": {
   "display_name": "Python 3 (ipykernel)",
   "language": "python",
   "name": "python3"
  },
  "language_info": {
   "codemirror_mode": {
    "name": "ipython",
    "version": 3
   },
   "file_extension": ".py",
   "mimetype": "text/x-python",
   "name": "python",
   "nbconvert_exporter": "python",
   "pygments_lexer": "ipython3",
   "version": "3.12.3"
  }
 },
 "nbformat": 4,
 "nbformat_minor": 5
}
