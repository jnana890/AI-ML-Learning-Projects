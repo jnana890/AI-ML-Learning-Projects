{
 "cells": [
  {
   "cell_type": "markdown",
   "id": "9c27dd95-6bf4-4f96-9e86-124c2c9a02c7",
   "metadata": {},
   "source": [
    "**Opencv installation can be done in 2 ways**\n",
    "- conda install -c conda-forage opencv\n",
    "- pip install opencv-python"
   ]
  },
  {
   "cell_type": "code",
   "execution_count": 3,
   "id": "a729003a-58d4-4d84-9751-76cbb5325737",
   "metadata": {},
   "outputs": [],
   "source": [
    "import cv2\n",
    "import numpy as np"
   ]
  },
  {
   "cell_type": "markdown",
   "id": "15c89617-55de-4832-a41f-1cd703e82320",
   "metadata": {},
   "source": [
    "**Load/Read image**"
   ]
  },
  {
   "cell_type": "code",
   "execution_count": 19,
   "id": "2be436e7-05e6-4ebb-8e88-ceb2d2a1d1b1",
   "metadata": {},
   "outputs": [],
   "source": [
    "# load an image using 'imread' specifying the path to image\n",
    "img = cv2.imread('image_examples/Modi.jpg',0)"
   ]
  },
  {
   "cell_type": "markdown",
   "id": "d8a28421-8348-47bb-9cdd-fb554f9ee6ef",
   "metadata": {},
   "source": [
    "**Let's take a closer look at how images are stored**"
   ]
  },
  {
   "cell_type": "code",
   "execution_count": 21,
   "id": "d9a4618d-b8f6-40f2-8f01-89b788e143cd",
   "metadata": {},
   "outputs": [
    {
     "name": "stdout",
     "output_type": "stream",
     "text": [
      "[[255 255 255 ... 255 255 255]\n",
      " [255 255 255 ... 255 255 255]\n",
      " [255 255 255 ... 255 255 255]\n",
      " ...\n",
      " [255 255 255 ... 255 255 255]\n",
      " [255 255 255 ... 255 255 255]\n",
      " [255 255 255 ... 255 255 255]]\n"
     ]
    }
   ],
   "source": [
    "print(img)"
   ]
  },
  {
   "cell_type": "markdown",
   "id": "6cba4ab1-05e3-47ae-9f66-038e0f3579dc",
   "metadata": {},
   "source": [
    "**Shape gives the dimensions of the image array**"
   ]
  },
  {
   "cell_type": "code",
   "execution_count": 11,
   "id": "d025f07a-08d7-4989-ad38-10f915faecfb",
   "metadata": {},
   "outputs": [
    {
     "data": {
      "text/plain": [
       "(1358, 1500, 3)"
      ]
     },
     "execution_count": 11,
     "metadata": {},
     "output_type": "execute_result"
    }
   ],
   "source": [
    "img.shape\n",
    "\n",
    "# The 3D dimensions are 1358 pixels in height * 1500 pixels in wide\n",
    "# 3 means that there are 3 components (RGB) that make up this image"
   ]
  },
  {
   "cell_type": "markdown",
   "id": "928ffb61-2eca-47af-8960-1033435d5e9b",
   "metadata": {},
   "source": [
    "**Display the image**"
   ]
  },
  {
   "cell_type": "code",
   "execution_count": 14,
   "id": "f82866fb-3adb-41b8-b2f7-555d51c7fd03",
   "metadata": {},
   "outputs": [],
   "source": [
    "# To display our image variable, we use 'imshow'\n",
    "# The first parameter will be title shown on image window\n",
    "# The second parameter is the image variable\n",
    "cv2.imshow('PM',img)\n",
    "\n",
    "# 'waitKey' allow us to input information when a image window is open\n",
    "# By leaving it blank it just waits for anykey to be pressed before continuing\n",
    "# By placing numbers (except 0), we can specify a delay for\n",
    "# How long you keep the window open (time is milli seconds here)\n",
    "cv2.waitKey(2000)\n",
    "\n",
    "# This closes all open windows\n",
    "# Failure to place this will cause your program to hang\n",
    "cv2.destroyAllWindows()"
   ]
  },
  {
   "cell_type": "code",
   "execution_count": 23,
   "id": "660534de-c1ce-4b18-aa37-7baac39746f0",
   "metadata": {},
   "outputs": [],
   "source": [
    "img = cv2.imread('image_examples/Modi.jpg',0)\n",
    "cv2.imshow('PM',img)\n",
    "cv2.waitKey()\n",
    "cv2.destroyAllWindows()"
   ]
  },
  {
   "cell_type": "markdown",
   "id": "2b7dddbd-50fe-47ec-bf0f-42f5a7e79545",
   "metadata": {},
   "source": [
    "**Save image**"
   ]
  },
  {
   "cell_type": "code",
   "execution_count": 25,
   "id": "a68c818b-796d-49e1-bf10-2bdffb69a497",
   "metadata": {},
   "outputs": [
    {
     "data": {
      "text/plain": [
       "True"
      ]
     },
     "execution_count": 25,
     "metadata": {},
     "output_type": "execute_result"
    }
   ],
   "source": [
    "# simply use 'imwrite' specifying the file name and the image to be saved\n",
    "cv2.imwrite('pm_b_w.jpg',img)"
   ]
  },
  {
   "cell_type": "markdown",
   "id": "37c29a1b-dfa8-428e-a44b-261ceb68dad3",
   "metadata": {},
   "source": [
    "**Resize Image**"
   ]
  },
  {
   "cell_type": "code",
   "execution_count": 28,
   "id": "e439faf7-8439-4b73-80b4-903808b4123d",
   "metadata": {},
   "outputs": [],
   "source": [
    "img = cv2.imread('image_examples/Modi.jpg')\n",
    "\n",
    "resized_image = cv2.resize(img,(500,500))\n",
    "\n",
    "gray = cv2.cvtColor(resized_image,cv2.COLOR_BGR2GRAY)\n",
    "\n",
    "cv2.imshow('Modi Image',gray)\n",
    "\n",
    "cv2.waitKey()\n",
    "cv2.destroyAllWindows()"
   ]
  },
  {
   "cell_type": "code",
   "execution_count": 30,
   "id": "01b11904-fa40-403a-a4fb-3c543bdf8450",
   "metadata": {},
   "outputs": [
    {
     "data": {
      "text/plain": [
       "(500, 500)"
      ]
     },
     "execution_count": 30,
     "metadata": {},
     "output_type": "execute_result"
    }
   ],
   "source": [
    "gray.shape"
   ]
  },
  {
   "cell_type": "code",
   "execution_count": 32,
   "id": "02f77269-87c7-44f7-8d0d-0947e72c2515",
   "metadata": {},
   "outputs": [
    {
     "data": {
      "text/plain": [
       "679.0"
      ]
     },
     "execution_count": 32,
     "metadata": {},
     "output_type": "execute_result"
    }
   ],
   "source": [
    "img.shape[0]*0.5"
   ]
  },
  {
   "cell_type": "code",
   "execution_count": 36,
   "id": "85a742cb-09ab-4abf-aca3-0e326d6cb36c",
   "metadata": {},
   "outputs": [
    {
     "data": {
      "text/plain": [
       "750.0"
      ]
     },
     "execution_count": 36,
     "metadata": {},
     "output_type": "execute_result"
    }
   ],
   "source": [
    "img.shape[1]*0.5"
   ]
  },
  {
   "cell_type": "markdown",
   "id": "6d9be995-7ac0-4d1c-ba42-c89e70913de7",
   "metadata": {},
   "source": [
    "**Face Detection Using HAAR Cascade Classifiers**"
   ]
  },
  {
   "cell_type": "code",
   "execution_count": 41,
   "id": "6d9111d8-b482-4e47-a34a-63685260454f",
   "metadata": {},
   "outputs": [],
   "source": [
    "# We point OpenCV's CascadeClassifier function to where our classifier (XML file format) stored\n",
    "face_classifier = cv2.CascadeClassifier('Haarcascades/haarcascade_frontalface_default.xml')\n",
    "\n",
    "# Load our image then convert it to gray scale\n",
    "image = cv2.imread('image_examples/Modi.jpg')\n",
    "image = cv2.resize(img,(500,500))\n",
    "gray = cv2.cvtColor(image,cv2.COLOR_BGR2GRAY)\n",
    "\n",
    "# Tuning Cascade Classifiers - detectMultiScale(input image, **Scale Factor**, **Min Neighnors**)\n",
    "faces = face_classifier.detectMultiScale(gray,1.05,5)\n",
    "\n",
    "# Scale Factor - Specifies how much we reduce the image size each time we scale.\n",
    "# E.g. In face detection we typically use 1.3. This means we reduce the image by 30% each time it's scaled\n",
    "# Samller values ,like 1.05 will take longer to compute, but will increase the rate of detection\n",
    "\n",
    "## Min Neighbors**\n",
    "# spcifies the number of neighbors each potential window should have in order to consider it is a positive detection\n",
    "# Typically set between 3-6.\n",
    "# It acts as sensitivity setting, low values will sometimes detect multiple faces over a single face.\n",
    "# High values will ensure less False positives, but you may miss some faces,"
   ]
  },
  {
   "cell_type": "code",
   "execution_count": 43,
   "id": "cae7cd4a-9920-43d4-bcd4-a1719cb7756d",
   "metadata": {},
   "outputs": [
    {
     "name": "stdout",
     "output_type": "stream",
     "text": [
      "[[205  79 217 217]]\n"
     ]
    }
   ],
   "source": [
    "print(faces)"
   ]
  },
  {
   "cell_type": "code",
   "execution_count": 13,
   "id": "bd97becb-eb83-43d9-9425-919be856914b",
   "metadata": {},
   "outputs": [
    {
     "name": "stderr",
     "output_type": "stream",
     "text": [
      "<>:23: SyntaxWarning: \"is\" with 'tuple' literal. Did you mean \"==\"?\n",
      "<>:23: SyntaxWarning: \"is\" with 'tuple' literal. Did you mean \"==\"?\n",
      "C:\\Users\\USER\\AppData\\Local\\Temp\\ipykernel_12884\\1092521115.py:23: SyntaxWarning: \"is\" with 'tuple' literal. Did you mean \"==\"?\n",
      "  if faces is ():\n"
     ]
    }
   ],
   "source": [
    "# We point OpenCV's CascadeClassifier function to where our classifier (XML file format) stored\n",
    "face_classifier = cv2.CascadeClassifier('Haarcascades/haarcascade_frontalface_default.xml')\n",
    "\n",
    "# Load our image then convert it to gray scale\n",
    "image = cv2.imread('image_examples/Modi.jpg')\n",
    "image = cv2.resize(image,(500,500))\n",
    "gray = cv2.cvtColor(image,cv2.COLOR_BGR2GRAY)\n",
    "\n",
    "# Tuning Cascade Classifiers - detectMultiScale(input image, **Scale Factor**, **Min Neighnors**)\n",
    "faces = face_classifier.detectMultiScale(gray,1.05,5)\n",
    "\n",
    "# Scale Factor - Specifies how much we reduce the image size each time we scale.\n",
    "# E.g. In face detection we typically use 1.3. This means we reduce the image by 30% each time it's scaled\n",
    "# Samller values ,like 1.05 will take longer to compute, but will increase the rate of detection\n",
    "\n",
    "## Min Neighbors**\n",
    "# spcifies the number of neighbors each potential window should have in order to consider it is a positive detection\n",
    "# Typically set between 3-6.\n",
    "# It acts as sensitivity setting, low values will sometimes detect multiple faces over a single face.\n",
    "# High values will ensure less False positives, but you may miss some faces.\n",
    "\n",
    "# When no faces detected, face_classifier returns an empty tuple\n",
    "if faces is ():\n",
    "    print('No faces found')\n",
    "\n",
    "# We iterate through our faces array and draw a rectangle\n",
    "# over each face in faces\n",
    "for (x,y,w,h) in faces:\n",
    "    cv2.rectangle(image,(x,y),(x+w,y+h),(0,255,100),1)\n",
    "\n",
    "cv2.imshow('Face Detection',image)\n",
    "cv2.waitKey()\n",
    "cv2.destroyAllWindows()"
   ]
  },
  {
   "cell_type": "markdown",
   "id": "3ff8dd2b-20cd-4d97-92ce-ed5ef40f5c38",
   "metadata": {},
   "source": [
    "**Face & Eye Detection using HAAR Cascade Classifiers in Image**"
   ]
  },
  {
   "cell_type": "code",
   "execution_count": 6,
   "id": "0d2f57a4-a63e-4bb1-98dc-4033acf0e7ca",
   "metadata": {},
   "outputs": [
    {
     "name": "stderr",
     "output_type": "stream",
     "text": [
      "<>:11: SyntaxWarning: \"is\" with 'tuple' literal. Did you mean \"==\"?\n",
      "<>:11: SyntaxWarning: \"is\" with 'tuple' literal. Did you mean \"==\"?\n",
      "C:\\Users\\USER\\AppData\\Local\\Temp\\ipykernel_11720\\2836930555.py:11: SyntaxWarning: \"is\" with 'tuple' literal. Did you mean \"==\"?\n",
      "  if faces is ():\n"
     ]
    }
   ],
   "source": [
    "face_classifier = cv2.CascadeClassifier('Haarcascades/haarcascade_frontalface_default.xml')\n",
    "eye_classifier = cv2.CascadeClassifier('Haarcascades/haarcascade_eye.xml')\n",
    "\n",
    "img = cv2.imread('image_examples/Modi.jpg')\n",
    "resized_image = cv2.resize(img,(500,500))\n",
    "gray = cv2.cvtColor(resized_image,cv2.COLOR_BGR2GRAY)\n",
    "\n",
    "faces = face_classifier.detectMultiScale(gray,1.3,5)\n",
    "\n",
    "# When no faces detected, face_classifier returns an empty tuple\n",
    "if faces is ():\n",
    "    print('No Face Found')\n",
    "\n",
    "for (x,y,w,h) in faces:\n",
    "    cv2.rectangle(resized_image,(x,y),(x+w,y+h),(255,0,0),2)\n",
    "    roi_gray = gray[y:y+h,x:x+w]\n",
    "    roi_color = resized_image[y:y+h,x:x+w]\n",
    "    eyes = eye_classifier.detectMultiScale(roi_gray)\n",
    "    for (ex,ey,ew,eh) in eyes:\n",
    "        cv2.rectangle(roi_color,(ex,ey),(ex+ew,ey+eh),(0,255,0),2)\n",
    "\n",
    "cv2.imshow('img',resized_image)\n",
    "cv2.waitKey(0)\n",
    "\n",
    "cv2.destroyAllWindows()"
   ]
  },
  {
   "cell_type": "markdown",
   "id": "abbe4da8-e716-4bc4-a7e8-20ffdc4505e7",
   "metadata": {},
   "source": [
    "**Capture a Video**"
   ]
  },
  {
   "cell_type": "code",
   "execution_count": 11,
   "id": "8976566d-cb64-474e-b089-9a32bf530fd2",
   "metadata": {},
   "outputs": [],
   "source": [
    "# Doing some face Recognition with the webcam\n",
    "\n",
    "import cv2\n",
    "video = cv2.VideoCapture(0) # 0--webcam\n",
    "\n",
    "while True:\n",
    "    check,frame = video.read()\n",
    "    gray = cv2.cvtColor(frame,cv2.COLOR_BGR2GRAY)\n",
    "    cv2.imshow('video',frame)\n",
    "    if cv2.waitKey(1) == ord('q'):\n",
    "        break\n",
    "\n",
    "video.release()\n",
    "cv2.destroyAllWindows()"
   ]
  },
  {
   "cell_type": "markdown",
   "id": "112fc49c-cf34-476a-8741-619e4ac417f8",
   "metadata": {},
   "source": [
    "**Face & Eye Detection Using HAAR Cascade Classifiers**"
   ]
  },
  {
   "cell_type": "code",
   "execution_count": 7,
   "id": "4c8f9680-03de-410c-839a-2673327bc66f",
   "metadata": {},
   "outputs": [],
   "source": [
    "# Defining a function that will do the detections\n",
    "face_cascade = cv2.CascadeClassifier('Haarcascades/haarcascade_frontalface_default.xml')\n",
    "eye_cascade = cv2.CascadeClassifier('Haarcascades/haarcascade_eye.xml')\n",
    "\n",
    "def detect(gray,frame):\n",
    "    faces = face_cascade.detectMultiScale(gray,1.3,5)\n",
    "    for (x,y,w,h) in faces:\n",
    "        cv2.rectangle(frame,(x,y),(x+w,y+h),(255,0,0),2)\n",
    "        roi_gray = gray[y:y+h,x:x+w]\n",
    "        roi_color = frame[y:y+h,x:x+w]\n",
    "        eyes = eye_cascade.detectMultiScale(roi_gray,1.1,3)\n",
    "        for (ex,ey,ew,eh) in eyes:\n",
    "            cv2.rectangle(roi_color,(ex,ey),(ex+ew,ey+eh),(0,255,0),2)\n",
    "\n",
    "    return frame\n",
    "\n",
    "# Doing some face recognition with the webcam\n",
    "video = cv2.VideoCapture(0)\n",
    "\n",
    "while True:\n",
    "    check,frame = video.read()\n",
    "    gray = cv2.cvtColor(frame,cv2.COLOR_BGR2GRAY)\n",
    "    canvas = detect(gray,frame)\n",
    "    cv2.imshow('Video',canvas)\n",
    "    if cv2.waitKey(1)==ord('q'):\n",
    "        break\n",
    "\n",
    "video.release()\n",
    "cv2.destroyAllWindows()"
   ]
  },
  {
   "cell_type": "markdown",
   "id": "4c35ec92-f559-49b1-a0d2-91a576348812",
   "metadata": {},
   "source": [
    "**Pedistrian Detection**"
   ]
  },
  {
   "cell_type": "code",
   "execution_count": 10,
   "id": "96a455fe-a4fb-46ea-acea-73f5cce432f6",
   "metadata": {},
   "outputs": [],
   "source": [
    "import cv2\n",
    "\n",
    "# Create our body classifier\n",
    "body_classifier = cv2.CascadeClassifier('Haarcascades/haarcascade_fullbody.xml')\n",
    "\n",
    "# Initiative video capture for video file\n",
    "cap = cv2.VideoCapture('image_examples/walking.avi')\n",
    "\n",
    "# Loop once video is sucessfully loaded\n",
    "while cap.isOpened():\n",
    "\n",
    "    # Read first frame\n",
    "    check, frame = cap.read()\n",
    "    gray = cv2.cvtColor(frame,cv2.COLOR_BGR2GRAY)\n",
    "    # Pass the frame to our body classifier\n",
    "    bodies = body_classifier.detectMultiScale(gray,1.2,3)\n",
    "\n",
    "    # Extract bounding boxes for any bodies identified\n",
    "    for (x,y,w,h) in bodies:\n",
    "        cv2.rectangle(frame,(x,y),(x+w,y+h),(0,255,255),2)\n",
    "        cv2.imshow('Pedesraians',frame)\n",
    "\n",
    "    if cv2.waitKey(1)==ord('q'):\n",
    "        break\n",
    "\n",
    "cap.release()\n",
    "cv2.destroyAllWindows()"
   ]
  },
  {
   "cell_type": "code",
   "execution_count": 12,
   "id": "d6cdb4c1-3506-4cad-b094-8f97dbad4c0d",
   "metadata": {},
   "outputs": [],
   "source": [
    "import time\n",
    "\n",
    "# Create our body classifier\n",
    "car_classifier = cv2.CascadeClassifier('Haarcascades/haarcascade_car.xml')\n",
    "\n",
    "# Initiate video capture for video file\n",
    "cap = cv2.VideoCapture('image_examples/cars.avi')\n",
    "\n",
    "# Loop once video is sucessfully loaded\n",
    "while cap.isOpened():\n",
    "\n",
    "    time.sleep(.05)\n",
    "    # Read first frame\n",
    "    check,frame = cap.read()\n",
    "    gray = cv2.cvtColor(frame,cv2.COLOR_BGR2GRAY)\n",
    "\n",
    "    # Pass frame to our car classifier\n",
    "    cars = car_classifier.detectMultiScale(gray,1.4,2)\n",
    "\n",
    "    # Extract bounding boxes for any bodies identified\n",
    "    for (x,y,w,h) in cars:\n",
    "        cv2.rectangle(frame,(x,y),(x+w,y+h),(0,255,255),2)\n",
    "        cv2.imshow('Cars',frame)\n",
    "\n",
    "    if cv2.waitKey(1)==ord('q'):\n",
    "        break\n",
    "\n",
    "cap.release()\n",
    "cv2.destroyAllWindows()"
   ]
  },
  {
   "cell_type": "code",
   "execution_count": null,
   "id": "1f7ac0f5-1181-4607-8853-b0b9af8be34e",
   "metadata": {},
   "outputs": [],
   "source": []
  },
  {
   "cell_type": "code",
   "execution_count": null,
   "id": "3566063c-6ccc-4bc4-83da-bf095146d78e",
   "metadata": {},
   "outputs": [],
   "source": []
  },
  {
   "cell_type": "code",
   "execution_count": null,
   "id": "730f094c-d3a5-4629-80d1-85a6775102fe",
   "metadata": {},
   "outputs": [],
   "source": []
  },
  {
   "cell_type": "code",
   "execution_count": null,
   "id": "f096c3a9-7fad-4dcc-b708-b5a687e98c5c",
   "metadata": {},
   "outputs": [],
   "source": []
  },
  {
   "cell_type": "code",
   "execution_count": null,
   "id": "6acaf1c8-094c-4f21-bfac-0431170a805a",
   "metadata": {},
   "outputs": [],
   "source": []
  },
  {
   "cell_type": "code",
   "execution_count": null,
   "id": "0c8969c7-82bd-4ebf-9bd2-0e62efe2e273",
   "metadata": {},
   "outputs": [],
   "source": []
  },
  {
   "cell_type": "code",
   "execution_count": null,
   "id": "c1e1ba47-2073-48b6-b66a-022d4d297365",
   "metadata": {},
   "outputs": [],
   "source": []
  },
  {
   "cell_type": "code",
   "execution_count": null,
   "id": "a6244e27-7761-4e22-9784-88a9b4349b62",
   "metadata": {},
   "outputs": [],
   "source": []
  }
 ],
 "metadata": {
  "kernelspec": {
   "display_name": "Python 3 (ipykernel)",
   "language": "python",
   "name": "python3"
  },
  "language_info": {
   "codemirror_mode": {
    "name": "ipython",
    "version": 3
   },
   "file_extension": ".py",
   "mimetype": "text/x-python",
   "name": "python",
   "nbconvert_exporter": "python",
   "pygments_lexer": "ipython3",
   "version": "3.12.3"
  }
 },
 "nbformat": 4,
 "nbformat_minor": 5
}
